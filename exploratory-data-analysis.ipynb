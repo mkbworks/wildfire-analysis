{
 "cells": [
  {
   "cell_type": "markdown",
   "id": "87d23cce",
   "metadata": {},
   "source": [
    "## Wildfire Trends in California - Exploratory Data Analysis\n",
    "\n",
    "Here, we will use the cleaned dataset to perform exploratory data analysis, extract meaningul observations, build intelligent visualisations to showcase the data and associated patterns."
   ]
  },
  {
   "cell_type": "code",
   "execution_count": 58,
   "id": "c9f2f819",
   "metadata": {},
   "outputs": [],
   "source": [
    "import pandas as pd\n",
    "import numpy as np\n",
    "import plotly.graph_objects as go\n",
    "import plotly.express as px\n",
    "from plotly.subplots import make_subplots"
   ]
  },
  {
   "cell_type": "code",
   "execution_count": 59,
   "id": "f53e9ec4",
   "metadata": {},
   "outputs": [
    {
     "name": "stdout",
     "output_type": "stream",
     "text": [
      "<class 'pandas.core.frame.DataFrame'>\n",
      "RangeIndex: 1442 entries, 0 to 1441\n",
      "Data columns (total 15 columns):\n",
      " #   Column             Non-Null Count  Dtype  \n",
      "---  ------             --------------  -----  \n",
      " 0   AcresBurned        1439 non-null   float64\n",
      " 1   AdminUnit          1442 non-null   object \n",
      " 2   ArchiveYear        1442 non-null   int64  \n",
      " 3   Counties           1442 non-null   object \n",
      " 4   Extinguished       1383 non-null   object \n",
      " 5   Fatalities         21 non-null     float64\n",
      " 6   Latitude           1442 non-null   float64\n",
      " 7   Longitude          1442 non-null   float64\n",
      " 8   MajorIncident      1442 non-null   bool   \n",
      " 9   Name               1442 non-null   object \n",
      " 10  PersonnelInvolved  186 non-null    float64\n",
      " 11  Started            1442 non-null   object \n",
      " 12  WaterTenders       136 non-null    float64\n",
      " 13  fire_duration      1383 non-null   float64\n",
      " 14  AdminUnitCleaned   1441 non-null   object \n",
      "dtypes: bool(1), float64(7), int64(1), object(6)\n",
      "memory usage: 159.3+ KB\n"
     ]
    }
   ],
   "source": [
    "cleaned_df = pd.read_csv(\"Wildfire-Analysis-Cleaned.csv\")\n",
    "cleaned_df.info()"
   ]
  },
  {
   "cell_type": "markdown",
   "id": "57969f32",
   "metadata": {},
   "source": [
    "### Severity of Wildfires\n",
    "\n",
    "To start our exploratory data analysis, lets compute the yearly statistics using the `ArchiveYear` column and determine the severity of wildfires each year and the necessary efforts involved to contain them."
   ]
  },
  {
   "cell_type": "code",
   "execution_count": 60,
   "id": "cdae0762",
   "metadata": {},
   "outputs": [
    {
     "name": "stdout",
     "output_type": "stream",
     "text": [
      "The unique years in the dataset are [2013, 2014, 2015, 2016, 2017, 2018, 2019]\n"
     ]
    },
    {
     "data": {
      "text/html": [
       "<div>\n",
       "<style scoped>\n",
       "    .dataframe tbody tr th:only-of-type {\n",
       "        vertical-align: middle;\n",
       "    }\n",
       "\n",
       "    .dataframe tbody tr th {\n",
       "        vertical-align: top;\n",
       "    }\n",
       "\n",
       "    .dataframe thead th {\n",
       "        text-align: right;\n",
       "    }\n",
       "</style>\n",
       "<table border=\"1\" class=\"dataframe\">\n",
       "  <thead>\n",
       "    <tr style=\"text-align: right;\">\n",
       "      <th></th>\n",
       "      <th>AcresBurned</th>\n",
       "      <th>Fatalities</th>\n",
       "      <th>Latitude</th>\n",
       "      <th>Longitude</th>\n",
       "      <th>MajorIncident</th>\n",
       "      <th>PersonnelInvolved</th>\n",
       "      <th>WaterTenders</th>\n",
       "      <th>fire_duration</th>\n",
       "    </tr>\n",
       "    <tr>\n",
       "      <th>ArchiveYear</th>\n",
       "      <th></th>\n",
       "      <th></th>\n",
       "      <th></th>\n",
       "      <th></th>\n",
       "      <th></th>\n",
       "      <th></th>\n",
       "      <th></th>\n",
       "      <th></th>\n",
       "    </tr>\n",
       "  </thead>\n",
       "  <tbody>\n",
       "    <tr>\n",
       "      <th>2013</th>\n",
       "      <td>500555.0</td>\n",
       "      <td>0.0</td>\n",
       "      <td>5176.147908</td>\n",
       "      <td>-16805.590818</td>\n",
       "      <td>41</td>\n",
       "      <td>18017.0</td>\n",
       "      <td>388.0</td>\n",
       "      <td>484.320833</td>\n",
       "    </tr>\n",
       "    <tr>\n",
       "      <th>2014</th>\n",
       "      <td>305145.0</td>\n",
       "      <td>0.0</td>\n",
       "      <td>2677.185631</td>\n",
       "      <td>-8539.742163</td>\n",
       "      <td>30</td>\n",
       "      <td>4289.0</td>\n",
       "      <td>40.0</td>\n",
       "      <td>726.739583</td>\n",
       "    </tr>\n",
       "    <tr>\n",
       "      <th>2015</th>\n",
       "      <td>357623.0</td>\n",
       "      <td>1.0</td>\n",
       "      <td>3533.320825</td>\n",
       "      <td>-11223.175616</td>\n",
       "      <td>40</td>\n",
       "      <td>4509.0</td>\n",
       "      <td>81.0</td>\n",
       "      <td>575.571528</td>\n",
       "    </tr>\n",
       "    <tr>\n",
       "      <th>2016</th>\n",
       "      <td>456975.0</td>\n",
       "      <td>0.0</td>\n",
       "      <td>5658.129142</td>\n",
       "      <td>-18199.615120</td>\n",
       "      <td>43</td>\n",
       "      <td>4125.0</td>\n",
       "      <td>63.0</td>\n",
       "      <td>1400.629167</td>\n",
       "    </tr>\n",
       "    <tr>\n",
       "      <th>2017</th>\n",
       "      <td>1692756.0</td>\n",
       "      <td>75.0</td>\n",
       "      <td>15932.341499</td>\n",
       "      <td>-51652.457971</td>\n",
       "      <td>92</td>\n",
       "      <td>8468.0</td>\n",
       "      <td>85.0</td>\n",
       "      <td>71330.684722</td>\n",
       "    </tr>\n",
       "  </tbody>\n",
       "</table>\n",
       "</div>"
      ],
      "text/plain": [
       "             AcresBurned  Fatalities      Latitude     Longitude  \\\n",
       "ArchiveYear                                                        \n",
       "2013            500555.0         0.0   5176.147908 -16805.590818   \n",
       "2014            305145.0         0.0   2677.185631  -8539.742163   \n",
       "2015            357623.0         1.0   3533.320825 -11223.175616   \n",
       "2016            456975.0         0.0   5658.129142 -18199.615120   \n",
       "2017           1692756.0        75.0  15932.341499 -51652.457971   \n",
       "\n",
       "             MajorIncident  PersonnelInvolved  WaterTenders  fire_duration  \n",
       "ArchiveYear                                                                 \n",
       "2013                    41            18017.0         388.0     484.320833  \n",
       "2014                    30             4289.0          40.0     726.739583  \n",
       "2015                    40             4509.0          81.0     575.571528  \n",
       "2016                    43             4125.0          63.0    1400.629167  \n",
       "2017                    92             8468.0          85.0   71330.684722  "
      ]
     },
     "execution_count": 60,
     "metadata": {},
     "output_type": "execute_result"
    }
   ],
   "source": [
    "cleaned_year_df = cleaned_df.groupby(['ArchiveYear']).sum(numeric_only=True)\n",
    "unique_years = cleaned_year_df.index.tolist()\n",
    "print(f\"The unique years in the dataset are {unique_years}\")\n",
    "cleaned_year_df.head()"
   ]
  },
  {
   "cell_type": "markdown",
   "id": "382d226d",
   "metadata": {},
   "source": [
    "Lets see the severity of these fires each year by plotting the total acres of land burned and the number of incidents reported against each calendar year."
   ]
  },
  {
   "cell_type": "code",
   "execution_count": 61,
   "id": "61e3d57a",
   "metadata": {},
   "outputs": [
    {
     "data": {
      "application/vnd.plotly.v1+json": {
       "config": {
        "plotlyServerURL": "https://plot.ly"
       },
       "data": [
        {
         "marker": {
          "color": {
           "bdata": "AAAAACyNHkEAAAAA5J8SQQAAAADc0xVBAAAAADzkG0EAAAAAVNQ5QQAAAIBbe0lBAAAAADBoEUE=",
           "dtype": "f8"
          },
          "colorbar": {
           "title": {
            "text": "Total Acres Burned"
           },
           "x": 1.12,
           "xanchor": "left"
          },
          "colorscale": [
           [
            0,
            "#fbe7c6"
           ],
           [
            0.25,
            "#f5b461"
           ],
           [
            0.5,
            "#ec7b3a"
           ],
           [
            0.75,
            "#d33f21"
           ],
           [
            1,
            "#a50026"
           ]
          ],
          "showscale": true
         },
         "name": "Total Acres Burned",
         "opacity": 0.78,
         "type": "bar",
         "x": [
          2013,
          2014,
          2015,
          2016,
          2017,
          2018,
          2019
         ],
         "y": {
          "bdata": "AAAAACyNHkEAAAAA5J8SQQAAAADc0xVBAAAAADzkG0EAAAAAVNQ5QQAAAIBbe0lBAAAAADBoEUE=",
          "dtype": "f8"
         }
        },
        {
         "marker": {
          "color": "red",
          "line": {
           "color": "black",
           "width": 2
          },
          "size": 8
         },
         "mode": "lines+markers",
         "name": "Number of Wildfire Incidents",
         "type": "scatter",
         "x": [
          2013,
          2014,
          2015,
          2016,
          2017,
          2018,
          2019
         ],
         "y": {
          "bdata": "jABHAF0AlwCuATQB+QA=",
          "dtype": "i2"
         },
         "yaxis": "y2"
        }
       ],
       "layout": {
        "bargap": 0.2,
        "height": 700,
        "legend": {
         "x": 0.01,
         "y": 0.99
        },
        "template": {
         "data": {
          "bar": [
           {
            "error_x": {
             "color": "#2a3f5f"
            },
            "error_y": {
             "color": "#2a3f5f"
            },
            "marker": {
             "line": {
              "color": "white",
              "width": 0.5
             },
             "pattern": {
              "fillmode": "overlay",
              "size": 10,
              "solidity": 0.2
             }
            },
            "type": "bar"
           }
          ],
          "barpolar": [
           {
            "marker": {
             "line": {
              "color": "white",
              "width": 0.5
             },
             "pattern": {
              "fillmode": "overlay",
              "size": 10,
              "solidity": 0.2
             }
            },
            "type": "barpolar"
           }
          ],
          "carpet": [
           {
            "aaxis": {
             "endlinecolor": "#2a3f5f",
             "gridcolor": "#C8D4E3",
             "linecolor": "#C8D4E3",
             "minorgridcolor": "#C8D4E3",
             "startlinecolor": "#2a3f5f"
            },
            "baxis": {
             "endlinecolor": "#2a3f5f",
             "gridcolor": "#C8D4E3",
             "linecolor": "#C8D4E3",
             "minorgridcolor": "#C8D4E3",
             "startlinecolor": "#2a3f5f"
            },
            "type": "carpet"
           }
          ],
          "choropleth": [
           {
            "colorbar": {
             "outlinewidth": 0,
             "ticks": ""
            },
            "type": "choropleth"
           }
          ],
          "contour": [
           {
            "colorbar": {
             "outlinewidth": 0,
             "ticks": ""
            },
            "colorscale": [
             [
              0,
              "#0d0887"
             ],
             [
              0.1111111111111111,
              "#46039f"
             ],
             [
              0.2222222222222222,
              "#7201a8"
             ],
             [
              0.3333333333333333,
              "#9c179e"
             ],
             [
              0.4444444444444444,
              "#bd3786"
             ],
             [
              0.5555555555555556,
              "#d8576b"
             ],
             [
              0.6666666666666666,
              "#ed7953"
             ],
             [
              0.7777777777777778,
              "#fb9f3a"
             ],
             [
              0.8888888888888888,
              "#fdca26"
             ],
             [
              1,
              "#f0f921"
             ]
            ],
            "type": "contour"
           }
          ],
          "contourcarpet": [
           {
            "colorbar": {
             "outlinewidth": 0,
             "ticks": ""
            },
            "type": "contourcarpet"
           }
          ],
          "heatmap": [
           {
            "colorbar": {
             "outlinewidth": 0,
             "ticks": ""
            },
            "colorscale": [
             [
              0,
              "#0d0887"
             ],
             [
              0.1111111111111111,
              "#46039f"
             ],
             [
              0.2222222222222222,
              "#7201a8"
             ],
             [
              0.3333333333333333,
              "#9c179e"
             ],
             [
              0.4444444444444444,
              "#bd3786"
             ],
             [
              0.5555555555555556,
              "#d8576b"
             ],
             [
              0.6666666666666666,
              "#ed7953"
             ],
             [
              0.7777777777777778,
              "#fb9f3a"
             ],
             [
              0.8888888888888888,
              "#fdca26"
             ],
             [
              1,
              "#f0f921"
             ]
            ],
            "type": "heatmap"
           }
          ],
          "histogram": [
           {
            "marker": {
             "pattern": {
              "fillmode": "overlay",
              "size": 10,
              "solidity": 0.2
             }
            },
            "type": "histogram"
           }
          ],
          "histogram2d": [
           {
            "colorbar": {
             "outlinewidth": 0,
             "ticks": ""
            },
            "colorscale": [
             [
              0,
              "#0d0887"
             ],
             [
              0.1111111111111111,
              "#46039f"
             ],
             [
              0.2222222222222222,
              "#7201a8"
             ],
             [
              0.3333333333333333,
              "#9c179e"
             ],
             [
              0.4444444444444444,
              "#bd3786"
             ],
             [
              0.5555555555555556,
              "#d8576b"
             ],
             [
              0.6666666666666666,
              "#ed7953"
             ],
             [
              0.7777777777777778,
              "#fb9f3a"
             ],
             [
              0.8888888888888888,
              "#fdca26"
             ],
             [
              1,
              "#f0f921"
             ]
            ],
            "type": "histogram2d"
           }
          ],
          "histogram2dcontour": [
           {
            "colorbar": {
             "outlinewidth": 0,
             "ticks": ""
            },
            "colorscale": [
             [
              0,
              "#0d0887"
             ],
             [
              0.1111111111111111,
              "#46039f"
             ],
             [
              0.2222222222222222,
              "#7201a8"
             ],
             [
              0.3333333333333333,
              "#9c179e"
             ],
             [
              0.4444444444444444,
              "#bd3786"
             ],
             [
              0.5555555555555556,
              "#d8576b"
             ],
             [
              0.6666666666666666,
              "#ed7953"
             ],
             [
              0.7777777777777778,
              "#fb9f3a"
             ],
             [
              0.8888888888888888,
              "#fdca26"
             ],
             [
              1,
              "#f0f921"
             ]
            ],
            "type": "histogram2dcontour"
           }
          ],
          "mesh3d": [
           {
            "colorbar": {
             "outlinewidth": 0,
             "ticks": ""
            },
            "type": "mesh3d"
           }
          ],
          "parcoords": [
           {
            "line": {
             "colorbar": {
              "outlinewidth": 0,
              "ticks": ""
             }
            },
            "type": "parcoords"
           }
          ],
          "pie": [
           {
            "automargin": true,
            "type": "pie"
           }
          ],
          "scatter": [
           {
            "fillpattern": {
             "fillmode": "overlay",
             "size": 10,
             "solidity": 0.2
            },
            "type": "scatter"
           }
          ],
          "scatter3d": [
           {
            "line": {
             "colorbar": {
              "outlinewidth": 0,
              "ticks": ""
             }
            },
            "marker": {
             "colorbar": {
              "outlinewidth": 0,
              "ticks": ""
             }
            },
            "type": "scatter3d"
           }
          ],
          "scattercarpet": [
           {
            "marker": {
             "colorbar": {
              "outlinewidth": 0,
              "ticks": ""
             }
            },
            "type": "scattercarpet"
           }
          ],
          "scattergeo": [
           {
            "marker": {
             "colorbar": {
              "outlinewidth": 0,
              "ticks": ""
             }
            },
            "type": "scattergeo"
           }
          ],
          "scattergl": [
           {
            "marker": {
             "colorbar": {
              "outlinewidth": 0,
              "ticks": ""
             }
            },
            "type": "scattergl"
           }
          ],
          "scattermap": [
           {
            "marker": {
             "colorbar": {
              "outlinewidth": 0,
              "ticks": ""
             }
            },
            "type": "scattermap"
           }
          ],
          "scattermapbox": [
           {
            "marker": {
             "colorbar": {
              "outlinewidth": 0,
              "ticks": ""
             }
            },
            "type": "scattermapbox"
           }
          ],
          "scatterpolar": [
           {
            "marker": {
             "colorbar": {
              "outlinewidth": 0,
              "ticks": ""
             }
            },
            "type": "scatterpolar"
           }
          ],
          "scatterpolargl": [
           {
            "marker": {
             "colorbar": {
              "outlinewidth": 0,
              "ticks": ""
             }
            },
            "type": "scatterpolargl"
           }
          ],
          "scatterternary": [
           {
            "marker": {
             "colorbar": {
              "outlinewidth": 0,
              "ticks": ""
             }
            },
            "type": "scatterternary"
           }
          ],
          "surface": [
           {
            "colorbar": {
             "outlinewidth": 0,
             "ticks": ""
            },
            "colorscale": [
             [
              0,
              "#0d0887"
             ],
             [
              0.1111111111111111,
              "#46039f"
             ],
             [
              0.2222222222222222,
              "#7201a8"
             ],
             [
              0.3333333333333333,
              "#9c179e"
             ],
             [
              0.4444444444444444,
              "#bd3786"
             ],
             [
              0.5555555555555556,
              "#d8576b"
             ],
             [
              0.6666666666666666,
              "#ed7953"
             ],
             [
              0.7777777777777778,
              "#fb9f3a"
             ],
             [
              0.8888888888888888,
              "#fdca26"
             ],
             [
              1,
              "#f0f921"
             ]
            ],
            "type": "surface"
           }
          ],
          "table": [
           {
            "cells": {
             "fill": {
              "color": "#EBF0F8"
             },
             "line": {
              "color": "white"
             }
            },
            "header": {
             "fill": {
              "color": "#C8D4E3"
             },
             "line": {
              "color": "white"
             }
            },
            "type": "table"
           }
          ]
         },
         "layout": {
          "annotationdefaults": {
           "arrowcolor": "#2a3f5f",
           "arrowhead": 0,
           "arrowwidth": 1
          },
          "autotypenumbers": "strict",
          "coloraxis": {
           "colorbar": {
            "outlinewidth": 0,
            "ticks": ""
           }
          },
          "colorscale": {
           "diverging": [
            [
             0,
             "#8e0152"
            ],
            [
             0.1,
             "#c51b7d"
            ],
            [
             0.2,
             "#de77ae"
            ],
            [
             0.3,
             "#f1b6da"
            ],
            [
             0.4,
             "#fde0ef"
            ],
            [
             0.5,
             "#f7f7f7"
            ],
            [
             0.6,
             "#e6f5d0"
            ],
            [
             0.7,
             "#b8e186"
            ],
            [
             0.8,
             "#7fbc41"
            ],
            [
             0.9,
             "#4d9221"
            ],
            [
             1,
             "#276419"
            ]
           ],
           "sequential": [
            [
             0,
             "#0d0887"
            ],
            [
             0.1111111111111111,
             "#46039f"
            ],
            [
             0.2222222222222222,
             "#7201a8"
            ],
            [
             0.3333333333333333,
             "#9c179e"
            ],
            [
             0.4444444444444444,
             "#bd3786"
            ],
            [
             0.5555555555555556,
             "#d8576b"
            ],
            [
             0.6666666666666666,
             "#ed7953"
            ],
            [
             0.7777777777777778,
             "#fb9f3a"
            ],
            [
             0.8888888888888888,
             "#fdca26"
            ],
            [
             1,
             "#f0f921"
            ]
           ],
           "sequentialminus": [
            [
             0,
             "#0d0887"
            ],
            [
             0.1111111111111111,
             "#46039f"
            ],
            [
             0.2222222222222222,
             "#7201a8"
            ],
            [
             0.3333333333333333,
             "#9c179e"
            ],
            [
             0.4444444444444444,
             "#bd3786"
            ],
            [
             0.5555555555555556,
             "#d8576b"
            ],
            [
             0.6666666666666666,
             "#ed7953"
            ],
            [
             0.7777777777777778,
             "#fb9f3a"
            ],
            [
             0.8888888888888888,
             "#fdca26"
            ],
            [
             1,
             "#f0f921"
            ]
           ]
          },
          "colorway": [
           "#636efa",
           "#EF553B",
           "#00cc96",
           "#ab63fa",
           "#FFA15A",
           "#19d3f3",
           "#FF6692",
           "#B6E880",
           "#FF97FF",
           "#FECB52"
          ],
          "font": {
           "color": "#2a3f5f"
          },
          "geo": {
           "bgcolor": "white",
           "lakecolor": "white",
           "landcolor": "white",
           "showlakes": true,
           "showland": true,
           "subunitcolor": "#C8D4E3"
          },
          "hoverlabel": {
           "align": "left"
          },
          "hovermode": "closest",
          "mapbox": {
           "style": "light"
          },
          "paper_bgcolor": "white",
          "plot_bgcolor": "white",
          "polar": {
           "angularaxis": {
            "gridcolor": "#EBF0F8",
            "linecolor": "#EBF0F8",
            "ticks": ""
           },
           "bgcolor": "white",
           "radialaxis": {
            "gridcolor": "#EBF0F8",
            "linecolor": "#EBF0F8",
            "ticks": ""
           }
          },
          "scene": {
           "xaxis": {
            "backgroundcolor": "white",
            "gridcolor": "#DFE8F3",
            "gridwidth": 2,
            "linecolor": "#EBF0F8",
            "showbackground": true,
            "ticks": "",
            "zerolinecolor": "#EBF0F8"
           },
           "yaxis": {
            "backgroundcolor": "white",
            "gridcolor": "#DFE8F3",
            "gridwidth": 2,
            "linecolor": "#EBF0F8",
            "showbackground": true,
            "ticks": "",
            "zerolinecolor": "#EBF0F8"
           },
           "zaxis": {
            "backgroundcolor": "white",
            "gridcolor": "#DFE8F3",
            "gridwidth": 2,
            "linecolor": "#EBF0F8",
            "showbackground": true,
            "ticks": "",
            "zerolinecolor": "#EBF0F8"
           }
          },
          "shapedefaults": {
           "line": {
            "color": "#2a3f5f"
           }
          },
          "ternary": {
           "aaxis": {
            "gridcolor": "#DFE8F3",
            "linecolor": "#A2B1C6",
            "ticks": ""
           },
           "baxis": {
            "gridcolor": "#DFE8F3",
            "linecolor": "#A2B1C6",
            "ticks": ""
           },
           "bgcolor": "white",
           "caxis": {
            "gridcolor": "#DFE8F3",
            "linecolor": "#A2B1C6",
            "ticks": ""
           }
          },
          "title": {
           "x": 0.05
          },
          "xaxis": {
           "automargin": true,
           "gridcolor": "#EBF0F8",
           "linecolor": "#EBF0F8",
           "ticks": "",
           "title": {
            "standoff": 15
           },
           "zerolinecolor": "#EBF0F8",
           "zerolinewidth": 2
          },
          "yaxis": {
           "automargin": true,
           "gridcolor": "#EBF0F8",
           "linecolor": "#EBF0F8",
           "ticks": "",
           "title": {
            "standoff": 15
           },
           "zerolinecolor": "#EBF0F8",
           "zerolinewidth": 2
          }
         }
        },
        "title": {
         "text": "Total acres of land burned due to wildfires in California"
        },
        "width": 1200,
        "xaxis": {
         "title": {
          "text": "Year"
         }
        },
        "yaxis": {
         "color": "black",
         "showgrid": false,
         "showline": true,
         "title": {
          "text": "Total Acres of Land Burned"
         },
         "zeroline": true
        },
        "yaxis2": {
         "color": "black",
         "overlaying": "y",
         "showgrid": false,
         "showline": true,
         "side": "right",
         "title": {
          "text": "Total Number of Wildfire Incidents"
         },
         "zeroline": true
        }
       }
      }
     },
     "metadata": {},
     "output_type": "display_data"
    }
   ],
   "source": [
    "fig1 = go.Figure()\n",
    "total_acres = cleaned_year_df['AcresBurned'].values\n",
    "total_incidents = cleaned_df.groupby(['ArchiveYear']).size().values\n",
    "color_intensities = ['#fbe7c6', '#f5b461', '#ec7b3a', '#d33f21', '#a50026']\n",
    "fig1.add_trace(go.Bar(\n",
    "    x=unique_years,\n",
    "    y=total_acres,\n",
    "    name=\"Total Acres Burned\",\n",
    "    marker=dict(\n",
    "        color=total_acres,\n",
    "        colorscale=color_intensities,\n",
    "        showscale=True,\n",
    "        colorbar=dict(\n",
    "            title='Total Acres Burned',\n",
    "            x=1.12,\n",
    "            xanchor='left'\n",
    "        )\n",
    "    ),\n",
    "    opacity=0.78\n",
    "))\n",
    "\n",
    "fig1.add_trace(go.Scatter(\n",
    "    x=unique_years,\n",
    "    y=total_incidents,\n",
    "    name=\"Number of Wildfire Incidents\",\n",
    "    yaxis=\"y2\",\n",
    "    mode=\"lines+markers\",\n",
    "    marker=dict(size=8, color='red', line=dict(width=2, color='black'))\n",
    "))\n",
    "\n",
    "fig1.update_layout(\n",
    "    title=\"Total acres of land burned due to wildfires in California\",\n",
    "    xaxis=dict(title=\"Year\"),\n",
    "    yaxis=dict(\n",
    "        title=\"Total Acres of Land Burned\",\n",
    "        color='black',\n",
    "        showgrid=False,\n",
    "        showline=True,\n",
    "        zeroline=True\n",
    "    ),\n",
    "    yaxis2=dict(\n",
    "        title=\"Total Number of Wildfire Incidents\",\n",
    "        overlaying=\"y\",\n",
    "        side=\"right\",\n",
    "        color='black',\n",
    "        showgrid=False,\n",
    "        showline=True,\n",
    "        zeroline=True\n",
    "    ),\n",
    "    legend=dict(x=0.01, y=0.99),\n",
    "    template=\"plotly_white\",\n",
    "    bargap=0.2,\n",
    "    width=1200,\n",
    "    height=700\n",
    ")\n",
    "\n",
    "fig1.show()"
   ]
  },
  {
   "cell_type": "code",
   "execution_count": 62,
   "id": "23ee6dae",
   "metadata": {},
   "outputs": [
    {
     "name": "stdout",
     "output_type": "stream",
     "text": [
      "Percentage of number of incidents in year 2018 to that of year 2017: 71.63%\n",
      "Percentage of land burned in year 2018 to that of year 2017: 197.31%\n"
     ]
    }
   ],
   "source": [
    "percent2018_over2017_incidents = (total_incidents[5] / total_incidents[4]) * 100\n",
    "percent2018_over2017_acresBurned = (total_acres[5] / total_acres[4]) * 100\n",
    "\n",
    "print(f\"Percentage of number of incidents in year 2018 to that of year 2017: {percent2018_over2017_incidents:.2f}%\")\n",
    "print(f\"Percentage of land burned in year 2018 to that of year 2017: {percent2018_over2017_acresBurned:.2f}%\")"
   ]
  },
  {
   "cell_type": "markdown",
   "id": "7506e9dd",
   "metadata": {},
   "source": [
    "#### Observation 1\n",
    "\n",
    " >\n",
    " > During years 2017 and 2018, a large amount of land area was burned during the wildfires, compared to any other years.\n",
    " >\n",
    "\n",
    "#### Observation 2\n",
    "\n",
    " >\n",
    " > The total number of incidents in 2018 was **28%** less than the number of incidents in 2017.\n",
    " >\n",
    " > The total land burned in 2018 was **97%** more than the total land burned due to wildfires in 2017.\n",
    " >\n",
    "\n",
    " This tells us that the wildfires had much more devastating impact in 2018 compared to 2017."
   ]
  },
  {
   "cell_type": "markdown",
   "id": "b47cc8d8",
   "metadata": {},
   "source": [
    "### Major vs Minor Incidents over the years\n",
    "\n",
    "Lets further understand severity and occurrence of wildfires by observing the spread of incident types across these years."
   ]
  },
  {
   "cell_type": "code",
   "execution_count": 63,
   "id": "928e4788",
   "metadata": {},
   "outputs": [
    {
     "data": {
      "application/vnd.plotly.v1+json": {
       "config": {
        "plotlyServerURL": "https://plot.ly"
       },
       "data": [
        {
         "alignmentgroup": "True",
         "hovertemplate": "MajorIncident=False<br>Year=%{x}<br>Total Acres Burned=%{y}<extra></extra>",
         "legendgroup": "False",
         "marker": {
          "color": "#12C617",
          "pattern": {
           "shape": ""
          }
         },
         "name": "False",
         "offsetgroup": "False",
         "orientation": "v",
         "showlegend": true,
         "textposition": "auto",
         "type": "bar",
         "x": {
          "bdata": "3QfdB90H3QfdB90H3QfdB90H3QfdB90H3QfdB90H3QfdB90H3QfdB90H3QfdB90H3QfdB90H3QfdB90H3QfdB90H3QfdB90H3QfdB90H3QfdB90H3QfdB90H3QfdB90H3QfdB90H3QfdB90H3QfdB90H3QfdB90H3QfdB90H3QfdB90H3QfdB90H3QfdB90H3QfdB90H3QfdB90H3QfdB90H3QfdB90H3QfdB90H3QfdB90H3QfdB90H3QfdB90H3QfdB90H3gfeB94H3gfeB94H3gfeB94H3gfeB94H3gfeB94H3gfeB94H3gfeB94H3gfeB94H3gfeB94H3gfeB94H3gfeB94H3gfeB94H3gfeB94H3gfeB98H3wffB98H3wffB98H3wffB98H3wffB98H3wffB98H3wffB98H3wffB98H3wffB98H3wffB98H3wffB98H3wffB98H3wffB98H3wffB98H3wffB98H3wffB98H3wffB98H3wffB98H3wfgB+AH4AfgB+AH4AfgB+AH4AfgB+AH4AfgB+AH4AfgB+AH4AfgB+AH4AfgB+AH4AfgB+AH4AfgB+AH4AfgB+AH4AfgB+AH4AfgB+AH4AfgB+AH4AfgB+AH4AfgB+AH4AfgB+AH4AfgB+AH4AfgB+AH4AfgB+AH4AfgB+AH4AfgB+AH4AfgB+AH4AfgB+AH4AfgB+AH4AfgB+AH4AfgB+AH4AfgB+AH4AfgB+AH4AfgB+AH4AfgB+AH4AfgB+AH4AfgB+AH4AfgB+AH4AfgB+AH4AfgB+AH4AfhB+EH4QfhB+EH4QfhB+EH4QfhB+EH4QfhB+EH4QfhB+EH4QfhB+EH4QfhB+EH4QfhB+EH4QfhB+EH4QfhB+EH4QfhB+EH4QfhB+EH4QfhB+EH4QfhB+EH4QfhB+EH4QfhB+EH4QfhB+EH4QfhB+EH4QfhB+EH4QfhB+EH4QfhB+EH4QfhB+EH4QfhB+EH4QfhB+EH4QfhB+EH4QfhB+EH4QfhB+EH4QfhB+EH4QfhB+EH4QfhB+EH4QfhB+EH4QfhB+EH4QfhB+EH4QfhB+EH4QfhB+EH4QfhB+EH4QfhB+EH4QfhB+EH4QfhB+EH4QfhB+EH4QfhB+EH4QfhB+EH4QfhB+EH4QfhB+EH4QfhB+EH4QfhB+EH4QfhB+EH4QfhB+EH4QfhB+EH4QfhB+EH4QfhB+EH4QfhB+EH4QfhB+EH4QfhB+EH4QfhB+EH4QfhB+EH4QfhB+EH4QfhB+EH4QfhB+EH4QfhB+EH4QfhB+EH4QfhB+EH4QfhB+EH4QfhB+EH4QfhB+EH4QfhB+EH4QfhB+EH4QfhB+EH4QfhB+EH4QfhB+EH4QfhB+EH4QfhB+EH4QfhB+EH4QfhB+EH4QfhB+EH4QfhB+EH4QfhB+EH4QfhB+EH4QfhB+EH4QfhB+EH4QfhB+EH4QfhB+EH4QfhB+EH4QfhB+EH4QfhB+EH4QfhB+EH4QfhB+EH4QfhB+EH4QfhB+EH4QfhB+EH4QfhB+EH4QfhB+EH4QfhB+EH4QfhB+EH4QfhB+EH4QfhB+EH4QfhB+EH4QfhB+EH4QfhB+EH4QfhB+EH4QfhB+EH4QfhB+EH4QfhB+EH4QfhB+EH4QfhB+EH4QfhB+EH4QfhB+EH4QfhB+EH4QfhB+EH4QfhB+EH4QfhB+EH4QfhB+EH4gfiB+IH4gfiB+IH4gfiB+IH4gfiB+IH4gfiB+IH4gfiB+IH4gfiB+IH4gfiB+IH4gfiB+IH4gfiB+IH4gfiB+IH4gfiB+IH4gfiB+IH4gfiB+IH4gfiB+IH4gfiB+IH4gfiB+IH4gfiB+IH4gfiB+IH4gfiB+IH4gfiB+IH4gfiB+IH4gfiB+IH4gfiB+IH4gfiB+IH4gfiB+IH4gfiB+IH4gfiB+IH4gfiB+IH4gfiB+IH4gfiB+IH4gfiB+IH4gfiB+IH4gfiB+IH4gfiB+IH4gfiB+IH4gfiB+IH4gfiB+IH4gfiB+IH4gfiB+IH4gfiB+IH4gfiB+IH4gfiB+IH4gfiB+IH4gfiB+IH4gfiB+IH4gfiB+IH4gfiB+IH4gfiB+IH4gfiB+IH4gfiB+IH4gfiB+IH4gfiB+IH4gfiB+IH4gfiB+IH4gfiB+IH4gfiB+IH4gfiB+IH4gfiB+IH4gfiB+IH4gfiB+IH4gfiB+IH4gfiB+IH4gfiB+IH4gfiB+IH4gfiB+IH4gfiB+IH4gfiB+IH4gfiB+IH4gfiB+IH4gfiB+IH4gfiB+IH4gfiB+IH4gfiB+IH4gfiB+IH4gfiB+IH4gfiB+IH4gfiB+IH4gfiB+MH4wfjB+MH4wfjB+MH4wfjB+MH4wfjB+MH4wfjB+MH4wfjB+MH4wfjB+MH4wfjB+MH4wfjB+MH4wfjB+MH4wfjB+MH4wfjB+MH4wfjB+MH4wfjB+MH4wfjB+MH4wfjB+MH4wfjB+MH4wfjB+MH4wfjB+MH4wfjB+MH4wfjB+MH4wfjB+MH4wfjB+MH4wfjB+MH4wfjB+MH4wfjB+MH4wfjB+MH4wfjB+MH4wfjB+MH4wfjB+MH4wfjB+MH4wfjB+MH4wfjB+MH4wfjB+MH4wfjB+MH4wfjB+MH4wfjB+MH4wfjB+MH4wfjB+MH4wfjB+MH4wfjB+MH4wfjB+MH4wfjB+MH4wfjB+MH4wfjB+MH4wfjB+MH4wfjB+MH4wfjB+MH4wfjB+MH4wfjB+MH4wfjB+MH4wfjB+MH4wfjB+MH4wfjB+MH4wfjB+MH4wfjB+MH4wfjB+MH4wfjB+MH4wfjB+MH4wfjB+MH4wfjB+MH4wfjB+MH4wfjB+MH4wfjB+MH4wfjB+MH4wfjB+MH4wfjB+MH4wfjB+MH4wfjB+MH4wfjB+MH4wfjB+MH4wfjB+MH4wfjB+MH",
          "dtype": "i2"
         },
         "xaxis": "x",
         "y": {
          "bdata": "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",
          "dtype": "f8"
         },
         "yaxis": "y"
        },
        {
         "alignmentgroup": "True",
         "hovertemplate": "MajorIncident=True<br>Year=%{x}<br>Total Acres Burned=%{y}<extra></extra>",
         "legendgroup": "True",
         "marker": {
          "color": "#F60700",
          "pattern": {
           "shape": ""
          }
         },
         "name": "True",
         "offsetgroup": "True",
         "orientation": "v",
         "showlegend": true,
         "textposition": "auto",
         "type": "bar",
         "x": {
          "bdata": "3QfdB90H3QfdB90H3QfdB90H3QfdB90H3QfdB90H3QfdB90H3QfdB90H3QfdB90H3QfdB90H3QfdB90H3QfdB90H3QfdB90H3QfdB90H3QfdB94H3gfeB94H3gfeB94H3gfeB94H3gfeB94H3gfeB94H3gfeB94H3gfeB94H3gfeB94H3gfeB94H3gfeB98H3wffB98H3wffB98H3wffB98H3wffB98H3wffB98H3wffB98H3wffB98H3wffB98H3wffB98H3wffB98H3wffB98H3wffB98H3wffB98H4AfgB+AH4AfgB+AH4AfgB+AH4AfgB+AH4AfgB+AH4AfgB+AH4AfgB+AH4AfgB+AH4AfgB+AH4AfgB+AH4AfgB+AH4AfgB+AH4AfgB+AH4AfgB+AH4AfhB+EH4QfhB+EH4QfhB+EH4QfhB+EH4QfhB+EH4QfhB+EH4QfhB+EH4QfhB+EH4QfhB+EH4QfhB+EH4QfhB+EH4QfhB+EH4QfhB+EH4QfhB+EH4QfhB+EH4QfhB+EH4QfhB+EH4QfhB+EH4QfhB+EH4QfhB+EH4QfhB+EH4QfhB+EH4QfhB+EH4QfhB+EH4QfhB+EH4QfhB+EH4QfhB+EH4QfhB+EH4QfhB+EH4QfhB+EH4QfhB+EH4gfiB+IH4gfiB+IH4gfiB+IH4gfiB+IH4gfiB+IH4gfiB+IH4gfiB+IH4gfiB+IH4gfiB+IH4gfiB+IH4gfiB+IH4gfiB+IH4gfiB+IH4gfiB+IH4gfiB+IH4gfiB+IH4gfiB+IH4gfiB+IH4gfiB+IH4gfiB+IH4gfiB+IH4gfiB+IH4gfiB+IH4gfiB+IH4wfjB+MH4wfjB+MH4wfjB+MH4wfjB+MH4wfjB+MH4wfjB+MH4wfjB+MH4wfjB+MH4wfjB+MH4wfjBw==",
          "dtype": "i2"
         },
         "xaxis": "x",
         "y": {
          "bdata": "AAAAAADR00AAAAAAgFLGQAAAAAAAib9AAAAAAACPu0AAAAAAADW7QAAAAAAA+rBAAAAAAAD6sEAAAAAAAGKrQAAAAAAAvKhAAAAAAABOqEAAAAAAALqlQAAAAAAAPKNAAAAAAACwmkAAAAAAANyTQAAAAAAAQIZAAAAAAACwgEAAAAAAACB+QAAAAAAAYHlAAAAAAACAd0AAAAAAABBzQAAAAAAAoHJAAAAAAABwcEAAAAAAACBrQAAAAAAAgGhAAAAAAADAZ0AAAAAAAEBfQAAAAAAAAF5AAAAAAAAAXUAAAAAAAABXQAAAAAAAwFZAAAAAAAAAVEAAAAAAAMBSQAAAAAAAwFJAAAAAAACAUUAAAAAAAIBJQAAAAAAAAEdAAAAAAAAAREAAAAAAAAA8QAAAAAAAADxAAAAAAAAAPEAAAAAAAAA8QAAAAABQ2/dAAAAAAACo30AAAAAAgLDJQAAAAACAushAAAAAAABYuUAAAAAAAPe0QAAAAAAAzLBAAAAAAADMsEAAAAAAAJCwQAAAAAAAkLBAAAAAAAC+oEAAAAAAACyfQAAAAAAAMJhAAAAAAAD0lkAAAAAAAHyVQAAAAAAAwINAAAAAAAAgg0AAAAAAACCCQAAAAAAAIIBAAAAAAAAAeUAAAAAAAMB3QAAAAAAAAHRAAAAAAADgbkAAAAAAACBrQAAAAAAAQGBAAAAAAABAXEAAAAAAAEBVQAAAAAAAAFRAAAAAAADAUkAAAAAAAABEQAAAAADg8/BAAAAAAICH2EAAAAAAgIfYQAAAAAAAmrBAAAAAAAAYpUAAAAAAAByjQAAAAAAAAKJAAAAAAAD4kEAAAAAAAGSQQAAAAAAASJBAAAAAAADAjEAAAAAAAAiFQAAAAAAA8IRAAAAAAADgekAAAAAAAAB5QAAAAAAA4GpAAAAAAACAakAAAAAAAIBpQAAAAAAAwGNAAAAAAADAY0AAAAAAAMBiQAAAAAAAQGJAAAAAAAAAYEAAAAAAAIBcQAAAAAAAgFtAAAAAAABAW0AAAAAAAABbQAAAAAAAwFdAAAAAAACAVUAAAAAAAMBSQAAAAAAAwFJAAAAAAAAAUkAAAAAAAIBNQAAAAAAAAEtAAAAAAAAAREAAAAAAAABDQAAAAAAAADhAAAAAAAAANUAAAAAAAAA0QAAAAAAAADJAAAAAAPggAEEAAAAAAKHmQAAAAABAtuFAAAAAAACuv0AAAAAAALm9QAAAAAAAMr1AAAAAAACKu0AAAAAAAGO2QAAAAAAADrZAAAAAAAAOtkAAAAAAAHqxQAAAAAAAsq5AAAAAAABIrkAAAAAAAACnQAAAAAAAHqRAAAAAAACCoUAAAAAAAOSbQAAAAAAALJhAAAAAAADgkEAAAAAAAJCKQAAAAAAAMIZAAAAAAAC4gkAAAAAAAAB9QAAAAAAAIHxAAAAAAACQe0AAAAAAAOBqQAAAAAAAQGpAAAAAAAAAZkAAAAAAAMBjQAAAAAAAYGFAAAAAAADAXkAAAAAAAABWQAAAAAAAQFVAAAAAAACAUUAAAAAAAEBRQAAAAAAAQFBAAAAAAACATEAAAAAAAABJQAAAAAAAgEZAAAAAAAAAPkAAAAAAAAA8QAAAAAAAADpAAAAAAAAAOUAAAAAAlDQRQQAAAACUNBFBAAAAACD680AAAAAAgJ3rQAAAAACAnetAAAAAAAA16UAAAAAAADXpQAAAAAAg3+dAAAAAAOD44UAAAAAA4PjhQAAAAACA2eFAAAAAAGDV4UAAAAAAwAPcQAAAAABA89BAAAAAAICBzkAAAAAAgDPEQAAAAACAgsNAAAAAAIAAwkAAAAAAgHDAQAAAAAAAB7hAAAAAAACht0AAAAAAAJG3QAAAAAAAarZAAAAAAAAEsEAAAAAAAESuQAAAAAAAuqFAAAAAAAA+oUAAAAAAABCgQAAAAAAAxJlAAAAAAAD4mEAAAAAAAAiYQAAAAAAAXJZAAAAAAABQkEAAAAAAACyQQAAAAAAAGI9AAAAAAAAgjEAAAAAAAKiJQAAAAAAAkIVAAAAAAABAhUAAAAAAALCDQAAAAAAACIFAAAAAAABQfUAAAAAAAGB6QAAAAAAAAHlAAAAAAACAeEAAAAAAAHB4QAAAAAAAQHVAAAAAAAAwdUAAAAAAACB1QAAAAAAAUHRAAAAAAACgbkAAAAAAACBsQAAAAAAAAGlAAAAAAACAZkAAAAAAAEBlQAAAAAAAwGJAAAAAAADAYkAAAAAAAEBiQAAAAAAAgGFAAAAAAAAAYUAAAAAAAOBgQAAAAAAAQGBAAAAAAABAYEAAAAAAAEBdQAAAAAAAgFxAAAAAAAAAWUAAAAAAAABXQAAAAAAAwFZAAAAAAADAVUAAAAAAAABTQAAAAAAAgFJAAAAAAACAUUAAAAAAAABPQAAAAAAAgE1AAAAAAAAATUAAAAAAAIBLQAAAAAAAAElAAAAAAAAAR0AAAAAAAIBDQAAAAAAAAEBAAAAAAAAAO0AAAAAAAAA2QAAAAAAAADRAAAAAAAAANEAAAAAAAAAzQAAAAAAAADFAAAAAAAAAMUAAAAAAAAAkQAAAAAAAACRAAAAAAAAAAAAAAAAAAAAAAAAAAAAAAAAAAAAAAGwJGUEAAAAAbAkZQQAAAABsCRlBAAAAAGwJGUEAAAAAmAgMQQAAAACYCAxBAAAAAMC3AkEAAAAAUKv3QAAAAABQq/dAAAAAAAAL9kAAAAAAAAv2QAAAAAAA4+dAAAAAAADj50AAAAAAAOPnQAAAAADAiOZAAAAAAACP4kAAAAAAgKjNQAAAAAAAs7FAAAAAAABirkAAAAAAAAitQAAAAAAAGKdAAAAAAACGpkAAAAAAAHSjQAAAAAAA5KFAAAAAAADkoEAAAAAAACygQAAAAAAAsJ1AAAAAAAA4mkAAAAAAABiVQAAAAAAAiJRAAAAAAADEk0AAAAAAAICRQAAAAAAAEI5AAAAAAADIiUAAAAAAAACEQAAAAAAACIBAAAAAAACAf0AAAAAAANB2QAAAAAAAgHZAAAAAAAAAdEAAAAAAAMByQAAAAAAAwHBAAAAAAACQcEAAAAAAAOBuQAAAAAAAAGxAAAAAAADgaUAAAAAAAOBkQAAAAAAAYGRAAAAAAAAAY0AAAAAAAMBiQAAAAAAA4GBAAAAAAADAXEAAAAAAAEBcQAAAAAAAAFRAAAAAAAAAU0AAAAAAAMBSQAAAAAAAwFBAAAAAAACAUEAAAAAAAIBPQAAAAAAAAExAAAAAAACASkAAAAAAAIBKQAAAAAAAgElAAAAAAAAASUAAAAAAAIBFQAAAAAAAgEBAAAAAAAAAOEAAAAAAAAAxQAAAAAAAAC5AAAAAAAAAKkAAAAAAAAAoQAAAAAAAAAAAAAAAAACYj0AAAAAAAOB+QAAAAAAAgEJAAAAAAAAAOUAAAAAA4PvyQAAAAAAAHMRAAAAAAICHw0AAAAAAAEPBQAAAAACAL8FAAAAAAAC7tUAAAAAAAAeyQAAAAAAAzKNAAAAAAACgo0AAAAAAABieQAAAAAAAwIJAAAAAAABAgEAAAAAAAAB/QAAAAAAA4HVAAAAAAAAgbEAAAAAAAIBrQAAAAAAAAGlAAAAAAACAY0AAAAAAAABeQAAAAAAAQFhAAAAAAABAVUAAAAAAAABJQAAAAAAAADxAAAAAAAAANEAAAAAAAAAkQA==",
          "dtype": "f8"
         },
         "yaxis": "y"
        }
       ],
       "layout": {
        "barmode": "group",
        "height": 700,
        "legend": {
         "title": {
          "text": "MajorIncident"
         },
         "tracegroupgap": 0
        },
        "template": {
         "data": {
          "bar": [
           {
            "error_x": {
             "color": "#2a3f5f"
            },
            "error_y": {
             "color": "#2a3f5f"
            },
            "marker": {
             "line": {
              "color": "white",
              "width": 0.5
             },
             "pattern": {
              "fillmode": "overlay",
              "size": 10,
              "solidity": 0.2
             }
            },
            "type": "bar"
           }
          ],
          "barpolar": [
           {
            "marker": {
             "line": {
              "color": "white",
              "width": 0.5
             },
             "pattern": {
              "fillmode": "overlay",
              "size": 10,
              "solidity": 0.2
             }
            },
            "type": "barpolar"
           }
          ],
          "carpet": [
           {
            "aaxis": {
             "endlinecolor": "#2a3f5f",
             "gridcolor": "#C8D4E3",
             "linecolor": "#C8D4E3",
             "minorgridcolor": "#C8D4E3",
             "startlinecolor": "#2a3f5f"
            },
            "baxis": {
             "endlinecolor": "#2a3f5f",
             "gridcolor": "#C8D4E3",
             "linecolor": "#C8D4E3",
             "minorgridcolor": "#C8D4E3",
             "startlinecolor": "#2a3f5f"
            },
            "type": "carpet"
           }
          ],
          "choropleth": [
           {
            "colorbar": {
             "outlinewidth": 0,
             "ticks": ""
            },
            "type": "choropleth"
           }
          ],
          "contour": [
           {
            "colorbar": {
             "outlinewidth": 0,
             "ticks": ""
            },
            "colorscale": [
             [
              0,
              "#0d0887"
             ],
             [
              0.1111111111111111,
              "#46039f"
             ],
             [
              0.2222222222222222,
              "#7201a8"
             ],
             [
              0.3333333333333333,
              "#9c179e"
             ],
             [
              0.4444444444444444,
              "#bd3786"
             ],
             [
              0.5555555555555556,
              "#d8576b"
             ],
             [
              0.6666666666666666,
              "#ed7953"
             ],
             [
              0.7777777777777778,
              "#fb9f3a"
             ],
             [
              0.8888888888888888,
              "#fdca26"
             ],
             [
              1,
              "#f0f921"
             ]
            ],
            "type": "contour"
           }
          ],
          "contourcarpet": [
           {
            "colorbar": {
             "outlinewidth": 0,
             "ticks": ""
            },
            "type": "contourcarpet"
           }
          ],
          "heatmap": [
           {
            "colorbar": {
             "outlinewidth": 0,
             "ticks": ""
            },
            "colorscale": [
             [
              0,
              "#0d0887"
             ],
             [
              0.1111111111111111,
              "#46039f"
             ],
             [
              0.2222222222222222,
              "#7201a8"
             ],
             [
              0.3333333333333333,
              "#9c179e"
             ],
             [
              0.4444444444444444,
              "#bd3786"
             ],
             [
              0.5555555555555556,
              "#d8576b"
             ],
             [
              0.6666666666666666,
              "#ed7953"
             ],
             [
              0.7777777777777778,
              "#fb9f3a"
             ],
             [
              0.8888888888888888,
              "#fdca26"
             ],
             [
              1,
              "#f0f921"
             ]
            ],
            "type": "heatmap"
           }
          ],
          "histogram": [
           {
            "marker": {
             "pattern": {
              "fillmode": "overlay",
              "size": 10,
              "solidity": 0.2
             }
            },
            "type": "histogram"
           }
          ],
          "histogram2d": [
           {
            "colorbar": {
             "outlinewidth": 0,
             "ticks": ""
            },
            "colorscale": [
             [
              0,
              "#0d0887"
             ],
             [
              0.1111111111111111,
              "#46039f"
             ],
             [
              0.2222222222222222,
              "#7201a8"
             ],
             [
              0.3333333333333333,
              "#9c179e"
             ],
             [
              0.4444444444444444,
              "#bd3786"
             ],
             [
              0.5555555555555556,
              "#d8576b"
             ],
             [
              0.6666666666666666,
              "#ed7953"
             ],
             [
              0.7777777777777778,
              "#fb9f3a"
             ],
             [
              0.8888888888888888,
              "#fdca26"
             ],
             [
              1,
              "#f0f921"
             ]
            ],
            "type": "histogram2d"
           }
          ],
          "histogram2dcontour": [
           {
            "colorbar": {
             "outlinewidth": 0,
             "ticks": ""
            },
            "colorscale": [
             [
              0,
              "#0d0887"
             ],
             [
              0.1111111111111111,
              "#46039f"
             ],
             [
              0.2222222222222222,
              "#7201a8"
             ],
             [
              0.3333333333333333,
              "#9c179e"
             ],
             [
              0.4444444444444444,
              "#bd3786"
             ],
             [
              0.5555555555555556,
              "#d8576b"
             ],
             [
              0.6666666666666666,
              "#ed7953"
             ],
             [
              0.7777777777777778,
              "#fb9f3a"
             ],
             [
              0.8888888888888888,
              "#fdca26"
             ],
             [
              1,
              "#f0f921"
             ]
            ],
            "type": "histogram2dcontour"
           }
          ],
          "mesh3d": [
           {
            "colorbar": {
             "outlinewidth": 0,
             "ticks": ""
            },
            "type": "mesh3d"
           }
          ],
          "parcoords": [
           {
            "line": {
             "colorbar": {
              "outlinewidth": 0,
              "ticks": ""
             }
            },
            "type": "parcoords"
           }
          ],
          "pie": [
           {
            "automargin": true,
            "type": "pie"
           }
          ],
          "scatter": [
           {
            "fillpattern": {
             "fillmode": "overlay",
             "size": 10,
             "solidity": 0.2
            },
            "type": "scatter"
           }
          ],
          "scatter3d": [
           {
            "line": {
             "colorbar": {
              "outlinewidth": 0,
              "ticks": ""
             }
            },
            "marker": {
             "colorbar": {
              "outlinewidth": 0,
              "ticks": ""
             }
            },
            "type": "scatter3d"
           }
          ],
          "scattercarpet": [
           {
            "marker": {
             "colorbar": {
              "outlinewidth": 0,
              "ticks": ""
             }
            },
            "type": "scattercarpet"
           }
          ],
          "scattergeo": [
           {
            "marker": {
             "colorbar": {
              "outlinewidth": 0,
              "ticks": ""
             }
            },
            "type": "scattergeo"
           }
          ],
          "scattergl": [
           {
            "marker": {
             "colorbar": {
              "outlinewidth": 0,
              "ticks": ""
             }
            },
            "type": "scattergl"
           }
          ],
          "scattermap": [
           {
            "marker": {
             "colorbar": {
              "outlinewidth": 0,
              "ticks": ""
             }
            },
            "type": "scattermap"
           }
          ],
          "scattermapbox": [
           {
            "marker": {
             "colorbar": {
              "outlinewidth": 0,
              "ticks": ""
             }
            },
            "type": "scattermapbox"
           }
          ],
          "scatterpolar": [
           {
            "marker": {
             "colorbar": {
              "outlinewidth": 0,
              "ticks": ""
             }
            },
            "type": "scatterpolar"
           }
          ],
          "scatterpolargl": [
           {
            "marker": {
             "colorbar": {
              "outlinewidth": 0,
              "ticks": ""
             }
            },
            "type": "scatterpolargl"
           }
          ],
          "scatterternary": [
           {
            "marker": {
             "colorbar": {
              "outlinewidth": 0,
              "ticks": ""
             }
            },
            "type": "scatterternary"
           }
          ],
          "surface": [
           {
            "colorbar": {
             "outlinewidth": 0,
             "ticks": ""
            },
            "colorscale": [
             [
              0,
              "#0d0887"
             ],
             [
              0.1111111111111111,
              "#46039f"
             ],
             [
              0.2222222222222222,
              "#7201a8"
             ],
             [
              0.3333333333333333,
              "#9c179e"
             ],
             [
              0.4444444444444444,
              "#bd3786"
             ],
             [
              0.5555555555555556,
              "#d8576b"
             ],
             [
              0.6666666666666666,
              "#ed7953"
             ],
             [
              0.7777777777777778,
              "#fb9f3a"
             ],
             [
              0.8888888888888888,
              "#fdca26"
             ],
             [
              1,
              "#f0f921"
             ]
            ],
            "type": "surface"
           }
          ],
          "table": [
           {
            "cells": {
             "fill": {
              "color": "#EBF0F8"
             },
             "line": {
              "color": "white"
             }
            },
            "header": {
             "fill": {
              "color": "#C8D4E3"
             },
             "line": {
              "color": "white"
             }
            },
            "type": "table"
           }
          ]
         },
         "layout": {
          "annotationdefaults": {
           "arrowcolor": "#2a3f5f",
           "arrowhead": 0,
           "arrowwidth": 1
          },
          "autotypenumbers": "strict",
          "coloraxis": {
           "colorbar": {
            "outlinewidth": 0,
            "ticks": ""
           }
          },
          "colorscale": {
           "diverging": [
            [
             0,
             "#8e0152"
            ],
            [
             0.1,
             "#c51b7d"
            ],
            [
             0.2,
             "#de77ae"
            ],
            [
             0.3,
             "#f1b6da"
            ],
            [
             0.4,
             "#fde0ef"
            ],
            [
             0.5,
             "#f7f7f7"
            ],
            [
             0.6,
             "#e6f5d0"
            ],
            [
             0.7,
             "#b8e186"
            ],
            [
             0.8,
             "#7fbc41"
            ],
            [
             0.9,
             "#4d9221"
            ],
            [
             1,
             "#276419"
            ]
           ],
           "sequential": [
            [
             0,
             "#0d0887"
            ],
            [
             0.1111111111111111,
             "#46039f"
            ],
            [
             0.2222222222222222,
             "#7201a8"
            ],
            [
             0.3333333333333333,
             "#9c179e"
            ],
            [
             0.4444444444444444,
             "#bd3786"
            ],
            [
             0.5555555555555556,
             "#d8576b"
            ],
            [
             0.6666666666666666,
             "#ed7953"
            ],
            [
             0.7777777777777778,
             "#fb9f3a"
            ],
            [
             0.8888888888888888,
             "#fdca26"
            ],
            [
             1,
             "#f0f921"
            ]
           ],
           "sequentialminus": [
            [
             0,
             "#0d0887"
            ],
            [
             0.1111111111111111,
             "#46039f"
            ],
            [
             0.2222222222222222,
             "#7201a8"
            ],
            [
             0.3333333333333333,
             "#9c179e"
            ],
            [
             0.4444444444444444,
             "#bd3786"
            ],
            [
             0.5555555555555556,
             "#d8576b"
            ],
            [
             0.6666666666666666,
             "#ed7953"
            ],
            [
             0.7777777777777778,
             "#fb9f3a"
            ],
            [
             0.8888888888888888,
             "#fdca26"
            ],
            [
             1,
             "#f0f921"
            ]
           ]
          },
          "colorway": [
           "#636efa",
           "#EF553B",
           "#00cc96",
           "#ab63fa",
           "#FFA15A",
           "#19d3f3",
           "#FF6692",
           "#B6E880",
           "#FF97FF",
           "#FECB52"
          ],
          "font": {
           "color": "#2a3f5f"
          },
          "geo": {
           "bgcolor": "white",
           "lakecolor": "white",
           "landcolor": "white",
           "showlakes": true,
           "showland": true,
           "subunitcolor": "#C8D4E3"
          },
          "hoverlabel": {
           "align": "left"
          },
          "hovermode": "closest",
          "mapbox": {
           "style": "light"
          },
          "paper_bgcolor": "white",
          "plot_bgcolor": "white",
          "polar": {
           "angularaxis": {
            "gridcolor": "#EBF0F8",
            "linecolor": "#EBF0F8",
            "ticks": ""
           },
           "bgcolor": "white",
           "radialaxis": {
            "gridcolor": "#EBF0F8",
            "linecolor": "#EBF0F8",
            "ticks": ""
           }
          },
          "scene": {
           "xaxis": {
            "backgroundcolor": "white",
            "gridcolor": "#DFE8F3",
            "gridwidth": 2,
            "linecolor": "#EBF0F8",
            "showbackground": true,
            "ticks": "",
            "zerolinecolor": "#EBF0F8"
           },
           "yaxis": {
            "backgroundcolor": "white",
            "gridcolor": "#DFE8F3",
            "gridwidth": 2,
            "linecolor": "#EBF0F8",
            "showbackground": true,
            "ticks": "",
            "zerolinecolor": "#EBF0F8"
           },
           "zaxis": {
            "backgroundcolor": "white",
            "gridcolor": "#DFE8F3",
            "gridwidth": 2,
            "linecolor": "#EBF0F8",
            "showbackground": true,
            "ticks": "",
            "zerolinecolor": "#EBF0F8"
           }
          },
          "shapedefaults": {
           "line": {
            "color": "#2a3f5f"
           }
          },
          "ternary": {
           "aaxis": {
            "gridcolor": "#DFE8F3",
            "linecolor": "#A2B1C6",
            "ticks": ""
           },
           "baxis": {
            "gridcolor": "#DFE8F3",
            "linecolor": "#A2B1C6",
            "ticks": ""
           },
           "bgcolor": "white",
           "caxis": {
            "gridcolor": "#DFE8F3",
            "linecolor": "#A2B1C6",
            "ticks": ""
           }
          },
          "title": {
           "x": 0.05
          },
          "xaxis": {
           "automargin": true,
           "gridcolor": "#EBF0F8",
           "linecolor": "#EBF0F8",
           "ticks": "",
           "title": {
            "standoff": 15
           },
           "zerolinecolor": "#EBF0F8",
           "zerolinewidth": 2
          },
          "yaxis": {
           "automargin": true,
           "gridcolor": "#EBF0F8",
           "linecolor": "#EBF0F8",
           "ticks": "",
           "title": {
            "standoff": 15
           },
           "zerolinecolor": "#EBF0F8",
           "zerolinewidth": 2
          }
         }
        },
        "title": {
         "text": "Total land area burned due to wildfires in California"
        },
        "width": 1200,
        "xaxis": {
         "anchor": "y",
         "domain": [
          0,
          1
         ],
         "showgrid": false,
         "showline": true,
         "tickangle": 45,
         "title": {
          "text": "Year"
         },
         "zeroline": true
        },
        "yaxis": {
         "anchor": "x",
         "domain": [
          0,
          1
         ],
         "showgrid": false,
         "showline": true,
         "title": {
          "text": "Total acres of land burned"
         },
         "zeroline": true
        }
       }
      }
     },
     "metadata": {},
     "output_type": "display_data"
    }
   ],
   "source": [
    "fig2 = px.bar(\n",
    "    cleaned_df,\n",
    "    x='ArchiveYear',\n",
    "    y='AcresBurned',\n",
    "    color='MajorIncident',\n",
    "    color_discrete_sequence=[\"#12C617\", \"#F60700\"],\n",
    "    barmode='group',\n",
    "    labels={'AcresBurned': 'Total Acres Burned', 'ArchiveYear': 'Year'},\n",
    "    title=\"Total land area burned due to wildfires in California\"\n",
    ")\n",
    "\n",
    "fig2.update_layout(\n",
    "    xaxis=dict(tickangle=45, title=\"Year\", showgrid=False, showline=True, zeroline=True),\n",
    "    yaxis=dict(title=\"Total acres of land burned\", showgrid=False, showline=True, zeroline=True),\n",
    "    template=\"plotly_white\",\n",
    "    width=1200,\n",
    "    height=700\n",
    ")\n",
    "fig2.show()"
   ]
  },
  {
   "cell_type": "code",
   "execution_count": 64,
   "id": "60dda8c2",
   "metadata": {},
   "outputs": [
    {
     "name": "stdout",
     "output_type": "stream",
     "text": [
      " Land burned in Major Incidents vs Total Land Burned in 2016: 63.82%\n",
      " Land burned in Major Incidents vs Total Land Burned in 2017: 71.84%\n",
      " Land burned in Major Incidents vs Total Land Burned in 2018: 87.35%\n"
     ]
    }
   ],
   "source": [
    "LandBurned_2016_MajorIncident = cleaned_df[(cleaned_df['MajorIncident'] == True) & (cleaned_df['ArchiveYear'] == 2016)]['AcresBurned'].sum()\n",
    "LandBurned_2017_MajorIncident = cleaned_df[(cleaned_df['MajorIncident'] == True) & (cleaned_df['ArchiveYear'] == 2017)]['AcresBurned'].sum()\n",
    "LandBurned_2018_MajorIncident = cleaned_df[(cleaned_df['MajorIncident'] == True) & (cleaned_df['ArchiveYear'] == 2018)]['AcresBurned'].sum()\n",
    "\n",
    "LandBurned_2016_Total = cleaned_df[(cleaned_df['ArchiveYear'] == 2016)]['AcresBurned'].sum()\n",
    "LandBurned_2017_Total = cleaned_df[(cleaned_df['ArchiveYear'] == 2017)]['AcresBurned'].sum()\n",
    "LandBurned_2018_Total = cleaned_df[ (cleaned_df['ArchiveYear'] == 2018)]['AcresBurned'].sum()\n",
    "\n",
    "PrecentLandBurned_2016 = np.divide(LandBurned_2016_MajorIncident,LandBurned_2016_Total)*100\n",
    "PrecentLandBurned_2017 = np.divide(LandBurned_2017_MajorIncident,LandBurned_2017_Total)*100\n",
    "PrecentLandBurned_2018 = np.divide(LandBurned_2018_MajorIncident,LandBurned_2018_Total)*100\n",
    "\n",
    "print(f\" Land burned in Major Incidents vs Total Land Burned in 2016: {PrecentLandBurned_2016:.2f}%\")\n",
    "print(f\" Land burned in Major Incidents vs Total Land Burned in 2017: {PrecentLandBurned_2017:.2f}%\")\n",
    "print(f\" Land burned in Major Incidents vs Total Land Burned in 2018: {PrecentLandBurned_2018:.2f}%\")"
   ]
  },
  {
   "cell_type": "markdown",
   "id": "0d33461a",
   "metadata": {},
   "source": [
    "#### Observation 3\n",
    "\n",
    "> As anticipated, nearly 87% of the land burned in California in 2018 was due to major wildfire incidents. Notably, since 2016, major incidents have accounted for over 50% of all wildfire activity each year—a striking trend that underscores a growing cause for concern. \n",
    "\n",
    "#### Observation 4\n",
    "\n",
    "This concern might also have been noted by the government and remedial action might have taken as there was a significant budget upgrade after 2018.\n",
    "In fact, the following excerpt from [California state Budget Summary, Pg. 3](http://www.ebudget.ca.gov/2019-20/pdf/Enacted/BudgetSummary/FullBudgetSummary.pdf) for 2019-2020 confirms it.\n",
    "\n",
    "> The Budget includes critical investments needed to sustain and improve California’s\n",
    "emergency preparedness, response, and recovery capabilities. This includes\n",
    "$240.3 million to augment the California Department of Forestry and Fire Protection's\n",
    "(CAL FIRE's) firefighting capabilities by adding 13 additional year‑round engines,\n",
    "replacing Vietnam War-era helicopters, deploying new air tankers, and investing in\n",
    "technology and data analytics that support CAL FIRE's initial fire suppression strategies.\n",
    "The Budget also provides a sizable investment in forest management to increase fire\n",
    "prevention and complete additional fuel reduction projects, including increased\n",
    "prescribed fire crews. \n",
    "\n",
    "The low amount of wildfire incidents reported in 2019 also supports this hypothesis."
   ]
  },
  {
   "cell_type": "markdown",
   "id": "c339714c",
   "metadata": {},
   "source": [
    "### Personnel involved in Firefighting\n",
    "\n",
    "Now that we have seen how the severity of the wilfires have evolved over the years, the next question we need to address is - What about the personnel involved in putting out the fires ?"
   ]
  },
  {
   "cell_type": "code",
   "execution_count": 65,
   "id": "0a2a859b",
   "metadata": {},
   "outputs": [
    {
     "data": {
      "application/vnd.plotly.v1+json": {
       "config": {
        "plotlyServerURL": "https://plot.ly"
       },
       "data": [
        {
         "marker": {
          "color": "rgba(255,80,80,0.75)"
         },
         "name": "Personnel",
         "orientation": "h",
         "type": "bar",
         "x": {
          "bdata": "AAAAAECY0UAAAAAAAMGwQAAAAAAAnbFAAAAAAAAdsEAAAAAAAIrAQAAAAAAA5MpAAAAAAAABwEA=",
          "dtype": "f8"
         },
         "xaxis": "x",
         "y": [
          "2013",
          "2014",
          "2015",
          "2016",
          "2017",
          "2018",
          "2019"
         ],
         "yaxis": "y"
        },
        {
         "marker": {
          "color": "rgba(222,45,38,0.75)"
         },
         "name": "Water Tenders",
         "orientation": "h",
         "type": "bar",
         "x": {
          "bdata": "AAAAAABAeEAAAAAAAABEQAAAAAAAQFRAAAAAAACAT0AAAAAAAEBVQAAAAAAAwHVAAAAAAADAU0A=",
          "dtype": "f8"
         },
         "xaxis": "x2",
         "y": [
          "2013",
          "2014",
          "2015",
          "2016",
          "2017",
          "2018",
          "2019"
         ],
         "yaxis": "y2"
        },
        {
         "marker": {
          "color": "rgba(200,30,30,0.75)"
         },
         "name": "Ratio (%)",
         "orientation": "h",
         "type": "bar",
         "x": {
          "bdata": "fpVHkmk6AUAZZDNjAtjtP5YyCXYVvvw/cFj7hrVv+D+FsXR/eg/wP1vzfHiGOARAXxLaXhLa7j8=",
          "dtype": "f8"
         },
         "xaxis": "x3",
         "y": [
          "2013",
          "2014",
          "2015",
          "2016",
          "2017",
          "2018",
          "2019"
         ],
         "yaxis": "y3"
        }
       ],
       "layout": {
        "annotations": [
         {
          "font": {
           "size": 16
          },
          "showarrow": false,
          "text": "Personnel Involved",
          "x": 0.14444444444444446,
          "xanchor": "center",
          "xref": "paper",
          "y": 1,
          "yanchor": "bottom",
          "yref": "paper"
         },
         {
          "font": {
           "size": 16
          },
          "showarrow": false,
          "text": "Water Tenders Involved",
          "x": 0.5,
          "xanchor": "center",
          "xref": "paper",
          "y": 1,
          "yanchor": "bottom",
          "yref": "paper"
         },
         {
          "font": {
           "size": 16
          },
          "showarrow": false,
          "text": "Water Tenders to Personnel Ratio (%)",
          "x": 0.8555555555555556,
          "xanchor": "center",
          "xref": "paper",
          "y": 1,
          "yanchor": "bottom",
          "yref": "paper"
         }
        ],
        "height": 700,
        "margin": {
         "b": 40,
         "l": 40,
         "r": 20,
         "t": 60
        },
        "plot_bgcolor": "white",
        "showlegend": false,
        "template": {
         "data": {
          "bar": [
           {
            "error_x": {
             "color": "#2a3f5f"
            },
            "error_y": {
             "color": "#2a3f5f"
            },
            "marker": {
             "line": {
              "color": "white",
              "width": 0.5
             },
             "pattern": {
              "fillmode": "overlay",
              "size": 10,
              "solidity": 0.2
             }
            },
            "type": "bar"
           }
          ],
          "barpolar": [
           {
            "marker": {
             "line": {
              "color": "white",
              "width": 0.5
             },
             "pattern": {
              "fillmode": "overlay",
              "size": 10,
              "solidity": 0.2
             }
            },
            "type": "barpolar"
           }
          ],
          "carpet": [
           {
            "aaxis": {
             "endlinecolor": "#2a3f5f",
             "gridcolor": "#C8D4E3",
             "linecolor": "#C8D4E3",
             "minorgridcolor": "#C8D4E3",
             "startlinecolor": "#2a3f5f"
            },
            "baxis": {
             "endlinecolor": "#2a3f5f",
             "gridcolor": "#C8D4E3",
             "linecolor": "#C8D4E3",
             "minorgridcolor": "#C8D4E3",
             "startlinecolor": "#2a3f5f"
            },
            "type": "carpet"
           }
          ],
          "choropleth": [
           {
            "colorbar": {
             "outlinewidth": 0,
             "ticks": ""
            },
            "type": "choropleth"
           }
          ],
          "contour": [
           {
            "colorbar": {
             "outlinewidth": 0,
             "ticks": ""
            },
            "colorscale": [
             [
              0,
              "#0d0887"
             ],
             [
              0.1111111111111111,
              "#46039f"
             ],
             [
              0.2222222222222222,
              "#7201a8"
             ],
             [
              0.3333333333333333,
              "#9c179e"
             ],
             [
              0.4444444444444444,
              "#bd3786"
             ],
             [
              0.5555555555555556,
              "#d8576b"
             ],
             [
              0.6666666666666666,
              "#ed7953"
             ],
             [
              0.7777777777777778,
              "#fb9f3a"
             ],
             [
              0.8888888888888888,
              "#fdca26"
             ],
             [
              1,
              "#f0f921"
             ]
            ],
            "type": "contour"
           }
          ],
          "contourcarpet": [
           {
            "colorbar": {
             "outlinewidth": 0,
             "ticks": ""
            },
            "type": "contourcarpet"
           }
          ],
          "heatmap": [
           {
            "colorbar": {
             "outlinewidth": 0,
             "ticks": ""
            },
            "colorscale": [
             [
              0,
              "#0d0887"
             ],
             [
              0.1111111111111111,
              "#46039f"
             ],
             [
              0.2222222222222222,
              "#7201a8"
             ],
             [
              0.3333333333333333,
              "#9c179e"
             ],
             [
              0.4444444444444444,
              "#bd3786"
             ],
             [
              0.5555555555555556,
              "#d8576b"
             ],
             [
              0.6666666666666666,
              "#ed7953"
             ],
             [
              0.7777777777777778,
              "#fb9f3a"
             ],
             [
              0.8888888888888888,
              "#fdca26"
             ],
             [
              1,
              "#f0f921"
             ]
            ],
            "type": "heatmap"
           }
          ],
          "histogram": [
           {
            "marker": {
             "pattern": {
              "fillmode": "overlay",
              "size": 10,
              "solidity": 0.2
             }
            },
            "type": "histogram"
           }
          ],
          "histogram2d": [
           {
            "colorbar": {
             "outlinewidth": 0,
             "ticks": ""
            },
            "colorscale": [
             [
              0,
              "#0d0887"
             ],
             [
              0.1111111111111111,
              "#46039f"
             ],
             [
              0.2222222222222222,
              "#7201a8"
             ],
             [
              0.3333333333333333,
              "#9c179e"
             ],
             [
              0.4444444444444444,
              "#bd3786"
             ],
             [
              0.5555555555555556,
              "#d8576b"
             ],
             [
              0.6666666666666666,
              "#ed7953"
             ],
             [
              0.7777777777777778,
              "#fb9f3a"
             ],
             [
              0.8888888888888888,
              "#fdca26"
             ],
             [
              1,
              "#f0f921"
             ]
            ],
            "type": "histogram2d"
           }
          ],
          "histogram2dcontour": [
           {
            "colorbar": {
             "outlinewidth": 0,
             "ticks": ""
            },
            "colorscale": [
             [
              0,
              "#0d0887"
             ],
             [
              0.1111111111111111,
              "#46039f"
             ],
             [
              0.2222222222222222,
              "#7201a8"
             ],
             [
              0.3333333333333333,
              "#9c179e"
             ],
             [
              0.4444444444444444,
              "#bd3786"
             ],
             [
              0.5555555555555556,
              "#d8576b"
             ],
             [
              0.6666666666666666,
              "#ed7953"
             ],
             [
              0.7777777777777778,
              "#fb9f3a"
             ],
             [
              0.8888888888888888,
              "#fdca26"
             ],
             [
              1,
              "#f0f921"
             ]
            ],
            "type": "histogram2dcontour"
           }
          ],
          "mesh3d": [
           {
            "colorbar": {
             "outlinewidth": 0,
             "ticks": ""
            },
            "type": "mesh3d"
           }
          ],
          "parcoords": [
           {
            "line": {
             "colorbar": {
              "outlinewidth": 0,
              "ticks": ""
             }
            },
            "type": "parcoords"
           }
          ],
          "pie": [
           {
            "automargin": true,
            "type": "pie"
           }
          ],
          "scatter": [
           {
            "fillpattern": {
             "fillmode": "overlay",
             "size": 10,
             "solidity": 0.2
            },
            "type": "scatter"
           }
          ],
          "scatter3d": [
           {
            "line": {
             "colorbar": {
              "outlinewidth": 0,
              "ticks": ""
             }
            },
            "marker": {
             "colorbar": {
              "outlinewidth": 0,
              "ticks": ""
             }
            },
            "type": "scatter3d"
           }
          ],
          "scattercarpet": [
           {
            "marker": {
             "colorbar": {
              "outlinewidth": 0,
              "ticks": ""
             }
            },
            "type": "scattercarpet"
           }
          ],
          "scattergeo": [
           {
            "marker": {
             "colorbar": {
              "outlinewidth": 0,
              "ticks": ""
             }
            },
            "type": "scattergeo"
           }
          ],
          "scattergl": [
           {
            "marker": {
             "colorbar": {
              "outlinewidth": 0,
              "ticks": ""
             }
            },
            "type": "scattergl"
           }
          ],
          "scattermap": [
           {
            "marker": {
             "colorbar": {
              "outlinewidth": 0,
              "ticks": ""
             }
            },
            "type": "scattermap"
           }
          ],
          "scattermapbox": [
           {
            "marker": {
             "colorbar": {
              "outlinewidth": 0,
              "ticks": ""
             }
            },
            "type": "scattermapbox"
           }
          ],
          "scatterpolar": [
           {
            "marker": {
             "colorbar": {
              "outlinewidth": 0,
              "ticks": ""
             }
            },
            "type": "scatterpolar"
           }
          ],
          "scatterpolargl": [
           {
            "marker": {
             "colorbar": {
              "outlinewidth": 0,
              "ticks": ""
             }
            },
            "type": "scatterpolargl"
           }
          ],
          "scatterternary": [
           {
            "marker": {
             "colorbar": {
              "outlinewidth": 0,
              "ticks": ""
             }
            },
            "type": "scatterternary"
           }
          ],
          "surface": [
           {
            "colorbar": {
             "outlinewidth": 0,
             "ticks": ""
            },
            "colorscale": [
             [
              0,
              "#0d0887"
             ],
             [
              0.1111111111111111,
              "#46039f"
             ],
             [
              0.2222222222222222,
              "#7201a8"
             ],
             [
              0.3333333333333333,
              "#9c179e"
             ],
             [
              0.4444444444444444,
              "#bd3786"
             ],
             [
              0.5555555555555556,
              "#d8576b"
             ],
             [
              0.6666666666666666,
              "#ed7953"
             ],
             [
              0.7777777777777778,
              "#fb9f3a"
             ],
             [
              0.8888888888888888,
              "#fdca26"
             ],
             [
              1,
              "#f0f921"
             ]
            ],
            "type": "surface"
           }
          ],
          "table": [
           {
            "cells": {
             "fill": {
              "color": "#EBF0F8"
             },
             "line": {
              "color": "white"
             }
            },
            "header": {
             "fill": {
              "color": "#C8D4E3"
             },
             "line": {
              "color": "white"
             }
            },
            "type": "table"
           }
          ]
         },
         "layout": {
          "annotationdefaults": {
           "arrowcolor": "#2a3f5f",
           "arrowhead": 0,
           "arrowwidth": 1
          },
          "autotypenumbers": "strict",
          "coloraxis": {
           "colorbar": {
            "outlinewidth": 0,
            "ticks": ""
           }
          },
          "colorscale": {
           "diverging": [
            [
             0,
             "#8e0152"
            ],
            [
             0.1,
             "#c51b7d"
            ],
            [
             0.2,
             "#de77ae"
            ],
            [
             0.3,
             "#f1b6da"
            ],
            [
             0.4,
             "#fde0ef"
            ],
            [
             0.5,
             "#f7f7f7"
            ],
            [
             0.6,
             "#e6f5d0"
            ],
            [
             0.7,
             "#b8e186"
            ],
            [
             0.8,
             "#7fbc41"
            ],
            [
             0.9,
             "#4d9221"
            ],
            [
             1,
             "#276419"
            ]
           ],
           "sequential": [
            [
             0,
             "#0d0887"
            ],
            [
             0.1111111111111111,
             "#46039f"
            ],
            [
             0.2222222222222222,
             "#7201a8"
            ],
            [
             0.3333333333333333,
             "#9c179e"
            ],
            [
             0.4444444444444444,
             "#bd3786"
            ],
            [
             0.5555555555555556,
             "#d8576b"
            ],
            [
             0.6666666666666666,
             "#ed7953"
            ],
            [
             0.7777777777777778,
             "#fb9f3a"
            ],
            [
             0.8888888888888888,
             "#fdca26"
            ],
            [
             1,
             "#f0f921"
            ]
           ],
           "sequentialminus": [
            [
             0,
             "#0d0887"
            ],
            [
             0.1111111111111111,
             "#46039f"
            ],
            [
             0.2222222222222222,
             "#7201a8"
            ],
            [
             0.3333333333333333,
             "#9c179e"
            ],
            [
             0.4444444444444444,
             "#bd3786"
            ],
            [
             0.5555555555555556,
             "#d8576b"
            ],
            [
             0.6666666666666666,
             "#ed7953"
            ],
            [
             0.7777777777777778,
             "#fb9f3a"
            ],
            [
             0.8888888888888888,
             "#fdca26"
            ],
            [
             1,
             "#f0f921"
            ]
           ]
          },
          "colorway": [
           "#636efa",
           "#EF553B",
           "#00cc96",
           "#ab63fa",
           "#FFA15A",
           "#19d3f3",
           "#FF6692",
           "#B6E880",
           "#FF97FF",
           "#FECB52"
          ],
          "font": {
           "color": "#2a3f5f"
          },
          "geo": {
           "bgcolor": "white",
           "lakecolor": "white",
           "landcolor": "white",
           "showlakes": true,
           "showland": true,
           "subunitcolor": "#C8D4E3"
          },
          "hoverlabel": {
           "align": "left"
          },
          "hovermode": "closest",
          "mapbox": {
           "style": "light"
          },
          "paper_bgcolor": "white",
          "plot_bgcolor": "white",
          "polar": {
           "angularaxis": {
            "gridcolor": "#EBF0F8",
            "linecolor": "#EBF0F8",
            "ticks": ""
           },
           "bgcolor": "white",
           "radialaxis": {
            "gridcolor": "#EBF0F8",
            "linecolor": "#EBF0F8",
            "ticks": ""
           }
          },
          "scene": {
           "xaxis": {
            "backgroundcolor": "white",
            "gridcolor": "#DFE8F3",
            "gridwidth": 2,
            "linecolor": "#EBF0F8",
            "showbackground": true,
            "ticks": "",
            "zerolinecolor": "#EBF0F8"
           },
           "yaxis": {
            "backgroundcolor": "white",
            "gridcolor": "#DFE8F3",
            "gridwidth": 2,
            "linecolor": "#EBF0F8",
            "showbackground": true,
            "ticks": "",
            "zerolinecolor": "#EBF0F8"
           },
           "zaxis": {
            "backgroundcolor": "white",
            "gridcolor": "#DFE8F3",
            "gridwidth": 2,
            "linecolor": "#EBF0F8",
            "showbackground": true,
            "ticks": "",
            "zerolinecolor": "#EBF0F8"
           }
          },
          "shapedefaults": {
           "line": {
            "color": "#2a3f5f"
           }
          },
          "ternary": {
           "aaxis": {
            "gridcolor": "#DFE8F3",
            "linecolor": "#A2B1C6",
            "ticks": ""
           },
           "baxis": {
            "gridcolor": "#DFE8F3",
            "linecolor": "#A2B1C6",
            "ticks": ""
           },
           "bgcolor": "white",
           "caxis": {
            "gridcolor": "#DFE8F3",
            "linecolor": "#A2B1C6",
            "ticks": ""
           }
          },
          "title": {
           "x": 0.05
          },
          "xaxis": {
           "automargin": true,
           "gridcolor": "#EBF0F8",
           "linecolor": "#EBF0F8",
           "ticks": "",
           "title": {
            "standoff": 15
           },
           "zerolinecolor": "#EBF0F8",
           "zerolinewidth": 2
          },
          "yaxis": {
           "automargin": true,
           "gridcolor": "#EBF0F8",
           "linecolor": "#EBF0F8",
           "ticks": "",
           "title": {
            "standoff": 15
           },
           "zerolinecolor": "#EBF0F8",
           "zerolinewidth": 2
          }
         }
        },
        "title": {
         "text": "Personnel and Water Tenders in Fire Fighting Over the Years"
        },
        "width": 1200,
        "xaxis": {
         "anchor": "y",
         "domain": [
          0,
          0.2888888888888889
         ],
         "showgrid": false,
         "showline": true,
         "title": {
          "text": "Number of Personnel Involved"
         },
         "zeroline": true
        },
        "xaxis2": {
         "anchor": "y2",
         "domain": [
          0.35555555555555557,
          0.6444444444444445
         ],
         "showgrid": false,
         "showline": true,
         "title": {
          "text": "Number of Water Tenders Involved"
         },
         "zeroline": true
        },
        "xaxis3": {
         "anchor": "y3",
         "domain": [
          0.7111111111111111,
          1
         ],
         "showgrid": false,
         "showline": true,
         "title": {
          "text": "Ratio of Water Tenders to Personnel (%)"
         },
         "zeroline": true
        },
        "yaxis": {
         "anchor": "x",
         "domain": [
          0,
          1
         ],
         "showgrid": false,
         "showline": true,
         "title": {
          "text": "Years"
         },
         "zeroline": true
        },
        "yaxis2": {
         "anchor": "x2",
         "domain": [
          0,
          1
         ],
         "matches": "y",
         "showticklabels": false
        },
        "yaxis3": {
         "anchor": "x3",
         "domain": [
          0,
          1
         ],
         "matches": "y",
         "showticklabels": false
        }
       }
      }
     },
     "metadata": {},
     "output_type": "display_data"
    }
   ],
   "source": [
    "ratio = np.divide(cleaned_year_df['WaterTenders'], cleaned_year_df['PersonnelInvolved']) * 100\n",
    "years = cleaned_year_df.index.astype(str)\n",
    "fig3 = make_subplots(rows=1, cols=3, subplot_titles=[\n",
    "    \"Personnel Involved\",\n",
    "    \"Water Tenders Involved\",\n",
    "    \"Water Tenders to Personnel Ratio (%)\"\n",
    "], shared_yaxes=True)\n",
    "\n",
    "fig3.add_trace(go.Bar(\n",
    "    x=cleaned_year_df['PersonnelInvolved'],\n",
    "    y=years,\n",
    "    orientation='h',\n",
    "    name=\"Personnel\",\n",
    "    marker=dict(color='rgba(255,80,80,0.75)'),\n",
    "), row=1, col=1)\n",
    "\n",
    "fig3.add_trace(go.Bar(\n",
    "    x=cleaned_year_df['WaterTenders'],\n",
    "    y=years,\n",
    "    orientation='h',\n",
    "    name=\"Water Tenders\",\n",
    "    marker=dict(color='rgba(222,45,38,0.75)'),\n",
    "), row=1, col=2)\n",
    "\n",
    "fig3.add_trace(go.Bar(\n",
    "    x=ratio,\n",
    "    y=years,\n",
    "    orientation='h',\n",
    "    name=\"Ratio (%)\",\n",
    "    marker=dict(color='rgba(200,30,30,0.75)'),\n",
    "), row=1, col=3)\n",
    "\n",
    "fig3.update_layout(\n",
    "    height=700,\n",
    "    width=1200,\n",
    "    title_text=\"Personnel and Water Tenders in Fire Fighting Over the Years\",\n",
    "    showlegend=False,\n",
    "    template=\"plotly_white\",\n",
    "    margin=dict(t=60, b=40, l=40, r=20),\n",
    "    plot_bgcolor='white'\n",
    ")\n",
    "\n",
    "fig3.update_xaxes(title_text=\"Number of Personnel Involved\", row=1, col=1, showgrid=False, showline=True, zeroline=True)\n",
    "fig3.update_xaxes(title_text=\"Number of Water Tenders Involved\", row=1, col=2, showgrid=False, showline=True, zeroline=True)\n",
    "fig3.update_xaxes(title_text=\"Ratio of Water Tenders to Personnel (%)\", row=1, col=3, showgrid=False, showline=True, zeroline=True)\n",
    "fig3.update_yaxes(title_text=\"Years\", row=1, col=1, showgrid=False, showline=True, zeroline=True)\n",
    "fig3.show()"
   ]
  },
  {
   "cell_type": "code",
   "execution_count": 66,
   "id": "6d024173",
   "metadata": {},
   "outputs": [
    {
     "name": "stdout",
     "output_type": "stream",
     "text": [
      "Personnel more in 2013 compared to 2018: 76.42%\n"
     ]
    }
   ],
   "source": [
    "# Calculate the number of personnel more in year 2013 than in 2018\n",
    "percent2018_over2017_personnel = (cleaned_year_df[cleaned_year_df.index == 2018]['PersonnelInvolved'].values[0]/cleaned_year_df[cleaned_year_df.index == 2013]['PersonnelInvolved'].values[0])*100\n",
    "print(f\"Personnel more in 2013 compared to 2018: {percent2018_over2017_personnel:.2f}%\")"
   ]
  },
  {
   "cell_type": "markdown",
   "id": "baf3ecee",
   "metadata": {},
   "source": [
    "#### Observation 5\n",
    "\n",
    "From the above visualization, it is reasonable to conclude that the advancements in wildfire handling technology from 2013 to 2018 has led to lower number of personnel being capable of containing larger and expansive wildfires. \n",
    "\n",
    "> In other words, twice the number of wildfire incidents were handled by three-fourths of the workforce in 2018 than in 2013."
   ]
  },
  {
   "cell_type": "markdown",
   "id": "2cb48651",
   "metadata": {},
   "source": [
    "### Geographical distribution of these wildfires\n",
    "\n",
    "Now the next question to ask naturally is how are these numbers distributed across California ? Are there any wildfire hotspots or are they evenly spread across all the counties?\n",
    "\n",
    "We can get this information by looking into how many wildfires are being handled by each administrative unit on every county. Let us begin by looking at the top 20 adminstrative divisions of CAL FIRE that handles the most wildfires."
   ]
  },
  {
   "cell_type": "code",
   "execution_count": 67,
   "id": "597073d6",
   "metadata": {},
   "outputs": [
    {
     "data": {
      "text/plain": [
       "array([125,  83,  61,  59,  58,  55,  52,  52,  50,  46,  43,  42,  40,\n",
       "        34,  33,  33,  31,  31,  28,  27,  25,  25,  24,  23,  23,  22,\n",
       "        22,  20,  20,  17,  17,  17,  16,  16,  15,  13,  13,  12,  11,\n",
       "        11,  11,  10,  10,  10,   7,   6,   6,   5,   5,   5,   4,   4,\n",
       "         3,   3,   2,   2,   2,   1,   1])"
      ]
     },
     "execution_count": 67,
     "metadata": {},
     "output_type": "execute_result"
    }
   ],
   "source": [
    "admin_index = cleaned_df[\"Counties\"].value_counts().index\n",
    "admin_counts = cleaned_df[\"Counties\"].value_counts().values\n",
    "admin_counts"
   ]
  },
  {
   "cell_type": "code",
   "execution_count": 68,
   "id": "1d5aa265",
   "metadata": {},
   "outputs": [
    {
     "data": {
      "application/vnd.plotly.v1+json": {
       "config": {
        "plotlyServerURL": "https://plot.ly"
       },
       "data": [
        {
         "boxpoints": "outliers",
         "name": "Boxplot",
         "orientation": "h",
         "type": "box",
         "x": {
          "bdata": "fVM9Ozo3NDQyLisqKCIhIR8fHBsZGRgXFxYWFBQREREQEA8NDQwLCwsKCgoHBgYFBQUEBAMDAgICAQE=",
          "dtype": "i1"
         },
         "xaxis": "x",
         "yaxis": "y"
        }
       ],
       "layout": {
        "height": 500,
        "plot_bgcolor": "white",
        "showlegend": false,
        "template": {
         "data": {
          "bar": [
           {
            "error_x": {
             "color": "#2a3f5f"
            },
            "error_y": {
             "color": "#2a3f5f"
            },
            "marker": {
             "line": {
              "color": "#E5ECF6",
              "width": 0.5
             },
             "pattern": {
              "fillmode": "overlay",
              "size": 10,
              "solidity": 0.2
             }
            },
            "type": "bar"
           }
          ],
          "barpolar": [
           {
            "marker": {
             "line": {
              "color": "#E5ECF6",
              "width": 0.5
             },
             "pattern": {
              "fillmode": "overlay",
              "size": 10,
              "solidity": 0.2
             }
            },
            "type": "barpolar"
           }
          ],
          "carpet": [
           {
            "aaxis": {
             "endlinecolor": "#2a3f5f",
             "gridcolor": "white",
             "linecolor": "white",
             "minorgridcolor": "white",
             "startlinecolor": "#2a3f5f"
            },
            "baxis": {
             "endlinecolor": "#2a3f5f",
             "gridcolor": "white",
             "linecolor": "white",
             "minorgridcolor": "white",
             "startlinecolor": "#2a3f5f"
            },
            "type": "carpet"
           }
          ],
          "choropleth": [
           {
            "colorbar": {
             "outlinewidth": 0,
             "ticks": ""
            },
            "type": "choropleth"
           }
          ],
          "contour": [
           {
            "colorbar": {
             "outlinewidth": 0,
             "ticks": ""
            },
            "colorscale": [
             [
              0,
              "#0d0887"
             ],
             [
              0.1111111111111111,
              "#46039f"
             ],
             [
              0.2222222222222222,
              "#7201a8"
             ],
             [
              0.3333333333333333,
              "#9c179e"
             ],
             [
              0.4444444444444444,
              "#bd3786"
             ],
             [
              0.5555555555555556,
              "#d8576b"
             ],
             [
              0.6666666666666666,
              "#ed7953"
             ],
             [
              0.7777777777777778,
              "#fb9f3a"
             ],
             [
              0.8888888888888888,
              "#fdca26"
             ],
             [
              1,
              "#f0f921"
             ]
            ],
            "type": "contour"
           }
          ],
          "contourcarpet": [
           {
            "colorbar": {
             "outlinewidth": 0,
             "ticks": ""
            },
            "type": "contourcarpet"
           }
          ],
          "heatmap": [
           {
            "colorbar": {
             "outlinewidth": 0,
             "ticks": ""
            },
            "colorscale": [
             [
              0,
              "#0d0887"
             ],
             [
              0.1111111111111111,
              "#46039f"
             ],
             [
              0.2222222222222222,
              "#7201a8"
             ],
             [
              0.3333333333333333,
              "#9c179e"
             ],
             [
              0.4444444444444444,
              "#bd3786"
             ],
             [
              0.5555555555555556,
              "#d8576b"
             ],
             [
              0.6666666666666666,
              "#ed7953"
             ],
             [
              0.7777777777777778,
              "#fb9f3a"
             ],
             [
              0.8888888888888888,
              "#fdca26"
             ],
             [
              1,
              "#f0f921"
             ]
            ],
            "type": "heatmap"
           }
          ],
          "histogram": [
           {
            "marker": {
             "pattern": {
              "fillmode": "overlay",
              "size": 10,
              "solidity": 0.2
             }
            },
            "type": "histogram"
           }
          ],
          "histogram2d": [
           {
            "colorbar": {
             "outlinewidth": 0,
             "ticks": ""
            },
            "colorscale": [
             [
              0,
              "#0d0887"
             ],
             [
              0.1111111111111111,
              "#46039f"
             ],
             [
              0.2222222222222222,
              "#7201a8"
             ],
             [
              0.3333333333333333,
              "#9c179e"
             ],
             [
              0.4444444444444444,
              "#bd3786"
             ],
             [
              0.5555555555555556,
              "#d8576b"
             ],
             [
              0.6666666666666666,
              "#ed7953"
             ],
             [
              0.7777777777777778,
              "#fb9f3a"
             ],
             [
              0.8888888888888888,
              "#fdca26"
             ],
             [
              1,
              "#f0f921"
             ]
            ],
            "type": "histogram2d"
           }
          ],
          "histogram2dcontour": [
           {
            "colorbar": {
             "outlinewidth": 0,
             "ticks": ""
            },
            "colorscale": [
             [
              0,
              "#0d0887"
             ],
             [
              0.1111111111111111,
              "#46039f"
             ],
             [
              0.2222222222222222,
              "#7201a8"
             ],
             [
              0.3333333333333333,
              "#9c179e"
             ],
             [
              0.4444444444444444,
              "#bd3786"
             ],
             [
              0.5555555555555556,
              "#d8576b"
             ],
             [
              0.6666666666666666,
              "#ed7953"
             ],
             [
              0.7777777777777778,
              "#fb9f3a"
             ],
             [
              0.8888888888888888,
              "#fdca26"
             ],
             [
              1,
              "#f0f921"
             ]
            ],
            "type": "histogram2dcontour"
           }
          ],
          "mesh3d": [
           {
            "colorbar": {
             "outlinewidth": 0,
             "ticks": ""
            },
            "type": "mesh3d"
           }
          ],
          "parcoords": [
           {
            "line": {
             "colorbar": {
              "outlinewidth": 0,
              "ticks": ""
             }
            },
            "type": "parcoords"
           }
          ],
          "pie": [
           {
            "automargin": true,
            "type": "pie"
           }
          ],
          "scatter": [
           {
            "fillpattern": {
             "fillmode": "overlay",
             "size": 10,
             "solidity": 0.2
            },
            "type": "scatter"
           }
          ],
          "scatter3d": [
           {
            "line": {
             "colorbar": {
              "outlinewidth": 0,
              "ticks": ""
             }
            },
            "marker": {
             "colorbar": {
              "outlinewidth": 0,
              "ticks": ""
             }
            },
            "type": "scatter3d"
           }
          ],
          "scattercarpet": [
           {
            "marker": {
             "colorbar": {
              "outlinewidth": 0,
              "ticks": ""
             }
            },
            "type": "scattercarpet"
           }
          ],
          "scattergeo": [
           {
            "marker": {
             "colorbar": {
              "outlinewidth": 0,
              "ticks": ""
             }
            },
            "type": "scattergeo"
           }
          ],
          "scattergl": [
           {
            "marker": {
             "colorbar": {
              "outlinewidth": 0,
              "ticks": ""
             }
            },
            "type": "scattergl"
           }
          ],
          "scattermap": [
           {
            "marker": {
             "colorbar": {
              "outlinewidth": 0,
              "ticks": ""
             }
            },
            "type": "scattermap"
           }
          ],
          "scattermapbox": [
           {
            "marker": {
             "colorbar": {
              "outlinewidth": 0,
              "ticks": ""
             }
            },
            "type": "scattermapbox"
           }
          ],
          "scatterpolar": [
           {
            "marker": {
             "colorbar": {
              "outlinewidth": 0,
              "ticks": ""
             }
            },
            "type": "scatterpolar"
           }
          ],
          "scatterpolargl": [
           {
            "marker": {
             "colorbar": {
              "outlinewidth": 0,
              "ticks": ""
             }
            },
            "type": "scatterpolargl"
           }
          ],
          "scatterternary": [
           {
            "marker": {
             "colorbar": {
              "outlinewidth": 0,
              "ticks": ""
             }
            },
            "type": "scatterternary"
           }
          ],
          "surface": [
           {
            "colorbar": {
             "outlinewidth": 0,
             "ticks": ""
            },
            "colorscale": [
             [
              0,
              "#0d0887"
             ],
             [
              0.1111111111111111,
              "#46039f"
             ],
             [
              0.2222222222222222,
              "#7201a8"
             ],
             [
              0.3333333333333333,
              "#9c179e"
             ],
             [
              0.4444444444444444,
              "#bd3786"
             ],
             [
              0.5555555555555556,
              "#d8576b"
             ],
             [
              0.6666666666666666,
              "#ed7953"
             ],
             [
              0.7777777777777778,
              "#fb9f3a"
             ],
             [
              0.8888888888888888,
              "#fdca26"
             ],
             [
              1,
              "#f0f921"
             ]
            ],
            "type": "surface"
           }
          ],
          "table": [
           {
            "cells": {
             "fill": {
              "color": "#EBF0F8"
             },
             "line": {
              "color": "white"
             }
            },
            "header": {
             "fill": {
              "color": "#C8D4E3"
             },
             "line": {
              "color": "white"
             }
            },
            "type": "table"
           }
          ]
         },
         "layout": {
          "annotationdefaults": {
           "arrowcolor": "#2a3f5f",
           "arrowhead": 0,
           "arrowwidth": 1
          },
          "autotypenumbers": "strict",
          "coloraxis": {
           "colorbar": {
            "outlinewidth": 0,
            "ticks": ""
           }
          },
          "colorscale": {
           "diverging": [
            [
             0,
             "#8e0152"
            ],
            [
             0.1,
             "#c51b7d"
            ],
            [
             0.2,
             "#de77ae"
            ],
            [
             0.3,
             "#f1b6da"
            ],
            [
             0.4,
             "#fde0ef"
            ],
            [
             0.5,
             "#f7f7f7"
            ],
            [
             0.6,
             "#e6f5d0"
            ],
            [
             0.7,
             "#b8e186"
            ],
            [
             0.8,
             "#7fbc41"
            ],
            [
             0.9,
             "#4d9221"
            ],
            [
             1,
             "#276419"
            ]
           ],
           "sequential": [
            [
             0,
             "#0d0887"
            ],
            [
             0.1111111111111111,
             "#46039f"
            ],
            [
             0.2222222222222222,
             "#7201a8"
            ],
            [
             0.3333333333333333,
             "#9c179e"
            ],
            [
             0.4444444444444444,
             "#bd3786"
            ],
            [
             0.5555555555555556,
             "#d8576b"
            ],
            [
             0.6666666666666666,
             "#ed7953"
            ],
            [
             0.7777777777777778,
             "#fb9f3a"
            ],
            [
             0.8888888888888888,
             "#fdca26"
            ],
            [
             1,
             "#f0f921"
            ]
           ],
           "sequentialminus": [
            [
             0,
             "#0d0887"
            ],
            [
             0.1111111111111111,
             "#46039f"
            ],
            [
             0.2222222222222222,
             "#7201a8"
            ],
            [
             0.3333333333333333,
             "#9c179e"
            ],
            [
             0.4444444444444444,
             "#bd3786"
            ],
            [
             0.5555555555555556,
             "#d8576b"
            ],
            [
             0.6666666666666666,
             "#ed7953"
            ],
            [
             0.7777777777777778,
             "#fb9f3a"
            ],
            [
             0.8888888888888888,
             "#fdca26"
            ],
            [
             1,
             "#f0f921"
            ]
           ]
          },
          "colorway": [
           "#636efa",
           "#EF553B",
           "#00cc96",
           "#ab63fa",
           "#FFA15A",
           "#19d3f3",
           "#FF6692",
           "#B6E880",
           "#FF97FF",
           "#FECB52"
          ],
          "font": {
           "color": "#2a3f5f"
          },
          "geo": {
           "bgcolor": "white",
           "lakecolor": "white",
           "landcolor": "#E5ECF6",
           "showlakes": true,
           "showland": true,
           "subunitcolor": "white"
          },
          "hoverlabel": {
           "align": "left"
          },
          "hovermode": "closest",
          "mapbox": {
           "style": "light"
          },
          "paper_bgcolor": "white",
          "plot_bgcolor": "#E5ECF6",
          "polar": {
           "angularaxis": {
            "gridcolor": "white",
            "linecolor": "white",
            "ticks": ""
           },
           "bgcolor": "#E5ECF6",
           "radialaxis": {
            "gridcolor": "white",
            "linecolor": "white",
            "ticks": ""
           }
          },
          "scene": {
           "xaxis": {
            "backgroundcolor": "#E5ECF6",
            "gridcolor": "white",
            "gridwidth": 2,
            "linecolor": "white",
            "showbackground": true,
            "ticks": "",
            "zerolinecolor": "white"
           },
           "yaxis": {
            "backgroundcolor": "#E5ECF6",
            "gridcolor": "white",
            "gridwidth": 2,
            "linecolor": "white",
            "showbackground": true,
            "ticks": "",
            "zerolinecolor": "white"
           },
           "zaxis": {
            "backgroundcolor": "#E5ECF6",
            "gridcolor": "white",
            "gridwidth": 2,
            "linecolor": "white",
            "showbackground": true,
            "ticks": "",
            "zerolinecolor": "white"
           }
          },
          "shapedefaults": {
           "line": {
            "color": "#2a3f5f"
           }
          },
          "ternary": {
           "aaxis": {
            "gridcolor": "white",
            "linecolor": "white",
            "ticks": ""
           },
           "baxis": {
            "gridcolor": "white",
            "linecolor": "white",
            "ticks": ""
           },
           "bgcolor": "#E5ECF6",
           "caxis": {
            "gridcolor": "white",
            "linecolor": "white",
            "ticks": ""
           }
          },
          "title": {
           "x": 0.05
          },
          "xaxis": {
           "automargin": true,
           "gridcolor": "white",
           "linecolor": "white",
           "ticks": "",
           "title": {
            "standoff": 15
           },
           "zerolinecolor": "white",
           "zerolinewidth": 2
          },
          "yaxis": {
           "automargin": true,
           "gridcolor": "white",
           "linecolor": "white",
           "ticks": "",
           "title": {
            "standoff": 15
           },
           "zerolinecolor": "white",
           "zerolinewidth": 2
          }
         }
        },
        "title": {
         "text": "Distribution plot for handling wildfire units by Administrative units"
        },
        "width": 1200,
        "xaxis": {
         "anchor": "y",
         "domain": [
          0,
          1
         ],
         "title": {
          "text": "Number of wildfires handled"
         }
        },
        "yaxis": {
         "anchor": "x",
         "domain": [
          0,
          1
         ]
        }
       }
      }
     },
     "metadata": {},
     "output_type": "display_data"
    }
   ],
   "source": [
    "fig4 = make_subplots(rows=1, cols=1)\n",
    "fig4.add_trace(\n",
    "    go.Box(\n",
    "        x=admin_counts,\n",
    "        name=\"Boxplot\",\n",
    "        boxpoints=\"outliers\",\n",
    "        orientation='h'\n",
    "    ),\n",
    "    row=1, col=1\n",
    ")\n",
    "fig4.update_layout(\n",
    "    title_text=\"Distribution plot for handling wildfire units by Administrative units\",\n",
    "    width=1200,\n",
    "    height=500,\n",
    "    showlegend=False,\n",
    "    plot_bgcolor='white'\n",
    ")\n",
    "fig4.update_xaxes(title_text=\"Number of wildfires handled\", row=1, col=1)\n",
    "fig4.show()"
   ]
  },
  {
   "cell_type": "markdown",
   "id": "9fb0337f",
   "metadata": {},
   "source": [
    "#### Observation 6\n",
    "\n",
    "Most administrative units handle approximately 15-20 wildfires over the entire 6 years with the wildfire prone counties handling between 80 and 120 wildfires over 6 years."
   ]
  },
  {
   "cell_type": "code",
   "execution_count": 69,
   "id": "87b13afc",
   "metadata": {},
   "outputs": [
    {
     "data": {
      "application/vnd.plotly.v1+json": {
       "config": {
        "plotlyServerURL": "https://plot.ly"
       },
       "data": [
        {
         "hovertemplate": "WildfiresHandled=%{marker.color}<br>AdministrativeUnits=%{y}<extra></extra>",
         "legendgroup": "",
         "marker": {
          "color": {
           "bdata": "fVM9Ozo3NDQyLisqKCIhIR8fHBsZGRgXFxYWFBQREREQEA8NDQwLCwsKCgoHBgYFBQUEBAMDAgICAQE=",
           "dtype": "i1"
          },
          "coloraxis": "coloraxis",
          "pattern": {
           "shape": ""
          }
         },
         "name": "",
         "orientation": "h",
         "showlegend": false,
         "textposition": "auto",
         "type": "bar",
         "x": {
          "bdata": "fVM9Ozo3NDQyLisqKCIhIR8fHBsZGRgXFxYWFBQREREQEA8NDQwLCwsKCgoHBgYFBQUEBAMDAgICAQE=",
          "dtype": "i1"
         },
         "xaxis": "x",
         "y": [
          "Riverside",
          "San Diego",
          "San Luis Obispo",
          "Shasta",
          "Butte",
          "Kern",
          "San Bernardino",
          "Fresno",
          "Siskiyou",
          "Tehama",
          "Lake",
          "Monterey",
          "Los Angeles",
          "Lassen",
          "Santa Clara",
          "Tulare",
          "El Dorado",
          "Madera",
          "Modoc",
          "Contra Costa",
          "Santa Barbara",
          "Alameda",
          "Mariposa",
          "Napa",
          "Mendocino",
          "Tuolumne",
          "Humboldt",
          "Calaveras",
          "Ventura",
          "Sonoma",
          "Solano",
          "Stanislaus",
          "Trinity",
          "San Benito",
          "Nevada",
          "Yuba",
          "Placer",
          "Merced",
          "Plumas",
          "Yolo",
          "Amador",
          "Sacramento",
          "Inyo",
          "Orange",
          "San Joaquin",
          "Colusa",
          "Glenn",
          "Mono",
          "Kings",
          "Marin",
          "Del Norte",
          "Santa Cruz",
          "San Mateo",
          "Sutter",
          "Alpine",
          "Sierra",
          "Mexico",
          "State of Oregon",
          "State of Nevada"
         ],
         "yaxis": "y"
        }
       ],
       "layout": {
        "barmode": "relative",
        "coloraxis": {
         "colorbar": {
          "title": {
           "text": "WildfiresHandled"
          }
         },
         "colorscale": [
          [
           0,
           "rgb(158,1,66)"
          ],
          [
           0.1,
           "rgb(213,62,79)"
          ],
          [
           0.2,
           "rgb(244,109,67)"
          ],
          [
           0.3,
           "rgb(253,174,97)"
          ],
          [
           0.4,
           "rgb(254,224,139)"
          ],
          [
           0.5,
           "rgb(255,255,191)"
          ],
          [
           0.6,
           "rgb(230,245,152)"
          ],
          [
           0.7,
           "rgb(171,221,164)"
          ],
          [
           0.8,
           "rgb(102,194,165)"
          ],
          [
           0.9,
           "rgb(50,136,189)"
          ],
          [
           1,
           "rgb(94,79,162)"
          ]
         ]
        },
        "height": 700,
        "legend": {
         "tracegroupgap": 0
        },
        "plot_bgcolor": "white",
        "template": {
         "data": {
          "bar": [
           {
            "error_x": {
             "color": "#2a3f5f"
            },
            "error_y": {
             "color": "#2a3f5f"
            },
            "marker": {
             "line": {
              "color": "#E5ECF6",
              "width": 0.5
             },
             "pattern": {
              "fillmode": "overlay",
              "size": 10,
              "solidity": 0.2
             }
            },
            "type": "bar"
           }
          ],
          "barpolar": [
           {
            "marker": {
             "line": {
              "color": "#E5ECF6",
              "width": 0.5
             },
             "pattern": {
              "fillmode": "overlay",
              "size": 10,
              "solidity": 0.2
             }
            },
            "type": "barpolar"
           }
          ],
          "carpet": [
           {
            "aaxis": {
             "endlinecolor": "#2a3f5f",
             "gridcolor": "white",
             "linecolor": "white",
             "minorgridcolor": "white",
             "startlinecolor": "#2a3f5f"
            },
            "baxis": {
             "endlinecolor": "#2a3f5f",
             "gridcolor": "white",
             "linecolor": "white",
             "minorgridcolor": "white",
             "startlinecolor": "#2a3f5f"
            },
            "type": "carpet"
           }
          ],
          "choropleth": [
           {
            "colorbar": {
             "outlinewidth": 0,
             "ticks": ""
            },
            "type": "choropleth"
           }
          ],
          "contour": [
           {
            "colorbar": {
             "outlinewidth": 0,
             "ticks": ""
            },
            "colorscale": [
             [
              0,
              "#0d0887"
             ],
             [
              0.1111111111111111,
              "#46039f"
             ],
             [
              0.2222222222222222,
              "#7201a8"
             ],
             [
              0.3333333333333333,
              "#9c179e"
             ],
             [
              0.4444444444444444,
              "#bd3786"
             ],
             [
              0.5555555555555556,
              "#d8576b"
             ],
             [
              0.6666666666666666,
              "#ed7953"
             ],
             [
              0.7777777777777778,
              "#fb9f3a"
             ],
             [
              0.8888888888888888,
              "#fdca26"
             ],
             [
              1,
              "#f0f921"
             ]
            ],
            "type": "contour"
           }
          ],
          "contourcarpet": [
           {
            "colorbar": {
             "outlinewidth": 0,
             "ticks": ""
            },
            "type": "contourcarpet"
           }
          ],
          "heatmap": [
           {
            "colorbar": {
             "outlinewidth": 0,
             "ticks": ""
            },
            "colorscale": [
             [
              0,
              "#0d0887"
             ],
             [
              0.1111111111111111,
              "#46039f"
             ],
             [
              0.2222222222222222,
              "#7201a8"
             ],
             [
              0.3333333333333333,
              "#9c179e"
             ],
             [
              0.4444444444444444,
              "#bd3786"
             ],
             [
              0.5555555555555556,
              "#d8576b"
             ],
             [
              0.6666666666666666,
              "#ed7953"
             ],
             [
              0.7777777777777778,
              "#fb9f3a"
             ],
             [
              0.8888888888888888,
              "#fdca26"
             ],
             [
              1,
              "#f0f921"
             ]
            ],
            "type": "heatmap"
           }
          ],
          "histogram": [
           {
            "marker": {
             "pattern": {
              "fillmode": "overlay",
              "size": 10,
              "solidity": 0.2
             }
            },
            "type": "histogram"
           }
          ],
          "histogram2d": [
           {
            "colorbar": {
             "outlinewidth": 0,
             "ticks": ""
            },
            "colorscale": [
             [
              0,
              "#0d0887"
             ],
             [
              0.1111111111111111,
              "#46039f"
             ],
             [
              0.2222222222222222,
              "#7201a8"
             ],
             [
              0.3333333333333333,
              "#9c179e"
             ],
             [
              0.4444444444444444,
              "#bd3786"
             ],
             [
              0.5555555555555556,
              "#d8576b"
             ],
             [
              0.6666666666666666,
              "#ed7953"
             ],
             [
              0.7777777777777778,
              "#fb9f3a"
             ],
             [
              0.8888888888888888,
              "#fdca26"
             ],
             [
              1,
              "#f0f921"
             ]
            ],
            "type": "histogram2d"
           }
          ],
          "histogram2dcontour": [
           {
            "colorbar": {
             "outlinewidth": 0,
             "ticks": ""
            },
            "colorscale": [
             [
              0,
              "#0d0887"
             ],
             [
              0.1111111111111111,
              "#46039f"
             ],
             [
              0.2222222222222222,
              "#7201a8"
             ],
             [
              0.3333333333333333,
              "#9c179e"
             ],
             [
              0.4444444444444444,
              "#bd3786"
             ],
             [
              0.5555555555555556,
              "#d8576b"
             ],
             [
              0.6666666666666666,
              "#ed7953"
             ],
             [
              0.7777777777777778,
              "#fb9f3a"
             ],
             [
              0.8888888888888888,
              "#fdca26"
             ],
             [
              1,
              "#f0f921"
             ]
            ],
            "type": "histogram2dcontour"
           }
          ],
          "mesh3d": [
           {
            "colorbar": {
             "outlinewidth": 0,
             "ticks": ""
            },
            "type": "mesh3d"
           }
          ],
          "parcoords": [
           {
            "line": {
             "colorbar": {
              "outlinewidth": 0,
              "ticks": ""
             }
            },
            "type": "parcoords"
           }
          ],
          "pie": [
           {
            "automargin": true,
            "type": "pie"
           }
          ],
          "scatter": [
           {
            "fillpattern": {
             "fillmode": "overlay",
             "size": 10,
             "solidity": 0.2
            },
            "type": "scatter"
           }
          ],
          "scatter3d": [
           {
            "line": {
             "colorbar": {
              "outlinewidth": 0,
              "ticks": ""
             }
            },
            "marker": {
             "colorbar": {
              "outlinewidth": 0,
              "ticks": ""
             }
            },
            "type": "scatter3d"
           }
          ],
          "scattercarpet": [
           {
            "marker": {
             "colorbar": {
              "outlinewidth": 0,
              "ticks": ""
             }
            },
            "type": "scattercarpet"
           }
          ],
          "scattergeo": [
           {
            "marker": {
             "colorbar": {
              "outlinewidth": 0,
              "ticks": ""
             }
            },
            "type": "scattergeo"
           }
          ],
          "scattergl": [
           {
            "marker": {
             "colorbar": {
              "outlinewidth": 0,
              "ticks": ""
             }
            },
            "type": "scattergl"
           }
          ],
          "scattermap": [
           {
            "marker": {
             "colorbar": {
              "outlinewidth": 0,
              "ticks": ""
             }
            },
            "type": "scattermap"
           }
          ],
          "scattermapbox": [
           {
            "marker": {
             "colorbar": {
              "outlinewidth": 0,
              "ticks": ""
             }
            },
            "type": "scattermapbox"
           }
          ],
          "scatterpolar": [
           {
            "marker": {
             "colorbar": {
              "outlinewidth": 0,
              "ticks": ""
             }
            },
            "type": "scatterpolar"
           }
          ],
          "scatterpolargl": [
           {
            "marker": {
             "colorbar": {
              "outlinewidth": 0,
              "ticks": ""
             }
            },
            "type": "scatterpolargl"
           }
          ],
          "scatterternary": [
           {
            "marker": {
             "colorbar": {
              "outlinewidth": 0,
              "ticks": ""
             }
            },
            "type": "scatterternary"
           }
          ],
          "surface": [
           {
            "colorbar": {
             "outlinewidth": 0,
             "ticks": ""
            },
            "colorscale": [
             [
              0,
              "#0d0887"
             ],
             [
              0.1111111111111111,
              "#46039f"
             ],
             [
              0.2222222222222222,
              "#7201a8"
             ],
             [
              0.3333333333333333,
              "#9c179e"
             ],
             [
              0.4444444444444444,
              "#bd3786"
             ],
             [
              0.5555555555555556,
              "#d8576b"
             ],
             [
              0.6666666666666666,
              "#ed7953"
             ],
             [
              0.7777777777777778,
              "#fb9f3a"
             ],
             [
              0.8888888888888888,
              "#fdca26"
             ],
             [
              1,
              "#f0f921"
             ]
            ],
            "type": "surface"
           }
          ],
          "table": [
           {
            "cells": {
             "fill": {
              "color": "#EBF0F8"
             },
             "line": {
              "color": "white"
             }
            },
            "header": {
             "fill": {
              "color": "#C8D4E3"
             },
             "line": {
              "color": "white"
             }
            },
            "type": "table"
           }
          ]
         },
         "layout": {
          "annotationdefaults": {
           "arrowcolor": "#2a3f5f",
           "arrowhead": 0,
           "arrowwidth": 1
          },
          "autotypenumbers": "strict",
          "coloraxis": {
           "colorbar": {
            "outlinewidth": 0,
            "ticks": ""
           }
          },
          "colorscale": {
           "diverging": [
            [
             0,
             "#8e0152"
            ],
            [
             0.1,
             "#c51b7d"
            ],
            [
             0.2,
             "#de77ae"
            ],
            [
             0.3,
             "#f1b6da"
            ],
            [
             0.4,
             "#fde0ef"
            ],
            [
             0.5,
             "#f7f7f7"
            ],
            [
             0.6,
             "#e6f5d0"
            ],
            [
             0.7,
             "#b8e186"
            ],
            [
             0.8,
             "#7fbc41"
            ],
            [
             0.9,
             "#4d9221"
            ],
            [
             1,
             "#276419"
            ]
           ],
           "sequential": [
            [
             0,
             "#0d0887"
            ],
            [
             0.1111111111111111,
             "#46039f"
            ],
            [
             0.2222222222222222,
             "#7201a8"
            ],
            [
             0.3333333333333333,
             "#9c179e"
            ],
            [
             0.4444444444444444,
             "#bd3786"
            ],
            [
             0.5555555555555556,
             "#d8576b"
            ],
            [
             0.6666666666666666,
             "#ed7953"
            ],
            [
             0.7777777777777778,
             "#fb9f3a"
            ],
            [
             0.8888888888888888,
             "#fdca26"
            ],
            [
             1,
             "#f0f921"
            ]
           ],
           "sequentialminus": [
            [
             0,
             "#0d0887"
            ],
            [
             0.1111111111111111,
             "#46039f"
            ],
            [
             0.2222222222222222,
             "#7201a8"
            ],
            [
             0.3333333333333333,
             "#9c179e"
            ],
            [
             0.4444444444444444,
             "#bd3786"
            ],
            [
             0.5555555555555556,
             "#d8576b"
            ],
            [
             0.6666666666666666,
             "#ed7953"
            ],
            [
             0.7777777777777778,
             "#fb9f3a"
            ],
            [
             0.8888888888888888,
             "#fdca26"
            ],
            [
             1,
             "#f0f921"
            ]
           ]
          },
          "colorway": [
           "#636efa",
           "#EF553B",
           "#00cc96",
           "#ab63fa",
           "#FFA15A",
           "#19d3f3",
           "#FF6692",
           "#B6E880",
           "#FF97FF",
           "#FECB52"
          ],
          "font": {
           "color": "#2a3f5f"
          },
          "geo": {
           "bgcolor": "white",
           "lakecolor": "white",
           "landcolor": "#E5ECF6",
           "showlakes": true,
           "showland": true,
           "subunitcolor": "white"
          },
          "hoverlabel": {
           "align": "left"
          },
          "hovermode": "closest",
          "mapbox": {
           "style": "light"
          },
          "paper_bgcolor": "white",
          "plot_bgcolor": "#E5ECF6",
          "polar": {
           "angularaxis": {
            "gridcolor": "white",
            "linecolor": "white",
            "ticks": ""
           },
           "bgcolor": "#E5ECF6",
           "radialaxis": {
            "gridcolor": "white",
            "linecolor": "white",
            "ticks": ""
           }
          },
          "scene": {
           "xaxis": {
            "backgroundcolor": "#E5ECF6",
            "gridcolor": "white",
            "gridwidth": 2,
            "linecolor": "white",
            "showbackground": true,
            "ticks": "",
            "zerolinecolor": "white"
           },
           "yaxis": {
            "backgroundcolor": "#E5ECF6",
            "gridcolor": "white",
            "gridwidth": 2,
            "linecolor": "white",
            "showbackground": true,
            "ticks": "",
            "zerolinecolor": "white"
           },
           "zaxis": {
            "backgroundcolor": "#E5ECF6",
            "gridcolor": "white",
            "gridwidth": 2,
            "linecolor": "white",
            "showbackground": true,
            "ticks": "",
            "zerolinecolor": "white"
           }
          },
          "shapedefaults": {
           "line": {
            "color": "#2a3f5f"
           }
          },
          "ternary": {
           "aaxis": {
            "gridcolor": "white",
            "linecolor": "white",
            "ticks": ""
           },
           "baxis": {
            "gridcolor": "white",
            "linecolor": "white",
            "ticks": ""
           },
           "bgcolor": "#E5ECF6",
           "caxis": {
            "gridcolor": "white",
            "linecolor": "white",
            "ticks": ""
           }
          },
          "title": {
           "x": 0.05
          },
          "xaxis": {
           "automargin": true,
           "gridcolor": "white",
           "linecolor": "white",
           "ticks": "",
           "title": {
            "standoff": 15
           },
           "zerolinecolor": "white",
           "zerolinewidth": 2
          },
          "yaxis": {
           "automargin": true,
           "gridcolor": "white",
           "linecolor": "white",
           "ticks": "",
           "title": {
            "standoff": 15
           },
           "zerolinecolor": "white",
           "zerolinewidth": 2
          }
         }
        },
        "title": {
         "text": "Number of Wildfire Incidents Handled Based on Administrative Zones"
        },
        "width": 1200,
        "xaxis": {
         "anchor": "y",
         "domain": [
          0,
          1
         ],
         "showgrid": false,
         "showline": true,
         "title": {
          "text": "Number of Wildfire Incidents"
         },
         "zeroline": true
        },
        "yaxis": {
         "anchor": "x",
         "domain": [
          0,
          1
         ],
         "showgrid": false,
         "showline": true,
         "title": {
          "text": "Administrative Zone"
         },
         "zeroline": true
        }
       }
      }
     },
     "metadata": {},
     "output_type": "display_data"
    }
   ],
   "source": [
    "zonecount_df = pd.DataFrame({\n",
    "    \"AdministrativeUnits\": admin_index,\n",
    "    \"WildfiresHandled\": admin_counts\n",
    "})\n",
    "fig5 = px.bar(\n",
    "    zonecount_df,\n",
    "    x=\"WildfiresHandled\",\n",
    "    y=\"AdministrativeUnits\",\n",
    "    orientation='h',\n",
    "    color=\"WildfiresHandled\",\n",
    "    color_continuous_scale=\"Spectral\",\n",
    "    title=\"Number of Wildfire Incidents Handled Based on Administrative Zones\"\n",
    ")\n",
    "\n",
    "fig5.update_layout(\n",
    "    height=700,\n",
    "    width=1200,\n",
    "    xaxis=dict(title=\"Number of Wildfire Incidents\", showgrid=False, showline=True, zeroline=True),\n",
    "    yaxis=dict(title=\"Administrative Zone\", showgrid=False, showline=True, zeroline=True),\n",
    "    plot_bgcolor='white',\n",
    ")\n",
    "fig5.show()"
   ]
  },
  {
   "cell_type": "markdown",
   "id": "b1c7348f",
   "metadata": {},
   "source": [
    "#### Observation 7\n",
    "\n",
    "Looking at the wildfires handled by different administrative zones California Fire Department, it is clear that `Riverside`, `San Luis Obispo`, `Butte` and `San Bernardino` are the top four administrative zones dealing with a lot of wildfire incidents."
   ]
  },
  {
   "cell_type": "markdown",
   "id": "da4b18cc",
   "metadata": {},
   "source": [
    "Next, we will use the latitude and longitude data to answer the question we started with - how are these wildfires geographically distributed ?"
   ]
  },
  {
   "cell_type": "code",
   "execution_count": 70,
   "id": "9ec4b9f1",
   "metadata": {},
   "outputs": [
    {
     "data": {
      "application/vnd.plotly.v1+json": {
       "config": {
        "plotlyServerURL": "https://plot.ly"
       },
       "data": [
        {
         "hovertemplate": "Latitude=%{x}<br>Longitude=%{y}<br>size=%{marker.size}<br>ArchiveYear=%{marker.color}<extra></extra>",
         "legendgroup": "",
         "marker": {
          "color": {
           "bdata": "3QfdB90H3QfdB90H3QfdB90H3QfdB90H3QfdB90H3QfdB90H3QfdB90H3QfdB90H3QfdB90H3QfdB90H3QfdB90H3QfdB90H3QfdB90H3QfdB90H3QfdB90H3QfdB90H3QfdB90H3QfdB90H3QfdB90H3QfdB90H3QfdB90H3QfdB90H3QfdB90H3QfdB90H3QfdB90H3QfdB90H3QfdB90H3QfdB90H3QfdB90H3QfdB90H3QfdB90H3QfdB90H3QfdB90H3QfdB90H3QfdB90H3QfdB90H3QfdB90H3QfdB90H3QfdB90H3QfdB90H3QfdB90H3QfdB90H3QfdB90H3QfdB90H3QfdB90H3QfdB90H3QfdB94H3gfeB94H3gfeB94H3gfeB94H3gfeB94H3gfeB94H3gfeB94H3gfeB94H3gfeB94H3gfeB94H3gfeB94H3gfeB94H3gfeB94H3gfeB94H3gfeB94H3gfeB94H3gfeB94H3gfeB94H3gfeB94H3gfeB94H3gfeB94H3gfeB94H3gfeB94H3gfeB94H3gffB98H3wffB98H3wffB98H3wffB98H3wffB98H3wffB98H3wffB98H3wffB98H3wffB98H3wffB98H3wffB98H3wffB98H3wffB98H3wffB98H3wffB98H3wffB98H3wffB98H3wffB98H3wffB98H3wffB98H3wffB98H3wffB98H3wffB98H3wffB98H3wffB98H3wffB98H3wffB98H3wffB98H3wffB98H3wffB98H3wffB98H3wfgB+AH4AfgB+AH4AfgB+AH4AfgB+AH4AfgB+AH4AfgB+AH4AfgB+AH4AfgB+AH4AfgB+AH4AfgB+AH4AfgB+AH4AfgB+AH4AfgB+AH4AfgB+AH4AfgB+AH4AfgB+AH4AfgB+AH4AfgB+AH4AfgB+AH4AfgB+AH4AfgB+AH4AfgB+AH4AfgB+AH4AfgB+AH4AfgB+AH4AfgB+AH4AfgB+AH4AfgB+AH4AfgB+AH4AfgB+AH4AfgB+AH4AfgB+AH4AfgB+AH4AfgB+AH4AfgB+AH4AfgB+AH4AfgB+AH4AfgB+AH4AfgB+AH4AfgB+AH4AfgB+AH4AfgB+AH4AfgB+AH4AfgB+AH4AfgB+AH4AfgB+AH4AfgB+AH4AfgB+AH4AfgB+AH4AfgB+AH4AfgB+EH4QfhB+EH4QfhB+EH4QfhB+EH4QfhB+EH4QfhB+EH4QfhB+EH4QfhB+EH4QfhB+EH4QfhB+EH4QfhB+EH4QfhB+EH4QfhB+EH4QfhB+EH4QfhB+EH4QfhB+EH4QfhB+EH4QfhB+EH4QfhB+EH4QfhB+EH4QfhB+EH4QfhB+EH4QfhB+EH4QfhB+EH4QfhB+EH4QfhB+EH4QfhB+EH4QfhB+EH4QfhB+EH4QfhB+EH4QfhB+EH4QfhB+EH4QfhB+EH4QfhB+EH4QfhB+EH4QfhB+EH4QfhB+EH4QfhB+EH4QfhB+EH4QfhB+EH4QfhB+EH4QfhB+EH4QfhB+EH4QfhB+EH4QfhB+EH4QfhB+EH4QfhB+EH4QfhB+EH4QfhB+EH4QfhB+EH4QfhB+EH4QfhB+EH4QfhB+EH4QfhB+EH4QfhB+EH4QfhB+EH4QfhB+EH4QfhB+EH4QfhB+EH4QfhB+EH4QfhB+EH4QfhB+EH4QfhB+EH4QfhB+EH4QfhB+EH4QfhB+EH4QfhB+EH4QfhB+EH4QfhB+EH4QfhB+EH4QfhB+EH4QfhB+EH4QfhB+EH4QfhB+EH4QfhB+EH4QfhB+EH4QfhB+EH4QfhB+EH4QfhB+EH4QfhB+EH4QfhB+EH4QfhB+EH4QfhB+EH4QfhB+EH4QfhB+EH4QfhB+EH4QfhB+EH4QfhB+EH4QfhB+EH4QfhB+EH4QfhB+EH4QfhB+EH4QfhB+EH4QfhB+EH4QfhB+EH4QfhB+EH4QfhB+EH4QfhB+EH4QfhB+EH4QfhB+EH4QfhB+EH4QfhB+EH4QfhB+EH4QfhB+EH4QfhB+EH4QfhB+EH4QfhB+EH4QfhB+EH4QfhB+EH4QfhB+EH4QfhB+EH4QfhB+EH4QfhB+EH4QfhB+EH4QfhB+EH4QfhB+EH4QfhB+EH4QfhB+EH4QfhB+EH4QfhB+EH4QfhB+EH4QfhB+EH4QfhB+EH4QfhB+EH4QfhB+EH4QfhB+EH4QfhB+EH4QfhB+EH4QfhB+EH4QfhB+EH4QfhB+EH4QfhB+EH4QfhB+EH4QfhB+EH4QfhB+EH4QfhB+EH4QfhB+EH4QfhB+EH4QfhB+EH4QfhB+EH4QfhB+EH4QfhB+EH4QfhB+EH4QfhB+EH4gfiB+IH4gfiB+IH4gfiB+IH4gfiB+IH4gfiB+IH4gfiB+IH4gfiB+IH4gfiB+IH4gfiB+IH4gfiB+IH4gfiB+IH4gfiB+IH4gfiB+IH4gfiB+IH4gfiB+IH4gfiB+IH4gfiB+IH4gfiB+IH4gfiB+IH4gfiB+IH4gfiB+IH4gfiB+IH4gfiB+IH4gfiB+IH4gfiB+IH4gfiB+IH4gfiB+IH4gfiB+IH4gfiB+IH4gfiB+IH4gfiB+IH4gfiB+IH4gfiB+IH4gfiB+IH4gfiB+IH4gfiB+IH4gfiB+IH4gfiB+IH4gfiB+IH4gfiB+IH4gfiB+IH4gfiB+IH4gfiB+IH4gfiB+IH4gfiB+IH4gfiB+IH4gfiB+IH4gfiB+IH4gfiB+IH4gfiB+IH4gfiB+IH4gfiB+IH4gfiB+IH4gfiB+IH4gfiB+IH4gfiB+IH4gfiB+IH4gfiB+IH4gfiB+IH4gfiB+IH4gfiB+IH4gfiB+IH4gfiB+IH4gfiB+IH4gfiB+IH4gfiB+IH4gfiB+IH4gfiB+IH4gfiB+IH4gfiB+IH4gfiB+IH4gfiB+IH4gfiB+IH4gfiB+IH4gfiB+IH4gfiB+IH4gfiB+IH4gfiB+IH4gfiB+IH4gfiB+IH4gfiB+IH4gfiB+IH4gfiB+IH4gfiB+IH4gfiB+IH4gfiB+IH4gfiB+IH4gfiB+IH4gfiB+IH4gfiB+IH4gfiB+IH4gfiB+IH4gfiB+IH4gfiB+IH4gfiB+IH4gfiB+IH4gfiB+IH4gfiB+IH4gfiB+IH4gfiB+IH4gfiB+IH4gfiB+IH4gfiB+MH4wfjB+MH4wfjB+MH4wfjB+MH4wfjB+MH4wfjB+MH4wfjB+MH4wfjB+MH4wfjB+MH4wfjB+MH4wfjB+MH4wfjB+MH4wfjB+MH4wfjB+MH4wfjB+MH4wfjB+MH4wfjB+MH4wfjB+MH4wfjB+MH4wfjB+MH4wfjB+MH4wfjB+MH4wfjB+MH4wfjB+MH4wfjB+MH4wfjB+MH4wfjB+MH4wfjB+MH4wfjB+MH4wfjB+MH4wfjB+MH4wfjB+MH4wfjB+MH4wfjB+MH4wfjB+MH4wfjB+MH4wfjB+MH4wfjB+MH4wfjB+MH4wfjB+MH4wfjB+MH4wfjB+MH4wfjB+MH4wfjB+MH4wfjB+MH4wfjB+MH4wfjB+MH4wfjB+MH4wfjB+MH4wfjB+MH4wfjB+MH4wfjB+MH4wfjB+MH4wfjB+MH4wfjB+MH4wfjB+MH4wfjB+MH4wfjB+MH4wfjB+MH4wfjB+MH4wfjB+MH4wfjB+MH4wfjB+MH4wfjB+MH4wfjB+MH4wfjB+MH4wfjB+MH4wfjB+MH4wfjB+MH4wfjB+MH4wfjB+MH4wfjB+MH4wfjB+MH4wfjB+MH4wfjB+MH4wfjB+MH4wfjB+MH4wfjB+MH4wfjB+MH4wfjB+MH4wfjB+MH4wfjB+MH4wfjBw==",
           "dtype": "i2"
          },
          "coloraxis": "coloraxis",
          "opacity": 0.8,
          "size": {
           "bdata": "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",
           "dtype": "f8"
          },
          "sizemode": "area",
          "sizeref": 102550.75,
          "symbol": "circle"
         },
         "mode": "markers",
         "name": "",
         "showlegend": false,
         "type": "scattergl",
         "x": {
          "bdata": "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",
          "dtype": "f8"
         },
         "xaxis": "x",
         "y": {
          "bdata": "L90kBoEFXsDvHMpQFZtdwCJseHqlLl3AmpmZmZkpXsAxCKwcWtRdwEAwR4/fOV3AJQaBlUPLXsCsHFpkO99ewPhwyXGndl7A4sgDkUWiXsAjoS3nUh5dwAn+t5IdZl7AAJF++zq8XcAAkX77OrxdwAMJih9jtl7AXRd+cD48XcBzgjY5fHhewBakGYumIV3AHNMTlnhYXsAW+8vuyVNdwCPb+X5qnF3A3xrYKsH0XcD4iJgSSfpdwJkNMsnIWV3AIR/0bFYhXcDo3sMlxwFewBKDwMqhpV3AUPwYc9e6XcC/R/31CqddwN2YnrDEu13AUI2XbhITXsBeDrvvGENdwD6XqUnwMF7AWp2cobg2XcAK16NwPUJewEz9vKlIA17Af03WqId6XsCuDRXj/PFdwIPAyqFFZl3ApYP1fw6BXcDRItv5fpJewI+M1eb/O17AK4cW2c5fXsArhxbZzjlewO0MU1vqZF7AC0EOSphvXsARNdHno+hdwCcxCKwcel3AFcRA174vXcBI4XoUrmddwOhLb38ub17AgZICC2BYXsBt5Lop5aNewKabxCCwWl3AhjlBmxyFXsDHuriNBlhewLn7HB8tlV7AlkOLbOeTXsDo3sMlxwRewN0kBoGVhV7A7xtfe2ZFXsDvG197ZkVewK8l5IOeqV7AAg6hSs2gXsAKvJNPj0pdwI2XbhKDTF7AAwmKH2POXcBLqyFxj6VdwEw3iUFgnV3A/67PnPWpXsBpjNZR1YhewEmERrBxQF7AnfNTHAdMXcBlqmBUUqRewAn5oGezNV7Avp8aL91cXcCiCn+GN+hdwNqs+lxtOV7AQdR9AFIVXsBblxqhnzldwOf7qfHSvV7AAAAAAAAYXsB3vp8aLy1dwKDctu9RPV7AatrFNNM9XsDMf0i/fTVewJUO1v85YF7AkQ96NqvyXcA2zTtO0SldwHpTkQpjNV7AU5YhjnXJXsDJVwIpsW1ewEoMAiuHVl3AKgDGM2jwXcDqBDQRNlxdwNx/ZDp0ll7AFvvL7slGXcCqmiDqPlRewFDG+DB7n17AA0NWt3rIXcDXo3A9CiddwLUV+8vuP13A9nzNctlGXsBMiSR6GTBewFR0JJf/sF7AEM8SZASlXsAZc9cS8nFewG+BBMWPZV7A8IXJVMEoXsD7P4f58hxewKES1zGu3V3Az/i+uFTEXsCCc0aU9q5ewGq8dJMYSF3AkUQvo1ibXsAniSXl7m1ewBHHuriNal3A/kP67esGXcCOdXEbDVBdwMkh4uZUU13ASMX/HVEKXcAgQfFjzKVewNf6IqEtd17ADMwKRbrjXcAUrkfhejpewBtjJ7wEiV7AVgvsMZEsXsCscTYdAa1ewF0XfnA+PF3AdLUV+8uCXsB0tRX7y4JewHS1FfvLgl7AdLUV+8uCXsAb2CrB4p5ewDwUBfpELV3AY2Adxw86XcAFNBE2PKVewDUk7rH0RV3A8tJNYhDYXsB5dY4B2TVdwFb18jtNKF7AZDvfT41XXsCuR+F6FJZewIcW2c73Y17AyxDHurhNXsCsjhzpDLBewC2yne+nhl7A7FG4HoWzXsDjpZvEIIhewF9/Ep87Ul3AkxgEVg6dXsCTGARWDp1ewIMvTKYKMl7Agy9MpgoyXsBR2ht8YZ5dwOFCHsGNo13AkSv1LAhjXcBYqDXNO0pdwNUJaCJseF3AmpmZmZmJXcDD9ShcjzJewI2XbhKDSF3AYOXQIts5XsBw0F59PGNdwG3n+6nxil7AWDm0yHZmXcC7trdbknJewJMYBFYOHV7A2V92Tx7qXcBg5dAi21FdwAaBlUOLvF7AR4/f2/SXXsDXL9gN2xxewFD8GHPXXl7A7nw/NV5KXcA51VqYhfFewKOutfep5l3Ac2iR7Xx3XcCwcmiR7RxewMkFZ/D3P17AbCQJwhWWXsB/aVGf5CRdwNV46SYx8F7A001iEFhxXcCYTBWMSqZewBkEVg4tjl7A+FPjpZsMXsCPwvUoXB9dwEoMAiuHll3AYOXQItvVXcAbL90kBlFewG8Sg8DKAV7ACtejcD0qXsD+1HjpJgVewPCFyVTBYF7AYOXQIttVXsBzaJHtfEdewPrt68A5Z17Aklz+Q/oVXsBiEFg5tAxdwKAaL90krl7Ac7osJjZtXcDvOEVHckFewIP26uOh4V3A2ht8YTJRXsB80/TZAS1ewJHtfD81Dl3AeXk6V5SYXsD+KytNSjldwI/C9Shcz17ADi2yne/XXsBSuB6F67ldwFBTy9Z6nl7ASIpnRSM5XcDgGo6dJp9ewOAajp0mn17AH4XrUbgGXsDD9Shcj6JdwPnaM0sC4F3ADAIrhxZZXsA730+Nl15dwIC3QILiV17AMnctIR8oXsB79fHQdzhewJhuEoPAyl7Ad06zQLtlXsBrDaX2ImldwERpb/CFVV7A9n04SIjhXcAAAAAAAIBewA2reCPzVF7AvJaQD3oiXcD9TShEwLRdwD8buW5Kol3A2zNLAtRYXsCDNGPRdERewHcSEf5FuF7AEce6uI1uXcAJT+j1J5xewFLy6hwDCl7AwcqhRbZrXcBYObTIdnZewMSUSKKXa17AI0p7gy+gXsACmggbnjZdwA5Pr5RlI17AOpLLf0iXXsCJfJdSlzddwNy3Wicu8l7AJTs2AvFQXsDi6ZWyDIVewEUcoVWcBF/An4JOG+gsXsCjI7n8h+xdwFPQ7SWNvV7Ae4UF9wNLXsCrPldbsSNewNOkFHR7J17AXSM45NVxXsByv0NRoKFewEHUfQBSE17AjErqBDR5XsCwjXiym09dwNEQRMxbcF7ABaOSOgFBXsBeY5eo3oxewNk9eViouV3A2zdSEYI8XcBfYcH9gEZewN1e0hite17Au16aIsCMXsBg5dAi2xlewAAAAAAAQF7A1SZO7ncMXsAV/aGZJ0JewMxB0NGqSF7AhPV/DvOZXsCNl24SgzhdwOyTktR4Ul3AF9nO91OjXsCLv5JQH0NdwHaqfM9IuF3AyM1wAz7XXsAOT6+UZSNewExPWOIBTV7Aw9MrZRmKXsBg5dAi25VewDMa+bziz17AUMO3sG5MXsD1udqK/UtewO5aQj7oSV7A8FAU6BMhXcDjNhrAW2RewOXtCKcFL13AE9bG2Al5XsAIrBxaZNNewAq6vaQxol7AuHU3T3XoXcBVTRB1H1xdwPd14JwR9V7AKXef46OLXsBHA3gLJJxewKjGSzeJ8V7AGRu62R/wXcBLqyFxj3lewGl0B7EznV3AEK/rF+w+XsBPzHoxlF9dwGQ730+Nx17AzqrP1VakXcD/CS5W1CJewFrY0w5/UV3AqtTsgVYoXcD+1HjpJuldwGYUyy2tIF7AXANbJViEXsAAAAAAADxewAAAAAAAPF7AQgkzbf+8XcA9CtejcJVdwHtmSYCadl7AJQaBlUOjXcCCHJQw06ZewOZ5cHfWTF7A39xfPe4cXsDP91PjpeNewM6qz9VWFF7Ake18PzUyXsAEIVnABFBewPCnxks3yV3ANQwfEVPgXcCYF2AfndBdwJEKYwtBrl3AOwFNhA21XsCQoPgx5kxewNxLGqN1Vl3AGCZTBaOkXcCwG7YtyhRewAaBlUOLZF7AyXa+nxqnXsApXI/C9chdwLHEA8qm9F7AINJvXwduXsADeAskKK5dwNgqweJwpF7A9+RhodYoXsAUIuAQqq5ewIlBYOXQWF7ACHJQwkyvXcBuowG8BTpewPq5oSk7QF7AADrMlxc0XsB3oblOIydewFuxv+yeoF3Ah/nyAuxxXsBg5dAi2+ldwFa8kXnkiV7AFK5H4XpUXsBOtKuQ8o1dwNNqSNxjI17A5wDBHD2gXsCIEcKjjWVewABvgQTFOV7AJUBNLVvZXcAQkgVM4AZewJrlVxjHU17Ax9eeWRLWXcAtsp3vp5ZdwB9Hc2TlAV7Adk8eFmphXcAdrP9zmBlewAXFjzF3V17AnfS+8bUnXsD+YyE6BEldwK3AkNWtvF3A8ddkjXrYXcBortNIS1tewPd14JwR5V3AAp8fRghbXsA3ww34/HJewPXb14FzZl7AfCdmvRjqXcADWyVYHHxewEpGzsKepl3ARFGgT+QzXsACK4cW2TJdwOOqsu+Kcl7ANuohGt1tXsAawFsgQY1ewCpSYWwhWF7AfR8OEqJGXsCN7iB2pjRewERpb/CF8V3AozzzctghXsAsms5OBoNewLdFmQ0yQ17AjBAebRyRXsACK4cW2XZewCVATS1b2V3AQxzr4jaaXsASpb3BF+JdwLAD54woVV7AFqQZi6ZFXcCDUUmdgLJewN1B7Eyhm17A8tJNYhAQXsALXvQVpIFewOUn1T4dKV7ADwu1pnk7XsCOBvAWSOBewHGsi9toVF3Aww34/DBAXsDQs1n1uWZewAexM4XOQ17AT6+UZYhxXcASFD/G3DVewGYUyy2tIF7ADYl7LH2oXcB2/YLdsJlewPjCZKpgSF7A8tJNYhCMXsAnwoanV95dwLRqIRJP217Ae4MvTKaQXsAlI2dhT0ldwABXsmMjnl7AvjCZKhgrXsAB3gIJijdewK36XG3Fsl7AinYVUn4sXsAHfH4YIURewGlv8IXJbF7AgPEMGvqJXcAHRfMAFmZewAX6RJ4kRV7A845TdCRKXcAawFsgQT1dwGwJ+aBnN17AvFetTPilXsDNdRppqWxewP2k2qfja17AjZduEoMsXsBzNKIPcUJewDIDlfHvnV7ACHdn7bYDX8ABGM+goZdewKd0sP7P8V7Ax0s3iUFcXcBScS2kjbpewCibcoV3JV3AJQaBlUOjXcAVdHtJYwBewNMTlnhA5V3AjxmojH+FXcAWZHA5g7JdwJIFTODWxV3AkgVM4NbFXcAQzNHj9whewIhLjjulDV7AdZMYBFbeXsAhH/RsVqFewCEf9GxWoV7AC0EOSpiPXsALQQ5KmI9ewManABjPDF7Ay6FFtvPNXsBRg2kYPqhewFGDaRg+qF7AttYXCW2vXcAibHh6pcpewA3gLZCgFF7A8tJNYhDgXsCcpzrkZsZewKmkTkATn13AkgVM4Nb7XcCitDf4wvxdwM5THXIzul7AVFc+y/OWXcDOjekJS8JewFqBIatb6V3AVmXfFcEXXsAvbqMBvFlewIGVQ4tsbV3AtvP91HjjXcD2fw7z5WFewGQ730+N513ABoGVQ4sUXsDTvOMUHZFdwIPAyqFF5l3Ad4GSAgsmXcAr+64I/llewJOMnIU9pV3AnDOitDcOXsB1sP7PYVpewGXfFcH/EF7ANV66SQzyXcAWhzO/mtdewApoImx4Pl7A30+Nl25KXcC3nEtxVVNewEq1T8djRl3AJQaBlUPrXsCzmNh8XLldwHJtqBjna13Arthfdk8wXsBBKzBkdQNewG3n+6nxkl3A3PRnP1K8XcBLyAc9m4FewN52oblOqV7Ay5wui4kzXcAplltaDSVewCmWW1oNJV7ASYWxhSA5XsBOYhBYOfxdwJUrvMtFnl7AaFw4EJIjXsAvaYzWUcVdwHKKjuTyH17ArKksCrsnXsDxaOOItapdwL6fGi/dNF3A1zTvOEXzXcBg5dAi26ldwFIKur2kU13ARIts5/uZXcAtsp3vp0ZewL6kMVpHs13AFFysqMFZXcCCqPsApNxdwBK9jGK5U13AxooaTMPeXcAU0ETY8AhewPZ698d7WV3A5wDBHD10XsBg56bNOA1ewJzEILBy0l7Aie/ErBdVXsBLdmwE4lVdwE5iEFg5BF7ARyBe1y9IXsA3bFuU2aZdwI9TdCSXMV7AYTdsW5SfXcDU7lcBvgFewJdWQ+IeGl7AIXam0Hn1XcDvG197ZktdwC9uowG8/V3AG/UQje5SXsBOucK7XDhdwMed0sH6L17AniRdM/m2XcA/OnXls1RdwGdEaW/wtV7A5DEDlfERXsDGihpMw0ZdwAx4mWGjF17AgEi/fR0cXsDL8nUZ/gBewO58PzVeEl7Ae/fHe9WeXcAqjC0EOcRdwITTghd9U17A5gXYR6c2XcDP91PjpQ9ewI+NQLyuR17A6rKY2HyEXsBF9dbAViVewNdMvtnm3l3AxoUDIVmQXsBy+Q/ptylewAr0iTxJHl7AOZz51Ry4XcABTYQNT7tdwK0vEtpyQl3AqvHSTWLgXsAk0csolkldwFIP0egOtl3At5xLcVVVXcB4l4v4TipdwAk4hCo1GV7AKowtBDkUXsD4M7xZg0JewFXejnBacl7Abef7qfH6XcCpTZzc7zBewLx0kxgE+F3A4gFlU66eXcCpE9BE2F5dwN+JWS+Gtl7Abmk1JO55XsB2bATidRtdwDsA4q5eWV3AjZduEoN6XsAzxLEubvNdwPZdEfxvOV7AKNcUyOwZXsC+nxov3axdwP/PYb68sF3AJJwWvOibXsB5r1qZ8EFdwOrnTUUqQF3Ac2iR7XwBXsBjf9k9eWJewKKcaFchH17ABTQRNjwBXsDLoUW2819ewCfChqdXfl7AC170FaRNXcCbPdAKDGtewKzijcwjD17ADk+vlGUUXsCitDf4wvJdwKn7AKQ2XV3AbCHIQQnhXsDGbTSAt8hewDhKXp1jZF7AtDwP7s4sXsDD9ShcjzpewJjD7juGtl3AMnIW9rSvXcD1Zz9SRHBewA4QzNHjIV7ArDlAMEcxXcCc4QZ8fg5ewLhAguLHgF7AoBov3SQqXsBlcJS8OhNewDC7Jw8LF17AZ2DkZU1PXcCGj4gpkSBewMQI4dHGP13AkuhlFMsnXsBwsaIG03ZewDLmriXkj17ACJRNucLbXcDMXUvIB2VewPlJtU/HKV7A/kRlw5o4XcD2XRH8b29ewKUsQxzrFF7Af9k9eVh0XsA9LNSa5hddwBN+qZ83pV7A5lyKq8qkXsDcupunOn5ewGMoJ9pVZl7AAYdQpWYhXsBhVFInoGtewLqD2JlCUV3A2ucxyjM8XcC4QILixzRdwLlTOlj/6V3Ac4V3uYhpXsDBxYoaTAFewL6fGi/dpF7A8iTpmsnTXcBRpWYPtPBewIVCBBxCSV3AdY4B2ettXsC3nEtxVSlewHmSdM3kXV3A6Gor9pfnXcBCz2bV5zpewDGx+bg2wF3AiBHCo41jXsDV7IFWYIhewLa5MT1hRV7A9zsUBfrWXcBd4V0u4iNewGO0jqomPl7Aw2SqYFREXcDvA5DaxD1ewDVeukkMUF3AylTBqKQSXsCe6pCb4YxewPJetTLha17A9wZfmEwlXsAOhGQBE9JdwLDmAMEcR17A1xLyQc8GXsDONjemJyxewEAwR4/fS13AGw3gLZAAXsDrrYGtEh5dwATnjCjts17A7FG4HoUfXsD36XjMQLVewMPYQpCDsl3AwhIPKJs2XsDKVMGopM5dwDWYhuEjwl7AHZQw0/a/XcCR7Xw/NShewFRSJ6CJlF7AjNZR1QThXcCvlGWIY5dewHh6pSxDgF7A8s02N6Z5XsDa5sb0hKVdwKabxCCwkl7AiC6ob5mRXsDeVKTC2HBewHZUNUHUdV7Axy5RvTWkXcDmV3OAYEBdwAskKH6Mg13A5WGh1jSTXsAArmTHRp5dwANDVrd6CF7ACKwcWmRTXsD+t5IdG79dwPjCZKpgSl3AG9gqweJSXcCu00hL5TlewN8a2CrBBF3AJ4i6D0BAXsBApN++DiRewGHD0ytlWV3Aarx0kxhMXcAawFsgQZ1ewK2GxD2WWF3AeO49XHIcXsAwKqkT0HZewCcxCKwcZF7Ax7q4jQaSXsCSlsrbEThewM/abReaRV7AM/59xoWRXsAVAOMZNCJewA6+MJkqvF7AN8MN+PysXcDhRV9BmrldwB/0bFZ9Xl3AfCdmvRggXcCAt0CC4l9dwGH9n8N8j17ANQcI5uidXcAbgXhdvwBfwMmrcwzI6F7A+5Y5XRatXsDOpbiq7KdewOs56X3jb17ATrNAu0MgXsCY3ZOHhVZewGYxsfm4jl7AnNzvUBSqXsBp44i1+BxewLKd76fGk17Ap5at9UUWXsChhJm2fzFdwE1KQbeXRl3AoE/kSdKxXsA+6Nms+l5dwLvVc9L7Ol7ARDS6g9i1XcAC2evdH01dwAAAAAAAWl3AzCiWW1pVXcAF3V7SGOlewHZUNUHUU17A6xuY3ChUXcA4onvWNT5dwGiz6nO1nV3AAAAAAADYXsC6LCY2H9lewMl2vp8aRV3Ar3yW58E7XsBNZryt9D5ewGHgufdwc17AelORCmMcXsDgLZCg+J1dwIfEPZY+qF3ArOKNzCPpXsCK5ZZWQ1BdwH3ogvqWHV7AkIgpkUSbXsD99nXgnG1ewJpC5zV2F17ACqLuA5AMX8CaQuc1dkddwCrj32dcFF7AuhRXlX09XcBcrKjBNFpewM3km21uVF3A499nXDgmXcBKKej2kiBdwKkT0ETYQl7AIVnABG4nXcBWDi2ynYFewINRSZ2ANl3APq4NFeP8XcC1T8djBphdwFDCTNu/El3ADLCPTl1BXcCJQWDl0IpewF2/YDdsK17A8BZIUPyQXsCDo+TVOQBewESGVbyRn17An+V5cHe0XcDmriXkg1pewOSghJm2P17A2QjE6/r9XsAS91j60M9ewFJ+Uu3Tj17AixpMw/ATXsDb+X5qvExdwCpXeJeLxl7AGOyGbYs2XcChZ7Pqc41ewFFOtKuQ+l3A86s5QDA7XsCjdVQ1QTpdwOZciqvKSF7A/kY7bvhHXcAbu0T11uRewKciFcYWKl7AhxVu+UipXsDvj/eqlZNdwItx/iYUrl7A5e0IpwVjXsB9rrZify1ewDPhl/p5N17Aklz+Q/r3XcBEi2zn+2VewCWvzjEgi17AdZMYBFYeXsAjvhOzXjxewHaJ6q2BP13AysNCrWnSXcDWi6GcaCNdwMwLsI9O5V3ALbKd76eiXsBiFW9kHj1ewG2oGOdvJF7Acqd0sP43XsAhWcAEbjVewLosJjYfBV3AOq+xS1QRXsBkO99PjRpewIBIv30daF7AKPIk6ZohXsCjdVQ1QVxdwOcAwRw9Nl7AsCDNWDQvXsDAPjp15UNewAAAAAAAVF3A1A5/TdZmXsBTBaOSOhVewFXBqKROYF3Aq1s9J725XsDx8nSuKEZdwLgehetRkF7AWW5pNSQKXsCmRBK9jNRdwLXgRV9BLl7ACoUIOIR2XcBfXoB9dD5ewLQCQ1a3mF7A4dHGEWtPXcAIPZtVn1VewNoDrcCQP13AMc7fhEJEXsAnoImw4T1dwLB1qRH6sl3AdbD+z2E4XcDy0k1iEFhewPQyiuWWll3AKGGm7V9LXcA51sVtNFZewDvHgOz1qF7AxRuZR/6YXsAZyol2FfJdwI2XbhKD4F7A+n5qvHQTXsAa3UHsTItewBniWBe3PV7ARnwnZr2uXsAFUfcBSGVdwHWTGARW3l7AFXR7SWPgXcC9GMqJdjNewCjyJOmaY17AFR+fkJ3GXsAVH5+QncZewBUfn5Cdxl7AFR+fkJ3GXsASMSWS6KdewBIxJZLop17Aj+TyH9JbXsCwVYLF4axdwLBVgsXhrF3AER5tHLH4XcCh20sao4tewKHbSxqji17A7FG4HoWbXsDsUbgehZtewETAIVSpx17ARMAhVKnHXsBEwCFUqcdewLx0kxgEjl7AkGYsms5CXsAl6ZrJN6JewPp+arx0+13As3vysFBhXcDtvI3NjjdewNjTDn9Npl7AOj3vxoI8XsC3lzRG69xdwFa8kXnkFV7AwARu3c27XcBkO99PjcddwOxRuB6Fi17AFhiyutVxXsBDdAgcCexewPs/h/nypl3A9x4uOe7+XcC0WfW52pZewCF2ptB5tV3Aa4Ko+wCOXcDcSxqjdZxewKgY529CpV7AlSwnofQVXsAUkzfAzIJewNpyLsVVB17AUkmdgCagXcCBlUOLbGFewC+jWG5pMV7AM23/ykrhXsDe5SK+E5tewAfwFkhQfF7ALgQ5KGEwXsA5KGGm7ZNdwFlN1xNdPV3A626e6pA/XsCztb5IaIVdwBYYsrrVQ13ASx+6oL5yXsAqOLwgIipewFS3BvjmBV7AVRLZB1m0XcB6cHfWbsVewBeCHJQwcV7A+RQA4xl8XsAicY+lDz1ewBiaJeCbf17ALV3BNuJcXsCze/KwUK9dwMYzaOifNF7A0zB8REwXXsBClZo90GZewKSl8naEJ17Aie/ErBdhXsABT1q4rDlewMKGp1fKLl3A05/9SBFlXsB798d71RxewFkXt9EASl7AnrXbLjQ3XsD2KFyPwqldwLhAguLHOl3AQMHFihrsXcDDtkWZDXJewHXo9Lwbvl3ANzemJyyLXsDCo40j1nhewJjcKLLWQ17AmN2Th4W6XsDTFAFO7+ddwDMWTWcnYF3Adoh/2NI3XsBJ1uHoKgBewFEzpIriZl3AQs9m1edCXsAkl/+Qfn9ewL2MYrmlkV7AC+9yEd8dXcCoxks3iVtewCAkC5jALV7AcCU7NgLxXcDU8ZiByjldwDemJyzxdl7AB9MwfESeXsAlBoGVQ8NewNnNjH40N17Anil0XmNPXcCaBkXzACBdwCntDb4wu13Ab4EExY8PXsCz7h8L0WhewH0MkEc0qV3ANKFJYklLXsD2KFyPwqFewLyuX7Abbl3AuqC+ZU7nXcBbzqW4qoxewK36XG3FLF7Al4v4Tsw0XsBLcsCuJnZdwC9pjNZRE17ADcNHxJR8XsAkXr/c/rhewBBYObTIb13AjbPpCOBpXcBKDAIrh65ewDUgKb9Yxl3A61bPSe9PXsDon+BiRTtewLJGPUSjW13AqKlla30dXsBv9Zz0votewAbYR6eupl3ABARz9PipXsC7D0BqE59ewEeQSrGjT13AeH+8V63GXcDhehSuR1FewLsnDwu1NF7AA8+9h0tiXsDIJvkRvwxewGB7oPRJs13ARFA1ejX1XcBg6udNRQ5ewGwE4nX92l3AbHh6pSzDXsCGIAclzKRewHZsBOJ1jV7AUhUJXI1BXcDCUfLqHLVdwMAJhQg4Wl3A51JcVfYHXsDWHCCYo0dewIbJVMGorl3A9E9wsaLYXsBI+Um1T1FewLEWnwJgDF7AzPCfbqDbXcC+E7NeDEFewMAma9RDpl7AjpJX5xgsXsC0ILUFWxRewH5v05/9il7Ai6pf6XzTXcA2yvrNxKBewMR3YtaLpV7AmDRG66hUXcDiAWVTrnJewHtOet/4al7Ada+T+rKIXsC7SKEsfEldwIs3Mo/8RV7AhA8lWvI3XsDeO2pMiNBewBGq1OyBQl7A44i1+BRCXsAF/s/l9mtewGco7niTqV7ACOi+nNkuXcBzhXe5iL9ewBsS91j6Rl7AdVlMbD64XcBfB84ZUbBdwMdjBirjRV7ALiC0Hr6TXsAzMzMzM5dewIYb8Plh+l3AflLt0/EnXsCKyRtg5ipewE8GR8mrC17AoMN8eQFCXcDon+BiRR9ewLK61XPSTV7A/3ivWpl2XsBRZoNMMvBdwGlXIeUnW13ARGlv8IU7XsC5NlSM8/VdwFfPSe8bJ17AzNHj9zYpXsCIhVrTvHlewMk5sYf2bF7AJNHLKJa3XsDhehSuR4dewCsYldQJUl7Axyk6ksuBXsCnrnyW54dewAQcQpWaW17AVyQmqOEJXcCYo8fvbf5dwFQ2rKksel7Af6Xz4VlhXsCLNzKP/FlewCMyrOKNmF7A8YCyKVdEXcA5Yi0+BS5ewOuLhLaclV7AGCE82ji+XsBMpZ9wdkVdwBFwCFVq0l7AX0TbMXVdXcDKw0KtaWZewM8sCVBTV17ApYP1fw6hXcAk0csolmNewJAUkWEVrV3A8iTpmslnXsDq501FKpxewA7z5QXYSV3AbxxniQTUXcDiI2JKJE1dwFYrE36pQ17A5Nu7Bn2eXsBMT1jiAY9ewJjdk4eFcF7A5e0IpwWJXsCph2h0B3NewBk5C3vaW13AtHbbheY8XsCa6zTSUktewCBGCI82/F3AliGOdXE3XcAbvoV146BewLRZ9bnavl3A+vIC7KM7XcAgskgT739ewBsS91j6KF7AkdWtnpO2XsB4YADhQ0RdwK93f7xXd17AtDwP7s6SXsBzaJHtfANewB+/t+nPXl3AUPwYc9dyXsAArmTHRnxewEJ23sZmZl7Avw6cM6JzXsCnlUIglzRdwH8zMV2IZ17ApBr2e2KbXcCSBUzg1gtewE/MejGUUV3AJt9sc2NKXcBt5/up8YJewHS0qiUdOV7AcsRafApSXcDK/Q5FgURewHReY5eo9l7A8IrgfytxXsC1iZP7HZxewNGuQspPLl7AsHH9uz5AXcBrKSDtfwpdwJPjTulgMV3AOBCSBUw+XsBlx0YgXgFewFrwoq8ggV7A3A2itaKZXsDD2EKQgzJdwLO1vkhoI17A5e0IpwWhXsBEqFKzBypewHva4a/JVl3AA8+9h0vgXcD2KFyPwqFewFGlZg+0Tl3A0GG+vAC/XsAbgXhdvzpewDgyj/zBjl7Ae4MvTKZmXsA6XRYTmyVdwAwfEVMiYV7A81meB3fzXcAjLZW3I1RdwPq4NlSMcV7AyO9t+rOHXsDxoURLHgBfwOoJSzygYl7AZi0FpP1KXcB07+GS45BewK7YX3ZPmF7AAkuuYvEwXcB1yw7xD31ewKW9wRcmGV7A7BLVWwMlXsCxM4XOa5xewIkMq3gjO13AYTJVMCqVXsCcM6K0N05dwHEDPj+MBl3AnYAmwoZxXsAJOIQqNeNewNU9srlqs13AajNOQ1QLXsAogGJkyUNdwDwUBfpEkF7AmpmZmZldXcByameY2lRewDQuHAjJLl7ANC4cCMkuXsB3hT5YxgFewKc+kLxzHV7AGVQbnIhUXsDIJ2TnbTldwI0IxsGlhl7AgEbp0r9BXcBybagY52tewIpyafzCV17A22rWGd+bXsALKT+p9jFewGN/2T15HF3A4IJsWb41XcB1cobijmVewPnbniCxj17AlX8tr1zdXsCtbvWc9IRewGMJa2PssV7ALsbAOo4rXsAPf03WqFBewK5H4XoUll3Ad9Zuu9C/XcApXI/C9ahewE3bv7LSnl3A3SQGgZVDXsBSflLt0/1dwNEi2/l+sl7AK4cW2c63XcAuxsA6jpddwOF6FK5HCV7Ad76fGi8lXsAK16NwPfJdwOYF2EenPF7AcctHUtKoXsAlI2dhT49ewDGUE+0q6F3AMX4a9+YBXsD8NVmjHlJewDvfT42Xjl3AGmt/Z3tRXcDr4GBvYqpewO5fWWlSGl7AwW7YtigqXcBQU8vW+nZewDMzMzMzi17A9DP1ukXxXcAnM95WevpdwN+pgHueEV7AsDTXBjoRXsDSUnk7wv1dwJqV7UPed17AiGTIsfXBXcCDwqBMo55dwODb9Gc/yF7AoMTnTrBbXsCp3a8CfI9ewAAAAAAARl7AvqCFBIyNXsALXvQVpEZdwFDFjVvMQl3AVK2FWWhaXsB6OIHptEFdwDUpBd1eml3AlXzsLlANXsDYf52bNgxewKRwPQrXi13AFQMkmkBNXcB9emzLgFpdwFuzlZf8Pl7ARSxi2GFsXsBTsMbZdGJewHKIuDmVqF7AD0QWaeJdXsAJ+aBns9ZdwJW6ZBwjGV7AEFg5tMgmXsB2ieqtgb9dwPKwUGuaU13AVFOSdTjOXsAmpgux+hJewBwMdVjhdV7A3YmjvKDNXsCbrbzkf8xewFrz4y8tHV7A/TOD+MA+XcAogGJkyftdwDRMbamDD17AIQIOoUptXsD6lAj5xbpdwFBTy9b6dl7Ay74rgv81XsAK16NwPVJdwFu21hcJaV7AyQImcOvMXcBMM93rpDNdwEkUWtb9C17Av7UTJSEKXsBB8s6hDEdewBb7y+7JM17Aqrab4JuHXsDjcOZXc8xdwNFdEmdFM13AbxKDwMo1XsCcM6K0NwZewIaNsn4zil7AIqtbPSewXcCo5JzYQ3FdwAnE6/oFx13AJ8KGp1eOXsBypDMw8jJdwEGasWg6WV7A+YTsvI1RXcAjLZW3I05ewNXsgVZgjl7AaNDQP8FjXsCJQWDl0CJewD0K16NwvV3ARaD6B5EVXsBqv7UTJfZewK3cC8wKC13A9+rjoe91XsDdJAaBlRNewCSX/5B+013A8BZIUPxSXcAWTWcngwdewFMFo5I6u13AnBpoPueVXcDluFM6WA9ewP/sR4rI/F3AXI/C9SgwXcDDRe7p6kpdwC1BRkCFL13Am2p3Wd1HXcDFqkGY2xtewJtwr8xbVV3ASb2nctq8XcB88NqlDcBewOiGpuz0XV7A4+E9B5Y8XsBBmxw+6UdewEN0CBwJKF7AUaT7OQWqXsAyVwbVBn5ewHtmSYCaRl3ApgpGJXUyXcAjTbwDPHNewPEPW3o0X13AKzBkdaswXcDNW3UdqnNewExsPq4NBV3AyY6NQLxUXsA7OUNxx59ewA/xD1t6bF7A2UKQgxJkXsDRkVz+Q4pewI523PC7qF7Axcpo5PM0XsBlbynniz9ewI0LB0KyMF7AVaGBWDaJXsBhcTjzq5NewF2MgXUcl17Av5mYLsRwXsDxg/OpY1pewAdEiCtna17APnWsUnoTXsD+ZffkYQldwAbZsnxdtV7ArBxaZDsLXsC4HoXrUThdwAuz0M5pNV3AOh4zUBmHXsDHaB1VTUdewEM50a5Cnl7AUrgehet5XsAuWl+o7HBewLjkuFM6vF3ACTNt/8qiXsBbXyS05Z5ewHuDL0ympFzA/FHUmXs8XsB06spneThewIIAGTp2o13An5PeN76MXsBfQZqxaFZewEF9y5wuXV7AZAYq4980XsCuR+F6FLZewKd0sP7PdV7Ae00PCkpRXcD7PEZ55jZdwNcv2A3btl3A3xYs1QUUXsDoZdofZJBewGcPtAJDkF7AOurouBqxXsCbcoV3uWRewC81Y008617AiEfi5emnXcDSVE/mH6lewJGv67SBOl3AJa/OMSBZXsBkdavnpEtdwKH4Meaupl7A1zOEY5YoXsA+y/Pg7jddwD7L8+DuN13AnZ0MjpKzXcD/5zBfXopewCRiSiTRh17AbcX+snt+XsCWIY51cTddwBUb8zriGl7AKIBiZMmTXsBLyAc9m7FewNlCkIMSSl3Agc05eCZCXcDqz36kiFVewCSBBps6Yl7A4iNiSiRvXsA0v5oDBJdewEcFTraBgl7AbNCX3v44XsCTyamdYa9ewEeSIFwBVl3ASino9pI+XcActi3KbDBewDvfT42Xdl7AFvvL7slNXcDwMVhxqhlewI7myMovZl7AiBIteTxGXcCU3je+9ipewM2TawpkKF3A549pbRplXsCBQ6hSs5lewGiR7Xw/fV7AdF34wflfXcD7ATAaCUBewA==",
          "dtype": "f8"
         },
         "yaxis": "y"
        },
        {
         "hovertemplate": "Latitude=%{x}<br>Longitude=%{y}<br>size=%{marker.size}<br>ArchiveYear=%{marker.color}<extra></extra>",
         "legendgroup": "",
         "marker": {
          "color": {
           "bdata": "3QfdB90H3QfdB90H3QfdB90H3QfdB90H3QfdB90H3QfdB90H3QfdB90H3QfdB90H3QfdB90H3QfdB90H3QfdB90H3QfdB90H3QfdB90H3QfdB90H3QfdB90H3QfdB90H3QfdB90H3QfdB90H3QfdB90H3QfdB90H3QfdB90H3QfdB90H3QfdB90H3QfdB90H3QfdB90H3QfdB90H3QfdB90H3QfdB90H3QfdB90H3QfdB90H3QfdB90H3QfdB90H3QfdB90H3QfdB90H3QfdB90H3QfdB90H3QfdB90H3QfdB90H3QfdB90H3QfdB90H3QfdB90H3QfdB90H3QfdB90H3QfdB90H3QfdB90H3QfdB90H3QfdB94H3gfeB94H3gfeB94H3gfeB94H3gfeB94H3gfeB94H3gfeB94H3gfeB94H3gfeB94H3gfeB94H3gfeB94H3gfeB94H3gfeB94H3gfeB94H3gfeB94H3gfeB94H3gfeB94H3gfeB94H3gfeB94H3gfeB94H3gfeB94H3gfeB94H3gfeB94H3gfeB94H3gffB98H3wffB98H3wffB98H3wffB98H3wffB98H3wffB98H3wffB98H3wffB98H3wffB98H3wffB98H3wffB98H3wffB98H3wffB98H3wffB98H3wffB98H3wffB98H3wffB98H3wffB98H3wffB98H3wffB98H3wffB98H3wffB98H3wffB98H3wffB98H3wffB98H3wffB98H3wffB98H3wffB98H3wffB98H3wffB98H3wffB98H3wfgB+AH4AfgB+AH4AfgB+AH4AfgB+AH4AfgB+AH4AfgB+AH4AfgB+AH4AfgB+AH4AfgB+AH4AfgB+AH4AfgB+AH4AfgB+AH4AfgB+AH4AfgB+AH4AfgB+AH4AfgB+AH4AfgB+AH4AfgB+AH4AfgB+AH4AfgB+AH4AfgB+AH4AfgB+AH4AfgB+AH4AfgB+AH4AfgB+AH4AfgB+AH4AfgB+AH4AfgB+AH4AfgB+AH4AfgB+AH4AfgB+AH4AfgB+AH4AfgB+AH4AfgB+AH4AfgB+AH4AfgB+AH4AfgB+AH4AfgB+AH4AfgB+AH4AfgB+AH4AfgB+AH4AfgB+AH4AfgB+AH4AfgB+AH4AfgB+AH4AfgB+AH4AfgB+AH4AfgB+AH4AfgB+AH4AfgB+AH4AfgB+EH4QfhB+EH4QfhB+EH4QfhB+EH4QfhB+EH4QfhB+EH4QfhB+EH4QfhB+EH4QfhB+EH4QfhB+EH4QfhB+EH4QfhB+EH4QfhB+EH4QfhB+EH4QfhB+EH4QfhB+EH4QfhB+EH4QfhB+EH4QfhB+EH4QfhB+EH4QfhB+EH4QfhB+EH4QfhB+EH4QfhB+EH4QfhB+EH4QfhB+EH4QfhB+EH4QfhB+EH4QfhB+EH4QfhB+EH4QfhB+EH4QfhB+EH4QfhB+EH4QfhB+EH4QfhB+EH4QfhB+EH4QfhB+EH4QfhB+EH4QfhB+EH4QfhB+EH4QfhB+EH4QfhB+EH4QfhB+EH4QfhB+EH4QfhB+EH4QfhB+EH4QfhB+EH4QfhB+EH4QfhB+EH4QfhB+EH4QfhB+EH4QfhB+EH4QfhB+EH4QfhB+EH4QfhB+EH4QfhB+EH4QfhB+EH4QfhB+EH4QfhB+EH4QfhB+EH4QfhB+EH4QfhB+EH4QfhB+EH4QfhB+EH4QfhB+EH4QfhB+EH4QfhB+EH4QfhB+EH4QfhB+EH4QfhB+EH4QfhB+EH4QfhB+EH4QfhB+EH4QfhB+EH4QfhB+EH4QfhB+EH4QfhB+EH4QfhB+EH4QfhB+EH4QfhB+EH4QfhB+EH4QfhB+EH4QfhB+EH4QfhB+EH4QfhB+EH4QfhB+EH4QfhB+EH4QfhB+EH4QfhB+EH4QfhB+EH4QfhB+EH4QfhB+EH4QfhB+EH4QfhB+EH4QfhB+EH4QfhB+EH4QfhB+EH4QfhB+EH4QfhB+EH4QfhB+EH4QfhB+EH4QfhB+EH4QfhB+EH4QfhB+EH4QfhB+EH4QfhB+EH4QfhB+EH4QfhB+EH4QfhB+EH4QfhB+EH4QfhB+EH4QfhB+EH4QfhB+EH4QfhB+EH4QfhB+EH4QfhB+EH4QfhB+EH4QfhB+EH4QfhB+EH4QfhB+EH4QfhB+EH4QfhB+EH4QfhB+EH4QfhB+EH4QfhB+EH4QfhB+EH4QfhB+EH4QfhB+EH4QfhB+EH4QfhB+EH4QfhB+EH4QfhB+EH4QfhB+EH4QfhB+EH4QfhB+EH4QfhB+EH4QfhB+EH4QfhB+EH4QfhB+EH4QfhB+EH4QfhB+EH4QfhB+EH4QfhB+EH4QfhB+EH4gfiB+IH4gfiB+IH4gfiB+IH4gfiB+IH4gfiB+IH4gfiB+IH4gfiB+IH4gfiB+IH4gfiB+IH4gfiB+IH4gfiB+IH4gfiB+IH4gfiB+IH4gfiB+IH4gfiB+IH4gfiB+IH4gfiB+IH4gfiB+IH4gfiB+IH4gfiB+IH4gfiB+IH4gfiB+IH4gfiB+IH4gfiB+IH4gfiB+IH4gfiB+IH4gfiB+IH4gfiB+IH4gfiB+IH4gfiB+IH4gfiB+IH4gfiB+IH4gfiB+IH4gfiB+IH4gfiB+IH4gfiB+IH4gfiB+IH4gfiB+IH4gfiB+IH4gfiB+IH4gfiB+IH4gfiB+IH4gfiB+IH4gfiB+IH4gfiB+IH4gfiB+IH4gfiB+IH4gfiB+IH4gfiB+IH4gfiB+IH4gfiB+IH4gfiB+IH4gfiB+IH4gfiB+IH4gfiB+IH4gfiB+IH4gfiB+IH4gfiB+IH4gfiB+IH4gfiB+IH4gfiB+IH4gfiB+IH4gfiB+IH4gfiB+IH4gfiB+IH4gfiB+IH4gfiB+IH4gfiB+IH4gfiB+IH4gfiB+IH4gfiB+IH4gfiB+IH4gfiB+IH4gfiB+IH4gfiB+IH4gfiB+IH4gfiB+IH4gfiB+IH4gfiB+IH4gfiB+IH4gfiB+IH4gfiB+IH4gfiB+IH4gfiB+IH4gfiB+IH4gfiB+IH4gfiB+IH4gfiB+IH4gfiB+IH4gfiB+IH4gfiB+IH4gfiB+IH4gfiB+IH4gfiB+IH4gfiB+IH4gfiB+IH4gfiB+IH4gfiB+IH4gfiB+IH4gfiB+IH4gfiB+IH4gfiB+IH4gfiB+MH4wfjB+MH4wfjB+MH4wfjB+MH4wfjB+MH4wfjB+MH4wfjB+MH4wfjB+MH4wfjB+MH4wfjB+MH4wfjB+MH4wfjB+MH4wfjB+MH4wfjB+MH4wfjB+MH4wfjB+MH4wfjB+MH4wfjB+MH4wfjB+MH4wfjB+MH4wfjB+MH4wfjB+MH4wfjB+MH4wfjB+MH4wfjB+MH4wfjB+MH4wfjB+MH4wfjB+MH4wfjB+MH4wfjB+MH4wfjB+MH4wfjB+MH4wfjB+MH4wfjB+MH4wfjB+MH4wfjB+MH4wfjB+MH4wfjB+MH4wfjB+MH4wfjB+MH4wfjB+MH4wfjB+MH4wfjB+MH4wfjB+MH4wfjB+MH4wfjB+MH4wfjB+MH4wfjB+MH4wfjB+MH4wfjB+MH4wfjB+MH4wfjB+MH4wfjB+MH4wfjB+MH4wfjB+MH4wfjB+MH4wfjB+MH4wfjB+MH4wfjB+MH4wfjB+MH4wfjB+MH4wfjB+MH4wfjB+MH4wfjB+MH4wfjB+MH4wfjB+MH4wfjB+MH4wfjB+MH4wfjB+MH4wfjB+MH4wfjB+MH4wfjB+MH4wfjB+MH4wfjB+MH4wfjB+MH4wfjB+MH4wfjB+MH4wfjB+MH4wfjB+MH4wfjB+MH4wfjB+MH4wfjB+MH4wfjB+MH4wfjBw==",
           "dtype": "i2"
          },
          "coloraxis": "coloraxis",
          "opacity": 0.3,
          "size": {
           "bdata": "AAAAAAAKAAAKCgoKCgoKCgoKCgAAAAoACgAACgAAAAoAAAAAAAoACgoACgAKAAAACgAAAAoAAAoACgAAAAAAAAAAAAAACgAAAAoKAAAAAAAAAAAAAAAKCgAAAAoACgoAAAAKAAAAAAoAAAAAAAoAAAAAAAAAAAAACgAAAAAAAAAACgoKCgAAAAAAAAAKAAAKCgoKAAAKCgoKCgAACgoAAAAKCgAKAAAKCgAKCgAKCgAKAAAKAAoAAAAACgAKAAAACgAKCgAAAAAAAAAKAAAAAAAAAAAKAAoKAAAAAAoKCgoACgoKCgoKAAoACgAKAAoKAAAAAAAAAAAKCgoKAAAKAAoACgoKAAAACgAKAAAKCgAKAAAACgAAAAoAAAAACgoAAAAAAAAACgAAAAoKAAoAAAoACgoAAAAKCgoKCgoKAAAKAAoKCgAACgAACgAKCgAAAAoKCgAKAAAKCgoAAAAAAAAAAAAAAAAACgAKAAoACgAAAAAAAAoAAAAKAAAAAAAAAAAACgAAAAAACgAAAAAAAAAACgoKAAAKAAAACgAAAAoAAAAAAAAAAAAAAAAAAAAAAAoAAAoKAAAACgAAAAAAAAAAAAAAAAAKCgAKAAoKCgoKAAoKCgoKAAAAAAAKCgAACgoKAAoAAAAAAAoKAAoKAAAACgAKAAAAAAAAAAoKCgAAAAAACgAKCgAACgAAAAAAAAAKCgAACgAKAAAACgAAAAAKCgAKAAoAAAAKAAAAAAAACgAACgAKCgAAAAAKCgoKAAAAAAAKAAAACgAAAAAAAAoAAAAAAAAACgoAAAAAAAAAAAoKAAAAAAoACgoACgAKCgAAAAAAAAAACgAKAAAAAAAAAAAKAAAAAAAAAAoKAAAKAAAAAAAAAAAAAAAKAAAKAAAAAAoAAAAAAAAAAAAKAAAACgoAAAAAAAAKAAAAAAAAAAAACgAAAAAAAAAAAAAAAAoAAAAAAAAAAAAAAAAAAAAAAAAAAAAAAAoAAAAAAAAAAAAAAAAAAAAAAAAAAAAACgAAAAAAAAAAAAAAAAAKAAAAAAAAAAAAAAAAAAAACgAAAAAACgAAAAAKAAAAAAAAAAAACgAAAAAAAAoAAAoAAAAAAAAAAAAAAAAAAAAAAAAAAAAAAAAAAAAAAAAKAAoAAAAAAAAAAAAKCgAAAAAAAAAAAAAKCgoKCgoKCgoKAAoKAAAKCgoKAAoAAAAKAAAACgAKCgAAAAoACgoKAAoACgoAAAoAAAAKCgoAAAoAAAAKAAoAAAAAAAoAAAoKAAAAAAAKCgAAAAoACgAAAAAAAAAKCgAAAAAKCgAACgAAAAAAAAAAAAAACgAKAAAAAAoAAAoAAAoAAAAAAAAAAAoACgAAAAAAAAAAAAAAAAAAAAAACgAKAAoAAAAAAAAACgAKAAAKAAAAAAAAAAAAAAAAAAAAAAoKAAoAAAoACgAAAAAKAAAAAAAAAAAAAAAAAAAAAAAACgAAAAAAAAAAAAAAAAAAAAAAAAAACgAAAAAAAAAAAAAAAAAAAAoAAAAAAAAAAAoAAAAAAAoAAAoAAAAAAAAAAAAAAAAAAAAAAAAAAAAAAAAAAAAACgAAAAoACgAAAAAAAAAACgAAAAAACgAAAAAKAAAKCgoKAAoAAAoAAAAACgoAAAAACgAAAAAAAAAAAAAAAAAAAAoAAAAKCgAAAAAACgAAAAAAAAAAAAAAAAAAAAoKAAAAAAAAAAAAAAoAAAAAAAAAAAAKAAAAAAAAAAAAAAAAAAAAAAAACgAAAAAAAAAKAAAAAAAACgAAAAAAAAAAAAAAAAAAAAAAAAAAAAAAAAAAAAAAAAAAAAAACgAAAAAAAAAAAAAAAAAAAAAAAAAAAAAAAAoAAAAAAAAAAAAAAAAACgAAAAAAAAAAAAAAAAAAAAAAAAoAAAAAAAAAAAA=",
           "dtype": "i1"
          },
          "sizemode": "area",
          "sizeref": 0.025,
          "symbol": "circle"
         },
         "mode": "markers",
         "name": "",
         "showlegend": false,
         "type": "scattergl",
         "x": {
          "bdata": "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",
          "dtype": "f8"
         },
         "xaxis": "x2",
         "y": {
          "bdata": "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",
          "dtype": "f8"
         },
         "yaxis": "y2"
        },
        {
         "hovertemplate": "Latitude=%{x}<br>Longitude=%{y}<br>size=%{marker.size}<br>ArchiveYear=%{marker.color}<extra></extra>",
         "legendgroup": "",
         "marker": {
          "color": {
           "bdata": "3wfhB+EH4QfhB+EH4QfhB+EH4gfiB+IH4gfiB+IH4gfiB+IH4gfjB+MH",
           "dtype": "i2"
          },
          "coloraxis": "coloraxis",
          "opacity": 0.7,
          "size": {
           "bdata": "AAAAAAAASUAAAAAAAMBiQAAAAAAAwGJAAAAAAADAckAAAAAAAMByQAAAAAAAMJFAAAAAAAAwkUAAAAAAACB8QAAAAAAAAGlAAAAAAAAASUAAAAAAAABJQAAAAAAAAElAAAAAAAAASUAAAAAAAMBiQAAAAAAAwGJAAAAAAACasEAAAAAAAMBiQAAAAAAAwGJAAAAAAAAASUAAAAAAAABZQAAAAAAAAElA",
           "dtype": "f8"
          },
          "sizemode": "area",
          "sizeref": 10.625,
          "symbol": "circle"
         },
         "mode": "markers",
         "name": "",
         "orientation": "v",
         "showlegend": false,
         "type": "scatter",
         "x": {
          "bdata": "lldT/lovQkAkKH6MuTNDQCQofoy5M0NA7ginBS8yQ0DuCKcFLzJDQBlz1xLyTUNAGXPXEvJNQ0BdxHdi1p9DQKn7AKQ2qUNAHVa45SOfQ0AdVrjlI59DQB1WuOUjn0NAHVa45SOfQ0CkNnFyv1NEQKQ2cXK/U0RAgEi/fR3oQ0CuR+F6FB5BQK5H4XoUHkFAMjz2s1jyREDXo3A9Cv9AQGDNAYI5KkFA",
          "dtype": "f8"
         },
         "xaxis": "x3",
         "y": {
          "bdata": "d06zQLtlXsAhH/RsVqFewCEf9GxWoV7AC0EOSpiPXsALQQ5KmI9ewFGDaRg+qF7AUYNpGD6oXsAibHh6pcpewC9uowG8WV7AFR+fkJ3GXsAVH5+QncZewBUfn5Cdxl7AFR+fkJ3GXsASMSWS6KdewBIxJZLop17Aj+TyH9JbXsCwVYLF4axdwLBVgsXhrF3AJemayTeiXsAogGJkyUNdwE3bv7LSnl3A",
          "dtype": "f8"
         },
         "yaxis": "y3"
        },
        {
         "hovertemplate": "Latitude=%{x}<br>Longitude=%{y}<br>size=%{marker.size}<br>ArchiveYear=%{marker.color}<extra></extra>",
         "legendgroup": "",
         "marker": {
          "color": {
           "bdata": "3QfdB90H3QfdB90H3QfdB90H3QfdB90H3QfdB90H3QfdB90H3QfdB90H3QfdB90H3QfdB90H3QfdB90H3QfdB94H3gfeB94H3gfeB94H3gfeB94H3gfeB94H3gfeB94H3gfeB94H3gfeB94H3wffB98H3wffB98H3wffB98H3wffB98H3wffB98H3wffB98H3wffB98H3wffB98H3wffB98H3wffB+AH4AfgB+AH4AfgB+AH4AfgB+AH4AfgB+AH4AfgB+AH4AfgB+AH4AfgB+AH4QfhB+EH4QfhB+EH4QfhB+EH4QfhB+EH4QfhB+EH4QfhB+EH4QfhB+EH4QfhB+EH4QfhB+EH4gfiB+IH4gfiB+IH4gfiB+IH4gfiB+IH4gfiB+IH4gfiB+IH4wfjB+MH4wfjB+MH4wfjB+MH4wfjB+MH4wfjB+MH4wfjB+MH4wfjB+MH4wfjB+MH4wfjB+MH4wfjB+MH4wfjB+MH4wfjB+MH",
           "dtype": "i2"
          },
          "coloraxis": "coloraxis",
          "opacity": 0.5,
          "size": {
           "bdata": "AAAAAAB0kEAAAAAAABB8QAAAAAAAYGVAAAAAAADGkEAAAAAAAEyMQAAAAAAAeHpAAAAAAAB4ekAAAAAAAIBXQAAAAAAAsHZAAAAAAADgXEAAAAAAAHh8QAAAAAAAMIdAAAAAAAAATEAAAAAAAASDQAAAAAAAYG9AAAAAAACgYUAAAAAAAMBtQAAAAAAAAABAAAAAAAAwYEAAAAAAAGBiQAAAAAAAoFtAAAAAAACwZUAAAAAAAMBSQAAAAAAAIF9AAAAAAADQYUAAAAAAAABEQAAAAAAAgDFAAAAAAACgW0AAAAAAAEBiQAAAAAAAYFtAAAAAAAAgVUAAAAAAAEBAQAAAAAAAgENAAAAAAACQYkAAAAAAAMBFQAAAAAAAAAAAAAAAAAAAAAAAAAAAAAA0QAAAAAAAADRAAAAAAAA4ckAAAAAAABBwQAAAAAAAYFpAAAAAAACwakAAAAAAACBVQAAAAAAAIHFAAAAAAACAV0AAAAAAAAA3QAAAAAAAUGxAAAAAAACARkAAAAAAAIA6QAAAAAAAwEZAAAAAAAAAFEAAAAAAAABgQAAAAAAAAEtAAAAAAABgXEAAAAAAAOBaQAAAAAAAACJAAAAAAACgdUAAAAAAAAArQAAAAAAAgDtAAAAAAAAAO0AAAAAAAChzQAAAAAAAgDVAAAAAAADgYEAAAAAAAABLQAAAAAAAABBAAAAAAAAATkAAAAAAAMBMQAAAAAAAgDxAAAAAAABAX0AAAAAAADBhQAAAAAAAgDZAAAAAAAAAJEAAAAAAAIA2QAAAAAAAgD1AAAAAAACwZ0AAAAAAAMBSQAAAAAAAADRAAAAAAADAV0AAAAAAAIBBQAAAAAAAAE5AAAAAAACAOEAAAAAAAGBYQAAAAAAAkHxAAAAAAAAAfkAAAAAAAIBDQAAAAAAAACRAAAAAAAAAPUAAAAAAAAA/QAAAAAAAADBAAAAAAAAAJkAAAAAAAIBXQAAAAAAAgENAAAAAAADgVEAAAAAAAAAcQAAAAAAAAEdAAAAAAACgUEAAAAAAAMBVQAAAAAAAIF5AAAAAAADgZUAAAAAAAEBfQAAAAAAAABxAAAAAAACARUAAAAAAAMBSQAAAAAAAADVAAAAAAAAAi0AAAAAAACBTQAAAAAAAAGtAAAAAAAAodUAAAAAAAEBIQAAAAAAAYHRAAAAAAACAUkAAAAAAAMBOQAAAAAAAyHRAAAAAAAC4dkAAAAAAAAAaQAAAAAAA0GNAAAAAAAAAEEAAAAAAAMBnQAAAAAAAADhAAAAAAAAAFEAAAAAAADBrQAAAAAAAIG9AAAAAAAAAGkAAAAAAAIBaQAAAAAAAgFtAAAAAAACAO0AAAAAAAABDQAAAAAAAQEVAAAAAAAAAREAAAAAAAAAkQAAAAAAAoHJAAAAAAACAbEAAAAAAAIBsQAAAAAAApIBAAAAAAAA4mEAAAAAAADiYQAAAAAAAOJhAAAAAAADgZUAAAAAAAIBYQAAAAAAAoHFAAAAAAACAVkAAAAAAAFBkQAAAAAAAwFJAAAAAAACASEAAAAAAAABYQAAAAAAAAFVAAAAAAADAREAAAAAAAEBKQAAAAAAAAERAAAAAAADgXkAAAAAAAIBPQAAAAAAAAElAAAAAAACAO0AAAAAAAEBtQAAAAAAA0GBAAAAAAACQc0AAAAAAAECOQAAAAAAAwFlAAAAAAAAANEAAAAAAAAAjQAAAAAAA0G9AAAAAAABAQUAAAAAAAIAxQAAAAAAAGHBAAAAAAAAgV0AAAAAAAGBXQAAAAAAAYFRAAAAAAABgXUAAAAAAAAAgQAAAAAAAABJAAAAAAAAwYEAAAAAAAAA0QAAAAAAAgGRAAAAAAAAYcEAAAAAAAOBlQAAAAAAAAClAAAAAAAAAEEAAAAAAAMBSQAAAAAAAwFJAAAAAAABASkAAAAAAAIBCQAAAAAAAABRAAAAAAACAO0AAAAAAAEBAQAAAAAAAgDZA",
           "dtype": "f8"
          },
          "sizemode": "area",
          "sizeref": 3.875,
          "symbol": "circle"
         },
         "mode": "markers",
         "name": "",
         "orientation": "v",
         "showlegend": false,
         "type": "scatter",
         "x": {
          "bdata": "fJv+7EfuQEAM6lvmdAVEQG9GzVfJP0RAA3gLJCh6QEAuG53zUxhEQFuxv+yeZEFAW7G/7J5kQUBUUiegiWhDQIbI6ev5JEFAVWr2QCv0QkD6m1CIgI9AQCygUE8fuUNAGM+goX/KQkAhByXMtIVAQDeJQWDlcEFAkuo7vygJQUCQMXctIU1CQKrx0k1iUENA1XjpJjG4Q0ChEWxc/1pAQJBMh07PwUNABFYOLbJFREA3iUFg5TBDQHHiqx3FUUNAYwlrY+xwQ0C/DpwzotRDQLlUpS2u3UNAidAINq6VQkAPC7WmeRdBQMwk6gWfukFAXBsqxvkHQ0DnASzy69NAQFyPwvUoXERAcF8HzhmRRECoxks3iUFDQKJFtvP9VENAokW28/1UQ0CpE9BE2EhDQKkT0ETYSENArdo1Ia0VQUARx7q4jY5AQKrx0k1igEBAO99PjZe+REDecYqO5FpEQMuhRbbzTUFAwFsgQfGrQkDJ5T+k315EQEpenWNAtkRA4BCq1OynQkBqErwhjY5DQNQK0/caikBApSxDHOvaQkBQjZduErNCQIxK6gQ0SURAudeTCnRxQ0AIrBxaZCtBQPCnxks3sUJA3GgAb4GsQUAe+u5WlphDQJZXU/5aL0JAvTYbKzHxQEDChqdXysJDQMbgYdo3lUJAPQrXo3CdS0A09E9wsVpCQJUrvMtFuENAaydKQiI1REDTTWIQWOlCQNPAj2rYpURAGJXUCWiiQ0AibHh6pTRDQNXcG42NDURALbKd76cGQ0B31m670DxEQIQSZtr+BUNAwFsgQfHbQUB5WKg1zT9CQELO+/84QURA7FG4HoVrOkATYcPTKw1DQJayDHGsQ0NApkboZ+r/REBB8WPMXZNEQBCSBUzgJkFAt11ortMkQUALmMCtu01AQDANw0fEDEJAARO4dTdDQ0CSdM3km41CQDuNtFTeckNAhiAHJcwwQkA2PL1SlglCQCcxCKwcMkRA9dbAVgmCQkDDnnb4a2ZDQLUV+8vu5UJAcoqO5PLXQ0Aj+N9KdqREQOyGbYsyL0RAZOlDF9SPQ0DTMHxETLVAQInS3uALi0NAP4wQHm00Q0BtVn2utkJDQPOS/8nfz0NApPyk2qcTQkCYTBWMSoJBQOw00lJ5D0JAQQ5KmGnvQEByp3Sw/s9DQOdSXFX2OUFAfAqA8Qy6Q0B6U5EKYz9DQB2UMNP2U0BAH6LRHcT6QUDD9Shcj4pCQCB7vfvjfURAste7P96vQkCqYFRSJ7BCQHmSdM3kq0NASG3i5H6XQkD0T3CxojpCQPvL7snDukJAa32R0JbfQ0CTOgFNhO1BQDAqqRPQTEBAyZOkayY/Q0D92Y8UkYFDQCgK9Ik8tUJACObo8XtXQ0CRuMfSh3ZEQNOkFHR7wUNApDZxcr9TRECkNnFyv1NEQIBIv30d6ENArmTHRiCGQ0CuZMdGIIZDQK5kx0YghkNAMjz2s1jyREBYkfIPMhxEQC6QoPgxVkJA/b0UHjQ3Q0APRYE+kVtCQJ2AJsKGuUJAZCDPLt9eREC28/3UeGlEQDdUjPM3yUNA5KCEmbbrQ0Bs7X2qCttAQDwUBfpEhkBA16NwPQr/QEDuQnOdRgJBQMBAECBDoUBAD7qEQ29lQ0DFqkGY2wdEQDEIrBxahEJAuDoA4q4mQUCPwvUoXA9EQGDNAYI5KkFAObTIdr7fRECd9SnHZM1CQFciUP2DPEFAbqErEagERECU+UffpMNAQFkzMshd7kRAAaQ2cXIzQkBxOslWl1tEQAslk1M7FUNA2V92Tx6+QEC1MuGX+rlDQBfZzvdTE0JAPsqIC0CTREDLoUW2811GQK702mysgENASriQR3CbQUDEP2zp0WRAQOF6FK5H0UBAkMAffv49REA08nnFU/NAQMOcoE0Oh0BAYp0q3zO8Q0CTcvc5PnpDQJM6AU2EU0NAZYnOMot0Q0ArFOl+TotDQF5HHLKBKkNA",
          "dtype": "f8"
         },
         "xaxis": "x4",
         "y": {
          "bdata": "QDBHj985XcD4cMlxp3ZewOLIA5FFol7AI6Et51IeXcAJ/reSHWZewACRfvs6vF3AAJF++zq8XcADCYofY7ZewF0XfnA+PF3Ac4I2OXx4XsAWpBmLpiFdwBzTE5Z4WF7A+IiYEkn6XcAhH/RsViFdwFD8GHPXul3AXg677xhDXcClg/V/DoFdwNEi2/l+kl7AK4cW2c5fXsAVxEDXvi9dwG3kuinlo17Ax7q4jQZYXsCWQ4ts55NewP+uz5z1qV7AZapgVFKkXsCVDtb/OWBewMlXAimxbV7AKgDGM2jwXcDqBDQRNlxdwEyJJHoZMF7A+z+H+fIcXsBIxf8dUQpdwIcW2c73Y17AyxDHurhNXsAtsp3vp4ZewJMYBFYOnV7AkxgEVg6dXsCDL0ymCjJewIMvTKYKMl7AkSv1LAhjXcBYqDXNO0pdwI2XbhKDSF3AYOXQIts5XsBt5/up8YpewJMYBFYOHV7A2V92Tx7qXcAGgZVDi7xewEeP39v0l17Ao66196nmXcDJBWfw9z9ewH9pUZ/kJF3A+FPjpZsMXsBKDAIrh5ZdwGDl0CLbVV7AUFPL1nqeXsA730+Nl15dwIC3QILiV17AMnctIR8oXsB79fHQdzhewHdOs0C7ZV7Aaw2l9iJpXcBEaW/whVVewPZ9OEiI4V3AAAAAAACAXsANq3gj81RewNszSwLUWF7ACU/o9SecXsBS8uocAwpewNy3Wicu8l7AJTs2AvFQXsDi6ZWyDIVewEUcoVWcBF/Aqz5XW7EjXsByv0NRoKFewEHUfQBSE17ABaOSOgFBXsDZPXlYqLldwLtemiLAjF7AAAAAAABAXsDD0ytlGYpewGDl0CLblV7AE9bG2Al5XsD3deCcEfVewE/MejGUX13AWtjTDn9RXcCq1OyBVihdwGYUyy2tIF7AXANbJViEXsB7ZkmAmnZewIIclDDTpl7A5nlwd9ZMXsDf3F897hxewJHtfD81Ml7ANQwfEVPgXcA7AU2EDbVewLAbti3KFF7ABoGVQ4tkXsCxxAPKpvRewBQi4BCqrl7A5wDBHD2gXsAWpBmLpkVdwINRSZ2Asl7A3UHsTKGbXsASFD/G3DVewAdF8wAWZl7AttYXCW2vXcAN4C2QoBRewFZl3xXBF17AgZVDi2xtXcD2fw7z5WFewJOMnIU9pV3AdbD+z2FaXsBLyAc9m4FewMucLouJM13AaFw4EJIjXsDXNO84RfNdwOcAwRw9dF7AIXam0Hn1XcAvbqMBvP1dwI+NQLyuR17A6rKY2HyEXsA5nPnVHLhdwG3n+6nx+l3Amz3QCgxrXsAychb2tK9dwKw5QDBHMV3AMuauJeSPXsCe6pCb4YxewOVhodY0k17A8BZIUPyQXsBEi2zn+2VewCjyJOmaY17AEjElkuinXsASMSWS6KdewI/k8h/SW17ARMAhVKnHXsBEwCFUqcdewETAIVSpx17AJemayTeiXsDsUbgehYtewGuCqPsAjl3AFJM3wMyCXsCztb5IaIVdwMKjjSPWeF7AZyjueJOpXsCIhVrTvHlewAQcQpWaW17A8iTpmslnXsBrKSDtfwpdwMPYQpCDMl3AKIBiZMlDXcCamZmZmV1dwIBG6dK/QV3AYwlrY+yxXsAuxsA6jitewK5H4XoUll3Ad9Zuu9C/XcApXI/C9ahewE3bv7LSnl3A3SQGgZVDXsBSflLt0/1dwC7GwDqOl13AcctHUtKoXsAaa39ne1FdwOvgYG9iql7AiGTIsfXBXcCp3a8CfI9ewL6ghQSMjV7AUMWNW8xCXcBUrYVZaFpewKRwPQrXi13Acoi4OZWoXsAQWDm0yCZewJutvOR/zF7AWvPjLy0dXsBMM93rpDNdwNFdEmdFM13Aho2yfjOKXsDDRe7p6kpdwC1BRkCFL13A8YPzqWNaXsAG2bJ8XbVewGQGKuPfNF7A0lRP5h+pXsAogGJkyZNewJTeN772Kl7A",
          "dtype": "f8"
         },
         "yaxis": "y4"
        }
       ],
       "layout": {
        "annotations": [
         {
          "font": {
           "size": 16
          },
          "showarrow": false,
          "text": "Wildfires with size as total acres burned",
          "x": 0.225,
          "xanchor": "center",
          "xref": "paper",
          "y": 1,
          "yanchor": "bottom",
          "yref": "paper"
         },
         {
          "font": {
           "size": 16
          },
          "showarrow": false,
          "text": "Major Incident Wildfires",
          "x": 0.775,
          "xanchor": "center",
          "xref": "paper",
          "y": 1,
          "yanchor": "bottom",
          "yref": "paper"
         },
         {
          "font": {
           "size": 16
          },
          "showarrow": false,
          "text": "Fatalities",
          "x": 0.225,
          "xanchor": "center",
          "xref": "paper",
          "y": 0.375,
          "yanchor": "bottom",
          "yref": "paper"
         },
         {
          "font": {
           "size": 16
          },
          "showarrow": false,
          "text": "Personnel Involved",
          "x": 0.775,
          "xanchor": "center",
          "xref": "paper",
          "y": 0.375,
          "yanchor": "bottom",
          "yref": "paper"
         }
        ],
        "height": 900,
        "plot_bgcolor": "white",
        "showlegend": false,
        "template": {
         "data": {
          "bar": [
           {
            "error_x": {
             "color": "#2a3f5f"
            },
            "error_y": {
             "color": "#2a3f5f"
            },
            "marker": {
             "line": {
              "color": "#E5ECF6",
              "width": 0.5
             },
             "pattern": {
              "fillmode": "overlay",
              "size": 10,
              "solidity": 0.2
             }
            },
            "type": "bar"
           }
          ],
          "barpolar": [
           {
            "marker": {
             "line": {
              "color": "#E5ECF6",
              "width": 0.5
             },
             "pattern": {
              "fillmode": "overlay",
              "size": 10,
              "solidity": 0.2
             }
            },
            "type": "barpolar"
           }
          ],
          "carpet": [
           {
            "aaxis": {
             "endlinecolor": "#2a3f5f",
             "gridcolor": "white",
             "linecolor": "white",
             "minorgridcolor": "white",
             "startlinecolor": "#2a3f5f"
            },
            "baxis": {
             "endlinecolor": "#2a3f5f",
             "gridcolor": "white",
             "linecolor": "white",
             "minorgridcolor": "white",
             "startlinecolor": "#2a3f5f"
            },
            "type": "carpet"
           }
          ],
          "choropleth": [
           {
            "colorbar": {
             "outlinewidth": 0,
             "ticks": ""
            },
            "type": "choropleth"
           }
          ],
          "contour": [
           {
            "colorbar": {
             "outlinewidth": 0,
             "ticks": ""
            },
            "colorscale": [
             [
              0,
              "#0d0887"
             ],
             [
              0.1111111111111111,
              "#46039f"
             ],
             [
              0.2222222222222222,
              "#7201a8"
             ],
             [
              0.3333333333333333,
              "#9c179e"
             ],
             [
              0.4444444444444444,
              "#bd3786"
             ],
             [
              0.5555555555555556,
              "#d8576b"
             ],
             [
              0.6666666666666666,
              "#ed7953"
             ],
             [
              0.7777777777777778,
              "#fb9f3a"
             ],
             [
              0.8888888888888888,
              "#fdca26"
             ],
             [
              1,
              "#f0f921"
             ]
            ],
            "type": "contour"
           }
          ],
          "contourcarpet": [
           {
            "colorbar": {
             "outlinewidth": 0,
             "ticks": ""
            },
            "type": "contourcarpet"
           }
          ],
          "heatmap": [
           {
            "colorbar": {
             "outlinewidth": 0,
             "ticks": ""
            },
            "colorscale": [
             [
              0,
              "#0d0887"
             ],
             [
              0.1111111111111111,
              "#46039f"
             ],
             [
              0.2222222222222222,
              "#7201a8"
             ],
             [
              0.3333333333333333,
              "#9c179e"
             ],
             [
              0.4444444444444444,
              "#bd3786"
             ],
             [
              0.5555555555555556,
              "#d8576b"
             ],
             [
              0.6666666666666666,
              "#ed7953"
             ],
             [
              0.7777777777777778,
              "#fb9f3a"
             ],
             [
              0.8888888888888888,
              "#fdca26"
             ],
             [
              1,
              "#f0f921"
             ]
            ],
            "type": "heatmap"
           }
          ],
          "histogram": [
           {
            "marker": {
             "pattern": {
              "fillmode": "overlay",
              "size": 10,
              "solidity": 0.2
             }
            },
            "type": "histogram"
           }
          ],
          "histogram2d": [
           {
            "colorbar": {
             "outlinewidth": 0,
             "ticks": ""
            },
            "colorscale": [
             [
              0,
              "#0d0887"
             ],
             [
              0.1111111111111111,
              "#46039f"
             ],
             [
              0.2222222222222222,
              "#7201a8"
             ],
             [
              0.3333333333333333,
              "#9c179e"
             ],
             [
              0.4444444444444444,
              "#bd3786"
             ],
             [
              0.5555555555555556,
              "#d8576b"
             ],
             [
              0.6666666666666666,
              "#ed7953"
             ],
             [
              0.7777777777777778,
              "#fb9f3a"
             ],
             [
              0.8888888888888888,
              "#fdca26"
             ],
             [
              1,
              "#f0f921"
             ]
            ],
            "type": "histogram2d"
           }
          ],
          "histogram2dcontour": [
           {
            "colorbar": {
             "outlinewidth": 0,
             "ticks": ""
            },
            "colorscale": [
             [
              0,
              "#0d0887"
             ],
             [
              0.1111111111111111,
              "#46039f"
             ],
             [
              0.2222222222222222,
              "#7201a8"
             ],
             [
              0.3333333333333333,
              "#9c179e"
             ],
             [
              0.4444444444444444,
              "#bd3786"
             ],
             [
              0.5555555555555556,
              "#d8576b"
             ],
             [
              0.6666666666666666,
              "#ed7953"
             ],
             [
              0.7777777777777778,
              "#fb9f3a"
             ],
             [
              0.8888888888888888,
              "#fdca26"
             ],
             [
              1,
              "#f0f921"
             ]
            ],
            "type": "histogram2dcontour"
           }
          ],
          "mesh3d": [
           {
            "colorbar": {
             "outlinewidth": 0,
             "ticks": ""
            },
            "type": "mesh3d"
           }
          ],
          "parcoords": [
           {
            "line": {
             "colorbar": {
              "outlinewidth": 0,
              "ticks": ""
             }
            },
            "type": "parcoords"
           }
          ],
          "pie": [
           {
            "automargin": true,
            "type": "pie"
           }
          ],
          "scatter": [
           {
            "fillpattern": {
             "fillmode": "overlay",
             "size": 10,
             "solidity": 0.2
            },
            "type": "scatter"
           }
          ],
          "scatter3d": [
           {
            "line": {
             "colorbar": {
              "outlinewidth": 0,
              "ticks": ""
             }
            },
            "marker": {
             "colorbar": {
              "outlinewidth": 0,
              "ticks": ""
             }
            },
            "type": "scatter3d"
           }
          ],
          "scattercarpet": [
           {
            "marker": {
             "colorbar": {
              "outlinewidth": 0,
              "ticks": ""
             }
            },
            "type": "scattercarpet"
           }
          ],
          "scattergeo": [
           {
            "marker": {
             "colorbar": {
              "outlinewidth": 0,
              "ticks": ""
             }
            },
            "type": "scattergeo"
           }
          ],
          "scattergl": [
           {
            "marker": {
             "colorbar": {
              "outlinewidth": 0,
              "ticks": ""
             }
            },
            "type": "scattergl"
           }
          ],
          "scattermap": [
           {
            "marker": {
             "colorbar": {
              "outlinewidth": 0,
              "ticks": ""
             }
            },
            "type": "scattermap"
           }
          ],
          "scattermapbox": [
           {
            "marker": {
             "colorbar": {
              "outlinewidth": 0,
              "ticks": ""
             }
            },
            "type": "scattermapbox"
           }
          ],
          "scatterpolar": [
           {
            "marker": {
             "colorbar": {
              "outlinewidth": 0,
              "ticks": ""
             }
            },
            "type": "scatterpolar"
           }
          ],
          "scatterpolargl": [
           {
            "marker": {
             "colorbar": {
              "outlinewidth": 0,
              "ticks": ""
             }
            },
            "type": "scatterpolargl"
           }
          ],
          "scatterternary": [
           {
            "marker": {
             "colorbar": {
              "outlinewidth": 0,
              "ticks": ""
             }
            },
            "type": "scatterternary"
           }
          ],
          "surface": [
           {
            "colorbar": {
             "outlinewidth": 0,
             "ticks": ""
            },
            "colorscale": [
             [
              0,
              "#0d0887"
             ],
             [
              0.1111111111111111,
              "#46039f"
             ],
             [
              0.2222222222222222,
              "#7201a8"
             ],
             [
              0.3333333333333333,
              "#9c179e"
             ],
             [
              0.4444444444444444,
              "#bd3786"
             ],
             [
              0.5555555555555556,
              "#d8576b"
             ],
             [
              0.6666666666666666,
              "#ed7953"
             ],
             [
              0.7777777777777778,
              "#fb9f3a"
             ],
             [
              0.8888888888888888,
              "#fdca26"
             ],
             [
              1,
              "#f0f921"
             ]
            ],
            "type": "surface"
           }
          ],
          "table": [
           {
            "cells": {
             "fill": {
              "color": "#EBF0F8"
             },
             "line": {
              "color": "white"
             }
            },
            "header": {
             "fill": {
              "color": "#C8D4E3"
             },
             "line": {
              "color": "white"
             }
            },
            "type": "table"
           }
          ]
         },
         "layout": {
          "annotationdefaults": {
           "arrowcolor": "#2a3f5f",
           "arrowhead": 0,
           "arrowwidth": 1
          },
          "autotypenumbers": "strict",
          "coloraxis": {
           "colorbar": {
            "outlinewidth": 0,
            "ticks": ""
           }
          },
          "colorscale": {
           "diverging": [
            [
             0,
             "#8e0152"
            ],
            [
             0.1,
             "#c51b7d"
            ],
            [
             0.2,
             "#de77ae"
            ],
            [
             0.3,
             "#f1b6da"
            ],
            [
             0.4,
             "#fde0ef"
            ],
            [
             0.5,
             "#f7f7f7"
            ],
            [
             0.6,
             "#e6f5d0"
            ],
            [
             0.7,
             "#b8e186"
            ],
            [
             0.8,
             "#7fbc41"
            ],
            [
             0.9,
             "#4d9221"
            ],
            [
             1,
             "#276419"
            ]
           ],
           "sequential": [
            [
             0,
             "#0d0887"
            ],
            [
             0.1111111111111111,
             "#46039f"
            ],
            [
             0.2222222222222222,
             "#7201a8"
            ],
            [
             0.3333333333333333,
             "#9c179e"
            ],
            [
             0.4444444444444444,
             "#bd3786"
            ],
            [
             0.5555555555555556,
             "#d8576b"
            ],
            [
             0.6666666666666666,
             "#ed7953"
            ],
            [
             0.7777777777777778,
             "#fb9f3a"
            ],
            [
             0.8888888888888888,
             "#fdca26"
            ],
            [
             1,
             "#f0f921"
            ]
           ],
           "sequentialminus": [
            [
             0,
             "#0d0887"
            ],
            [
             0.1111111111111111,
             "#46039f"
            ],
            [
             0.2222222222222222,
             "#7201a8"
            ],
            [
             0.3333333333333333,
             "#9c179e"
            ],
            [
             0.4444444444444444,
             "#bd3786"
            ],
            [
             0.5555555555555556,
             "#d8576b"
            ],
            [
             0.6666666666666666,
             "#ed7953"
            ],
            [
             0.7777777777777778,
             "#fb9f3a"
            ],
            [
             0.8888888888888888,
             "#fdca26"
            ],
            [
             1,
             "#f0f921"
            ]
           ]
          },
          "colorway": [
           "#636efa",
           "#EF553B",
           "#00cc96",
           "#ab63fa",
           "#FFA15A",
           "#19d3f3",
           "#FF6692",
           "#B6E880",
           "#FF97FF",
           "#FECB52"
          ],
          "font": {
           "color": "#2a3f5f"
          },
          "geo": {
           "bgcolor": "white",
           "lakecolor": "white",
           "landcolor": "#E5ECF6",
           "showlakes": true,
           "showland": true,
           "subunitcolor": "white"
          },
          "hoverlabel": {
           "align": "left"
          },
          "hovermode": "closest",
          "mapbox": {
           "style": "light"
          },
          "paper_bgcolor": "white",
          "plot_bgcolor": "#E5ECF6",
          "polar": {
           "angularaxis": {
            "gridcolor": "white",
            "linecolor": "white",
            "ticks": ""
           },
           "bgcolor": "#E5ECF6",
           "radialaxis": {
            "gridcolor": "white",
            "linecolor": "white",
            "ticks": ""
           }
          },
          "scene": {
           "xaxis": {
            "backgroundcolor": "#E5ECF6",
            "gridcolor": "white",
            "gridwidth": 2,
            "linecolor": "white",
            "showbackground": true,
            "ticks": "",
            "zerolinecolor": "white"
           },
           "yaxis": {
            "backgroundcolor": "#E5ECF6",
            "gridcolor": "white",
            "gridwidth": 2,
            "linecolor": "white",
            "showbackground": true,
            "ticks": "",
            "zerolinecolor": "white"
           },
           "zaxis": {
            "backgroundcolor": "#E5ECF6",
            "gridcolor": "white",
            "gridwidth": 2,
            "linecolor": "white",
            "showbackground": true,
            "ticks": "",
            "zerolinecolor": "white"
           }
          },
          "shapedefaults": {
           "line": {
            "color": "#2a3f5f"
           }
          },
          "ternary": {
           "aaxis": {
            "gridcolor": "white",
            "linecolor": "white",
            "ticks": ""
           },
           "baxis": {
            "gridcolor": "white",
            "linecolor": "white",
            "ticks": ""
           },
           "bgcolor": "#E5ECF6",
           "caxis": {
            "gridcolor": "white",
            "linecolor": "white",
            "ticks": ""
           }
          },
          "title": {
           "x": 0.05
          },
          "xaxis": {
           "automargin": true,
           "gridcolor": "white",
           "linecolor": "white",
           "ticks": "",
           "title": {
            "standoff": 15
           },
           "zerolinecolor": "white",
           "zerolinewidth": 2
          },
          "yaxis": {
           "automargin": true,
           "gridcolor": "white",
           "linecolor": "white",
           "ticks": "",
           "title": {
            "standoff": 15
           },
           "zerolinecolor": "white",
           "zerolinewidth": 2
          }
         }
        },
        "title": {
         "text": "Wildfire Incident Scatter Matrix by Feature"
        },
        "width": 1200,
        "xaxis": {
         "anchor": "y",
         "domain": [
          0,
          0.45
         ],
         "matches": "x3",
         "range": [
          30.45,
          43.05
         ],
         "showgrid": false,
         "showline": true,
         "showticklabels": false,
         "title": {
          "text": "Latitude"
         },
         "zeroline": true
        },
        "xaxis2": {
         "anchor": "y2",
         "domain": [
          0.55,
          1
         ],
         "matches": "x4",
         "range": [
          30.45,
          43.05
         ],
         "showgrid": false,
         "showline": true,
         "showticklabels": false,
         "title": {
          "text": "Latitude"
         },
         "zeroline": true
        },
        "xaxis3": {
         "anchor": "y3",
         "domain": [
          0,
          0.45
         ],
         "range": [
          30.45,
          43.05
         ],
         "showgrid": false,
         "showline": true,
         "title": {
          "text": "Latitude"
         },
         "zeroline": true
        },
        "xaxis4": {
         "anchor": "y4",
         "domain": [
          0.55,
          1
         ],
         "range": [
          30.45,
          43.05
         ],
         "showgrid": false,
         "showline": true,
         "title": {
          "text": "Latitude"
         },
         "zeroline": true
        },
        "yaxis": {
         "anchor": "x",
         "domain": [
          0.625,
          1
         ],
         "range": [
          -124.55,
          -115.8
         ],
         "showgrid": false,
         "showline": true,
         "title": {
          "text": "Longitude"
         },
         "zeroline": true
        },
        "yaxis2": {
         "anchor": "x2",
         "domain": [
          0.625,
          1
         ],
         "matches": "y",
         "range": [
          -124.55,
          -115.8
         ],
         "showgrid": false,
         "showline": true,
         "showticklabels": false,
         "title": {
          "text": "Longitude"
         },
         "zeroline": true
        },
        "yaxis3": {
         "anchor": "x3",
         "domain": [
          0,
          0.375
         ],
         "range": [
          -124.55,
          -115.8
         ],
         "showgrid": false,
         "showline": true,
         "title": {
          "text": "Longitude"
         },
         "zeroline": true
        },
        "yaxis4": {
         "anchor": "x4",
         "domain": [
          0,
          0.375
         ],
         "matches": "y3",
         "range": [
          -124.55,
          -115.8
         ],
         "showgrid": false,
         "showline": true,
         "showticklabels": false,
         "title": {
          "text": "Longitude"
         },
         "zeroline": true
        }
       }
      }
     },
     "metadata": {},
     "output_type": "display_data"
    }
   ],
   "source": [
    "fig6 = make_subplots(\n",
    "    rows=2, cols=2,\n",
    "    subplot_titles=[\n",
    "        \"Wildfires with size as total acres burned\",\n",
    "        \"Major Incident Wildfires\",\n",
    "        \"Fatalities\",\n",
    "        \"Personnel Involved\"\n",
    "    ],\n",
    "    shared_xaxes=True,\n",
    "    shared_yaxes=True\n",
    ")\n",
    "\n",
    "x_range = [30.45, 43.05]\n",
    "y_range = [-124.55, -115.80]\n",
    "color_col = \"ArchiveYear\"\n",
    "colorscale = \"Rainbow\"\n",
    "\n",
    "scatter_one_df = cleaned_df.dropna(subset=['Latitude', 'Longitude', 'AcresBurned', 'ArchiveYear'])\n",
    "scatterOne = px.scatter(scatter_one_df, x=\"Latitude\", y=\"Longitude\", color=\"ArchiveYear\", size=scatter_one_df[\"AcresBurned\"] * 100, color_continuous_scale=colorscale, opacity=0.8)\n",
    "for trace in scatterOne.data:\n",
    "    trace.showlegend = False\n",
    "    fig6.add_trace(trace, row=1, col=1)\n",
    "\n",
    "# Build second scatter chart - Major Incident vs latitude and longitude\n",
    "scatter_two_df = cleaned_df.dropna(subset=['Latitude', 'Longitude', 'MajorIncident', 'ArchiveYear'])\n",
    "scatterTwo = px.scatter(scatter_two_df, x=\"Latitude\", y=\"Longitude\", color=\"ArchiveYear\", size=scatter_two_df[\"MajorIncident\"] * 10, color_continuous_scale=colorscale, opacity=0.3)\n",
    "for trace in scatterTwo.data:\n",
    "    trace.showlegend = False\n",
    "    fig6.add_trace(trace, row=1, col=2)\n",
    "\n",
    "# Build third scatter chart - Fatalities vs latitude and longitude\n",
    "scatter_three_df = cleaned_df.dropna(subset=['Latitude', 'Longitude', 'Fatalities', 'ArchiveYear'])\n",
    "scatterThree = px.scatter(scatter_three_df, x=\"Latitude\", y=\"Longitude\", color=\"ArchiveYear\", size=scatter_three_df[\"Fatalities\"] * 50, color_continuous_scale=colorscale, opacity=0.7)\n",
    "for trace in scatterThree.data:\n",
    "    trace.showlegend = False\n",
    "    fig6.add_trace(trace, row=2, col=1)\n",
    "\n",
    "# Build fourth scatter chart - Personnel Involved vs latitude and longitude\n",
    "scatter_four_df = cleaned_df.dropna(subset=['Latitude', 'Longitude', 'PersonnelInvolved', 'ArchiveYear'])\n",
    "scatterFour = px.scatter(scatter_four_df, x=\"Latitude\", y=\"Longitude\", color=\"ArchiveYear\", size=scatter_four_df[\"PersonnelInvolved\"] / 2, color_continuous_scale=colorscale, opacity=0.5)\n",
    "for trace in scatterFour.data:\n",
    "    trace.showlegend = False\n",
    "    fig6.add_trace(trace, row=2, col=2)\n",
    "\n",
    "for i in range(1, 3):\n",
    "    for j in range(1, 3):\n",
    "        fig6.update_xaxes(range=x_range, title_text=\"Latitude\", row=i, col=j, showgrid=False, showline=True, zeroline=True)\n",
    "        fig6.update_yaxes(range=y_range, title_text=\"Longitude\", row=i, col=j, showgrid=False, showline=True, zeroline=True)\n",
    "\n",
    "fig6.update_layout(\n",
    "    height=900,\n",
    "    width=1200,\n",
    "    title_text=\"Wildfire Incident Scatter Matrix by Feature\",\n",
    "    showlegend=False,\n",
    "    plot_bgcolor='white'\n",
    ")\n",
    "fig6.show()"
   ]
  },
  {
   "cell_type": "code",
   "execution_count": 71,
   "id": "a6a82b88",
   "metadata": {},
   "outputs": [
    {
     "data": {
      "text/plain": [
       "AcresBurned          68.380820\n",
       "AdminUnit            68.446602\n",
       "ArchiveYear          68.446602\n",
       "Counties             68.446602\n",
       "Extinguished         67.100506\n",
       "Fatalities           95.238095\n",
       "Latitude             68.446602\n",
       "Longitude            68.446602\n",
       "MajorIncident        68.446602\n",
       "Name                 68.446602\n",
       "PersonnelInvolved    43.548387\n",
       "Started              68.446602\n",
       "WaterTenders         41.176471\n",
       "fire_duration        67.100506\n",
       "AdminUnitCleaned     68.424705\n",
       "dtype: float64"
      ]
     },
     "execution_count": 71,
     "metadata": {},
     "output_type": "execute_result"
    }
   ],
   "source": [
    "cleaned_df[ (cleaned_df['ArchiveYear'] >=  2017)].count()/cleaned_df.count() *100"
   ]
  },
  {
   "cell_type": "markdown",
   "id": "f2fe7397",
   "metadata": {},
   "source": [
    "The four plots above offer several key insights into the dataset. Notably, they reinforce the conclusion from Observation 3 regarding the increasing severity of wildfires—highlighting that 68.3% of all incidents and nearly 95% of the total fatalities have occurred since 2017, with a significant concentration in the southeastern region of California, particularly within the Riverside Unit (RRU).\n",
    "\n",
    "Having established that, the next step is to determine: **How many wildfire incidents in 2018 were managed by the Riverside administrative unit?**"
   ]
  },
  {
   "cell_type": "code",
   "execution_count": 72,
   "id": "d1f38d78",
   "metadata": {},
   "outputs": [
    {
     "data": {
      "application/vnd.plotly.v1+json": {
       "config": {
        "plotlyServerURL": "https://plot.ly"
       },
       "data": [
        {
         "marker": {
          "color": [
           "red",
           "blue",
           "green",
           "orange",
           "magenta"
          ]
         },
         "opacity": 0.7,
         "orientation": "h",
         "type": "bar",
         "x": {
          "bdata": "bdu2bdu2KUAkSZIkSZIcQAAAAAAAABRAAAAAAAAAFEBJkiRJkiQRQA==",
          "dtype": "f8"
         },
         "xaxis": "x",
         "y": [
          "Riverside",
          "San Bernardino",
          "San Diego",
          "Lake",
          "San Luis Obispo"
         ],
         "yaxis": "y"
        },
        {
         "marker": {
          "color": [
           "red",
           "blue",
           "green",
           "orange",
           "magenta"
          ]
         },
         "opacity": 0.7,
         "orientation": "h",
         "type": "bar",
         "x": {
          "bdata": "aYXNgUQrLEAh0QqbA4kmQCHRCpsDiRZAIdEKmwOJFkAh0QqbA4kWQA==",
          "dtype": "f8"
         },
         "xaxis": "x2",
         "y": [
          "San Diego",
          "Shasta",
          "El Dorado",
          "Siskiyou",
          "Modoc"
         ],
         "yaxis": "y2"
        },
        {
         "marker": {
          "color": [
           "red",
           "blue",
           "green",
           "orange",
           "magenta"
          ]
         },
         "opacity": 0.7,
         "orientation": "h",
         "type": "bar",
         "x": {
          "bdata": "HG644YYbHkDOOeecc84ZQIEFFlhggRVAgQUWWGCBFUA10UQTTTQRQA==",
          "dtype": "f8"
         },
         "xaxis": "x3",
         "y": [
          "Shasta",
          "San Diego",
          "San Bernardino",
          "Lake",
          "Humboldt"
         ],
         "yaxis": "y3"
        },
        {
         "marker": {
          "color": [
           "red",
           "blue",
           "green",
           "orange",
           "magenta"
          ]
         },
         "opacity": 0.7,
         "orientation": "h",
         "type": "bar",
         "x": {
          "bdata": "aY40R5ojHUA/XZ+uT9cXQD9dn65P1xdAFCwKFgWLEkAULAoWBYsSQA==",
          "dtype": "f8"
         },
         "xaxis": "x4",
         "y": [
          "Fresno",
          "Kern",
          "Butte",
          "Monterey",
          "San Diego"
         ],
         "yaxis": "y4"
        },
        {
         "marker": {
          "color": [
           "red",
           "blue",
           "green",
           "orange",
           "magenta"
          ]
         },
         "opacity": 0.7,
         "orientation": "h",
         "type": "bar",
         "x": {
          "bdata": "0Bf0BX1BJ0DQF/QFfUEXQJU1ZU1ZUxZAlTVlTVlTFkBrypqypqwRQA==",
          "dtype": "f8"
         },
         "xaxis": "x5",
         "y": [
          "Riverside",
          "San Luis Obispo",
          "Kern",
          "Fresno",
          "San Diego"
         ],
         "yaxis": "y5"
        },
        {
         "marker": {
          "color": [
           "red",
           "blue",
           "green",
           "orange",
           "magenta"
          ]
         },
         "opacity": 0.7,
         "orientation": "h",
         "type": "bar",
         "x": {
          "bdata": "4qz8hDgrH0DLT4iz8hMWQOwdUwN7xxRAL7rooosuEkBQiLPyE+IQQA==",
          "dtype": "f8"
         },
         "xaxis": "x6",
         "y": [
          "Riverside",
          "San Diego",
          "Shasta",
          "Tehama",
          "San Luis Obispo"
         ],
         "yaxis": "y6"
        },
        {
         "marker": {
          "color": [
           "red",
           "blue",
           "green",
           "orange",
           "magenta"
          ]
         },
         "opacity": 0.7,
         "orientation": "h",
         "type": "bar",
         "x": {
          "bdata": "pcNGOmykG0BCoCkEmkIQQEKgKQSaQhBAQqApBJpCEEBE7UrUrkQNQA==",
          "dtype": "f8"
         },
         "xaxis": "x7",
         "y": [
          "San Diego",
          "Santa Clara",
          "San Luis Obispo",
          "Lassen",
          "Contra Costa"
         ],
         "yaxis": "y7"
        }
       ],
       "layout": {
        "annotations": [
         {
          "font": {
           "size": 16
          },
          "showarrow": false,
          "text": "Wildfires handled in year 2013",
          "x": 0.14444444444444446,
          "xanchor": "center",
          "xref": "paper",
          "y": 1,
          "yanchor": "bottom",
          "yref": "paper"
         },
         {
          "font": {
           "size": 16
          },
          "showarrow": false,
          "text": "Wildfires handled in year 2014",
          "x": 0.5,
          "xanchor": "center",
          "xref": "paper",
          "y": 1,
          "yanchor": "bottom",
          "yref": "paper"
         },
         {
          "font": {
           "size": 16
          },
          "showarrow": false,
          "text": "Wildfires handled in year 2015",
          "x": 0.8555555555555556,
          "xanchor": "center",
          "xref": "paper",
          "y": 1,
          "yanchor": "bottom",
          "yref": "paper"
         },
         {
          "font": {
           "size": 16
          },
          "showarrow": false,
          "text": "Wildfires handled in year 2016",
          "x": 0.14444444444444446,
          "xanchor": "center",
          "xref": "paper",
          "y": 0.6111111111111112,
          "yanchor": "bottom",
          "yref": "paper"
         },
         {
          "font": {
           "size": 16
          },
          "showarrow": false,
          "text": "Wildfires handled in year 2017",
          "x": 0.5,
          "xanchor": "center",
          "xref": "paper",
          "y": 0.6111111111111112,
          "yanchor": "bottom",
          "yref": "paper"
         },
         {
          "font": {
           "size": 16
          },
          "showarrow": false,
          "text": "Wildfires handled in year 2018",
          "x": 0.8555555555555556,
          "xanchor": "center",
          "xref": "paper",
          "y": 0.6111111111111112,
          "yanchor": "bottom",
          "yref": "paper"
         },
         {
          "font": {
           "size": 16
          },
          "showarrow": false,
          "text": "Wildfires handled in year 2019",
          "x": 0.14444444444444446,
          "xanchor": "center",
          "xref": "paper",
          "y": 0.22222222222222224,
          "yanchor": "bottom",
          "yref": "paper"
         }
        ],
        "height": 700,
        "showlegend": false,
        "template": {
         "data": {
          "bar": [
           {
            "error_x": {
             "color": "#2a3f5f"
            },
            "error_y": {
             "color": "#2a3f5f"
            },
            "marker": {
             "line": {
              "color": "white",
              "width": 0.5
             },
             "pattern": {
              "fillmode": "overlay",
              "size": 10,
              "solidity": 0.2
             }
            },
            "type": "bar"
           }
          ],
          "barpolar": [
           {
            "marker": {
             "line": {
              "color": "white",
              "width": 0.5
             },
             "pattern": {
              "fillmode": "overlay",
              "size": 10,
              "solidity": 0.2
             }
            },
            "type": "barpolar"
           }
          ],
          "carpet": [
           {
            "aaxis": {
             "endlinecolor": "#2a3f5f",
             "gridcolor": "#C8D4E3",
             "linecolor": "#C8D4E3",
             "minorgridcolor": "#C8D4E3",
             "startlinecolor": "#2a3f5f"
            },
            "baxis": {
             "endlinecolor": "#2a3f5f",
             "gridcolor": "#C8D4E3",
             "linecolor": "#C8D4E3",
             "minorgridcolor": "#C8D4E3",
             "startlinecolor": "#2a3f5f"
            },
            "type": "carpet"
           }
          ],
          "choropleth": [
           {
            "colorbar": {
             "outlinewidth": 0,
             "ticks": ""
            },
            "type": "choropleth"
           }
          ],
          "contour": [
           {
            "colorbar": {
             "outlinewidth": 0,
             "ticks": ""
            },
            "colorscale": [
             [
              0,
              "#0d0887"
             ],
             [
              0.1111111111111111,
              "#46039f"
             ],
             [
              0.2222222222222222,
              "#7201a8"
             ],
             [
              0.3333333333333333,
              "#9c179e"
             ],
             [
              0.4444444444444444,
              "#bd3786"
             ],
             [
              0.5555555555555556,
              "#d8576b"
             ],
             [
              0.6666666666666666,
              "#ed7953"
             ],
             [
              0.7777777777777778,
              "#fb9f3a"
             ],
             [
              0.8888888888888888,
              "#fdca26"
             ],
             [
              1,
              "#f0f921"
             ]
            ],
            "type": "contour"
           }
          ],
          "contourcarpet": [
           {
            "colorbar": {
             "outlinewidth": 0,
             "ticks": ""
            },
            "type": "contourcarpet"
           }
          ],
          "heatmap": [
           {
            "colorbar": {
             "outlinewidth": 0,
             "ticks": ""
            },
            "colorscale": [
             [
              0,
              "#0d0887"
             ],
             [
              0.1111111111111111,
              "#46039f"
             ],
             [
              0.2222222222222222,
              "#7201a8"
             ],
             [
              0.3333333333333333,
              "#9c179e"
             ],
             [
              0.4444444444444444,
              "#bd3786"
             ],
             [
              0.5555555555555556,
              "#d8576b"
             ],
             [
              0.6666666666666666,
              "#ed7953"
             ],
             [
              0.7777777777777778,
              "#fb9f3a"
             ],
             [
              0.8888888888888888,
              "#fdca26"
             ],
             [
              1,
              "#f0f921"
             ]
            ],
            "type": "heatmap"
           }
          ],
          "histogram": [
           {
            "marker": {
             "pattern": {
              "fillmode": "overlay",
              "size": 10,
              "solidity": 0.2
             }
            },
            "type": "histogram"
           }
          ],
          "histogram2d": [
           {
            "colorbar": {
             "outlinewidth": 0,
             "ticks": ""
            },
            "colorscale": [
             [
              0,
              "#0d0887"
             ],
             [
              0.1111111111111111,
              "#46039f"
             ],
             [
              0.2222222222222222,
              "#7201a8"
             ],
             [
              0.3333333333333333,
              "#9c179e"
             ],
             [
              0.4444444444444444,
              "#bd3786"
             ],
             [
              0.5555555555555556,
              "#d8576b"
             ],
             [
              0.6666666666666666,
              "#ed7953"
             ],
             [
              0.7777777777777778,
              "#fb9f3a"
             ],
             [
              0.8888888888888888,
              "#fdca26"
             ],
             [
              1,
              "#f0f921"
             ]
            ],
            "type": "histogram2d"
           }
          ],
          "histogram2dcontour": [
           {
            "colorbar": {
             "outlinewidth": 0,
             "ticks": ""
            },
            "colorscale": [
             [
              0,
              "#0d0887"
             ],
             [
              0.1111111111111111,
              "#46039f"
             ],
             [
              0.2222222222222222,
              "#7201a8"
             ],
             [
              0.3333333333333333,
              "#9c179e"
             ],
             [
              0.4444444444444444,
              "#bd3786"
             ],
             [
              0.5555555555555556,
              "#d8576b"
             ],
             [
              0.6666666666666666,
              "#ed7953"
             ],
             [
              0.7777777777777778,
              "#fb9f3a"
             ],
             [
              0.8888888888888888,
              "#fdca26"
             ],
             [
              1,
              "#f0f921"
             ]
            ],
            "type": "histogram2dcontour"
           }
          ],
          "mesh3d": [
           {
            "colorbar": {
             "outlinewidth": 0,
             "ticks": ""
            },
            "type": "mesh3d"
           }
          ],
          "parcoords": [
           {
            "line": {
             "colorbar": {
              "outlinewidth": 0,
              "ticks": ""
             }
            },
            "type": "parcoords"
           }
          ],
          "pie": [
           {
            "automargin": true,
            "type": "pie"
           }
          ],
          "scatter": [
           {
            "fillpattern": {
             "fillmode": "overlay",
             "size": 10,
             "solidity": 0.2
            },
            "type": "scatter"
           }
          ],
          "scatter3d": [
           {
            "line": {
             "colorbar": {
              "outlinewidth": 0,
              "ticks": ""
             }
            },
            "marker": {
             "colorbar": {
              "outlinewidth": 0,
              "ticks": ""
             }
            },
            "type": "scatter3d"
           }
          ],
          "scattercarpet": [
           {
            "marker": {
             "colorbar": {
              "outlinewidth": 0,
              "ticks": ""
             }
            },
            "type": "scattercarpet"
           }
          ],
          "scattergeo": [
           {
            "marker": {
             "colorbar": {
              "outlinewidth": 0,
              "ticks": ""
             }
            },
            "type": "scattergeo"
           }
          ],
          "scattergl": [
           {
            "marker": {
             "colorbar": {
              "outlinewidth": 0,
              "ticks": ""
             }
            },
            "type": "scattergl"
           }
          ],
          "scattermap": [
           {
            "marker": {
             "colorbar": {
              "outlinewidth": 0,
              "ticks": ""
             }
            },
            "type": "scattermap"
           }
          ],
          "scattermapbox": [
           {
            "marker": {
             "colorbar": {
              "outlinewidth": 0,
              "ticks": ""
             }
            },
            "type": "scattermapbox"
           }
          ],
          "scatterpolar": [
           {
            "marker": {
             "colorbar": {
              "outlinewidth": 0,
              "ticks": ""
             }
            },
            "type": "scatterpolar"
           }
          ],
          "scatterpolargl": [
           {
            "marker": {
             "colorbar": {
              "outlinewidth": 0,
              "ticks": ""
             }
            },
            "type": "scatterpolargl"
           }
          ],
          "scatterternary": [
           {
            "marker": {
             "colorbar": {
              "outlinewidth": 0,
              "ticks": ""
             }
            },
            "type": "scatterternary"
           }
          ],
          "surface": [
           {
            "colorbar": {
             "outlinewidth": 0,
             "ticks": ""
            },
            "colorscale": [
             [
              0,
              "#0d0887"
             ],
             [
              0.1111111111111111,
              "#46039f"
             ],
             [
              0.2222222222222222,
              "#7201a8"
             ],
             [
              0.3333333333333333,
              "#9c179e"
             ],
             [
              0.4444444444444444,
              "#bd3786"
             ],
             [
              0.5555555555555556,
              "#d8576b"
             ],
             [
              0.6666666666666666,
              "#ed7953"
             ],
             [
              0.7777777777777778,
              "#fb9f3a"
             ],
             [
              0.8888888888888888,
              "#fdca26"
             ],
             [
              1,
              "#f0f921"
             ]
            ],
            "type": "surface"
           }
          ],
          "table": [
           {
            "cells": {
             "fill": {
              "color": "#EBF0F8"
             },
             "line": {
              "color": "white"
             }
            },
            "header": {
             "fill": {
              "color": "#C8D4E3"
             },
             "line": {
              "color": "white"
             }
            },
            "type": "table"
           }
          ]
         },
         "layout": {
          "annotationdefaults": {
           "arrowcolor": "#2a3f5f",
           "arrowhead": 0,
           "arrowwidth": 1
          },
          "autotypenumbers": "strict",
          "coloraxis": {
           "colorbar": {
            "outlinewidth": 0,
            "ticks": ""
           }
          },
          "colorscale": {
           "diverging": [
            [
             0,
             "#8e0152"
            ],
            [
             0.1,
             "#c51b7d"
            ],
            [
             0.2,
             "#de77ae"
            ],
            [
             0.3,
             "#f1b6da"
            ],
            [
             0.4,
             "#fde0ef"
            ],
            [
             0.5,
             "#f7f7f7"
            ],
            [
             0.6,
             "#e6f5d0"
            ],
            [
             0.7,
             "#b8e186"
            ],
            [
             0.8,
             "#7fbc41"
            ],
            [
             0.9,
             "#4d9221"
            ],
            [
             1,
             "#276419"
            ]
           ],
           "sequential": [
            [
             0,
             "#0d0887"
            ],
            [
             0.1111111111111111,
             "#46039f"
            ],
            [
             0.2222222222222222,
             "#7201a8"
            ],
            [
             0.3333333333333333,
             "#9c179e"
            ],
            [
             0.4444444444444444,
             "#bd3786"
            ],
            [
             0.5555555555555556,
             "#d8576b"
            ],
            [
             0.6666666666666666,
             "#ed7953"
            ],
            [
             0.7777777777777778,
             "#fb9f3a"
            ],
            [
             0.8888888888888888,
             "#fdca26"
            ],
            [
             1,
             "#f0f921"
            ]
           ],
           "sequentialminus": [
            [
             0,
             "#0d0887"
            ],
            [
             0.1111111111111111,
             "#46039f"
            ],
            [
             0.2222222222222222,
             "#7201a8"
            ],
            [
             0.3333333333333333,
             "#9c179e"
            ],
            [
             0.4444444444444444,
             "#bd3786"
            ],
            [
             0.5555555555555556,
             "#d8576b"
            ],
            [
             0.6666666666666666,
             "#ed7953"
            ],
            [
             0.7777777777777778,
             "#fb9f3a"
            ],
            [
             0.8888888888888888,
             "#fdca26"
            ],
            [
             1,
             "#f0f921"
            ]
           ]
          },
          "colorway": [
           "#636efa",
           "#EF553B",
           "#00cc96",
           "#ab63fa",
           "#FFA15A",
           "#19d3f3",
           "#FF6692",
           "#B6E880",
           "#FF97FF",
           "#FECB52"
          ],
          "font": {
           "color": "#2a3f5f"
          },
          "geo": {
           "bgcolor": "white",
           "lakecolor": "white",
           "landcolor": "white",
           "showlakes": true,
           "showland": true,
           "subunitcolor": "#C8D4E3"
          },
          "hoverlabel": {
           "align": "left"
          },
          "hovermode": "closest",
          "mapbox": {
           "style": "light"
          },
          "paper_bgcolor": "white",
          "plot_bgcolor": "white",
          "polar": {
           "angularaxis": {
            "gridcolor": "#EBF0F8",
            "linecolor": "#EBF0F8",
            "ticks": ""
           },
           "bgcolor": "white",
           "radialaxis": {
            "gridcolor": "#EBF0F8",
            "linecolor": "#EBF0F8",
            "ticks": ""
           }
          },
          "scene": {
           "xaxis": {
            "backgroundcolor": "white",
            "gridcolor": "#DFE8F3",
            "gridwidth": 2,
            "linecolor": "#EBF0F8",
            "showbackground": true,
            "ticks": "",
            "zerolinecolor": "#EBF0F8"
           },
           "yaxis": {
            "backgroundcolor": "white",
            "gridcolor": "#DFE8F3",
            "gridwidth": 2,
            "linecolor": "#EBF0F8",
            "showbackground": true,
            "ticks": "",
            "zerolinecolor": "#EBF0F8"
           },
           "zaxis": {
            "backgroundcolor": "white",
            "gridcolor": "#DFE8F3",
            "gridwidth": 2,
            "linecolor": "#EBF0F8",
            "showbackground": true,
            "ticks": "",
            "zerolinecolor": "#EBF0F8"
           }
          },
          "shapedefaults": {
           "line": {
            "color": "#2a3f5f"
           }
          },
          "ternary": {
           "aaxis": {
            "gridcolor": "#DFE8F3",
            "linecolor": "#A2B1C6",
            "ticks": ""
           },
           "baxis": {
            "gridcolor": "#DFE8F3",
            "linecolor": "#A2B1C6",
            "ticks": ""
           },
           "bgcolor": "white",
           "caxis": {
            "gridcolor": "#DFE8F3",
            "linecolor": "#A2B1C6",
            "ticks": ""
           }
          },
          "title": {
           "x": 0.05
          },
          "xaxis": {
           "automargin": true,
           "gridcolor": "#EBF0F8",
           "linecolor": "#EBF0F8",
           "ticks": "",
           "title": {
            "standoff": 15
           },
           "zerolinecolor": "#EBF0F8",
           "zerolinewidth": 2
          },
          "yaxis": {
           "automargin": true,
           "gridcolor": "#EBF0F8",
           "linecolor": "#EBF0F8",
           "ticks": "",
           "title": {
            "standoff": 15
           },
           "zerolinecolor": "#EBF0F8",
           "zerolinewidth": 2
          }
         }
        },
        "title": {
         "text": "Top 5 Counties by Wildfire Incidents per Year (as % of total that year)"
        },
        "width": 1200,
        "xaxis": {
         "anchor": "y",
         "domain": [
          0,
          0.2888888888888889
         ],
         "matches": "x7",
         "showgrid": false,
         "showline": true,
         "showticklabels": false,
         "zeroline": true
        },
        "xaxis2": {
         "anchor": "y2",
         "domain": [
          0.35555555555555557,
          0.6444444444444445
         ],
         "matches": "x8",
         "showgrid": false,
         "showline": true,
         "showticklabels": false,
         "zeroline": true
        },
        "xaxis3": {
         "anchor": "y3",
         "domain": [
          0.7111111111111111,
          1
         ],
         "matches": "x9",
         "showgrid": false,
         "showline": true,
         "showticklabels": false,
         "zeroline": true
        },
        "xaxis4": {
         "anchor": "y4",
         "domain": [
          0,
          0.2888888888888889
         ],
         "matches": "x7",
         "showgrid": false,
         "showline": true,
         "showticklabels": false,
         "zeroline": true
        },
        "xaxis5": {
         "anchor": "y5",
         "domain": [
          0.35555555555555557,
          0.6444444444444445
         ],
         "matches": "x8",
         "showgrid": false,
         "showline": true,
         "showticklabels": false,
         "zeroline": true
        },
        "xaxis6": {
         "anchor": "y6",
         "domain": [
          0.7111111111111111,
          1
         ],
         "matches": "x9",
         "showgrid": false,
         "showline": true,
         "showticklabels": false,
         "zeroline": true
        },
        "xaxis7": {
         "anchor": "y7",
         "domain": [
          0,
          0.2888888888888889
         ],
         "showgrid": false,
         "showline": true,
         "title": {
          "text": "Percentage of wildfires handled"
         },
         "zeroline": true
        },
        "xaxis8": {
         "anchor": "y8",
         "domain": [
          0.35555555555555557,
          0.6444444444444445
         ],
         "showgrid": false,
         "showline": true,
         "title": {
          "text": "Percentage of wildfires handled"
         },
         "zeroline": true
        },
        "xaxis9": {
         "anchor": "y9",
         "domain": [
          0.7111111111111111,
          1
         ],
         "showgrid": false,
         "showline": true,
         "title": {
          "text": "Percentage of wildfires handled"
         },
         "zeroline": true
        },
        "yaxis": {
         "anchor": "x",
         "domain": [
          0.7777777777777778,
          1
         ],
         "showgrid": false,
         "showline": true,
         "zeroline": true
        },
        "yaxis2": {
         "anchor": "x2",
         "domain": [
          0.7777777777777778,
          1
         ],
         "showgrid": false,
         "showline": true,
         "zeroline": true
        },
        "yaxis3": {
         "anchor": "x3",
         "domain": [
          0.7777777777777778,
          1
         ],
         "showgrid": false,
         "showline": true,
         "zeroline": true
        },
        "yaxis4": {
         "anchor": "x4",
         "domain": [
          0.3888888888888889,
          0.6111111111111112
         ],
         "showgrid": false,
         "showline": true,
         "zeroline": true
        },
        "yaxis5": {
         "anchor": "x5",
         "domain": [
          0.3888888888888889,
          0.6111111111111112
         ],
         "showgrid": false,
         "showline": true,
         "zeroline": true
        },
        "yaxis6": {
         "anchor": "x6",
         "domain": [
          0.3888888888888889,
          0.6111111111111112
         ],
         "showgrid": false,
         "showline": true,
         "zeroline": true
        },
        "yaxis7": {
         "anchor": "x7",
         "domain": [
          0,
          0.22222222222222224
         ],
         "showgrid": false,
         "showline": true,
         "zeroline": true
        },
        "yaxis8": {
         "anchor": "x8",
         "domain": [
          0,
          0.22222222222222224
         ],
         "showgrid": false,
         "showline": true,
         "zeroline": true
        },
        "yaxis9": {
         "anchor": "x9",
         "domain": [
          0,
          0.22222222222222224
         ],
         "showgrid": false,
         "showline": true,
         "zeroline": true
        }
       }
      }
     },
     "metadata": {},
     "output_type": "display_data"
    }
   ],
   "source": [
    "unique_years = cleaned_df['ArchiveYear'].unique()\n",
    "fig7 = make_subplots(\n",
    "    rows=3, cols=3,\n",
    "    subplot_titles=[f\"Wildfires handled in year {year}\" for year in unique_years],\n",
    "    shared_xaxes=True\n",
    ")\n",
    "\n",
    "rows, cols = 3, 3\n",
    "current_row = 1\n",
    "current_col = 1\n",
    "\n",
    "fire_counties_df = cleaned_df.groupby(\"Counties\").head(100)\n",
    "for idx, year in enumerate(unique_years):\n",
    "    total_fire_year = cleaned_df[cleaned_df[\"ArchiveYear\"] == year].count().values[0]\n",
    "    fires_by_county = fire_counties_df[fire_counties_df[\"ArchiveYear\"] == year][\"Counties\"].value_counts()\n",
    "    percentages = (fires_by_county.values[0: 5] / total_fire_year) * 100\n",
    "    counties = fires_by_county.index.unique()[0: 5]\n",
    "    fig7.add_trace(\n",
    "        go.Bar(\n",
    "            x=percentages,\n",
    "            y=counties,\n",
    "            orientation='h',\n",
    "            marker=dict(color=['red','blue','green','orange','magenta']),\n",
    "            opacity=0.7\n",
    "        ),\n",
    "        row=current_row,\n",
    "        col=current_col\n",
    "    )\n",
    "\n",
    "    current_col += 1\n",
    "    if current_col > cols:\n",
    "        current_row += 1\n",
    "        current_col = 1\n",
    "\n",
    "fig7.update_layout(\n",
    "    height=700,\n",
    "    width=1200,\n",
    "    title_text=\"Top 5 Counties by Wildfire Incidents per Year (as % of total that year)\",\n",
    "    showlegend=False,\n",
    "    template=\"plotly_white\"\n",
    ")\n",
    "\n",
    "for c in range(1, cols + 1):\n",
    "    fig7.update_xaxes(title_text=\"Percentage of wildfires handled\", row=3, col=c)\n",
    "\n",
    "for r in range(1, rows + 1):\n",
    "    for c in range(1, cols + 1):\n",
    "        fig7.update_xaxes(showgrid=False, showline=True, zeroline=True)\n",
    "        fig7.update_yaxes(showgrid=False, showline=True, zeroline=True)\n",
    "\n",
    "fig7.show()"
   ]
  },
  {
   "cell_type": "markdown",
   "id": "62a726ea",
   "metadata": {},
   "source": [
    "#### Observation 8\n",
    "\n",
    "- `San Diego` administrative unit has been in the top 5 wildfire handling units over all 7 years.\n",
    "- `Riverside` has handled wildfires only in the years 2013, 2017 and 2018, but the number of wildfires handled were significantly higher."
   ]
  },
  {
   "cell_type": "markdown",
   "id": "6e566854",
   "metadata": {},
   "source": [
    "**Worst Wildfire(s)**"
   ]
  },
  {
   "cell_type": "code",
   "execution_count": 73,
   "id": "7c408fb9",
   "metadata": {},
   "outputs": [
    {
     "data": {
      "text/html": [
       "<div>\n",
       "<style scoped>\n",
       "    .dataframe tbody tr th:only-of-type {\n",
       "        vertical-align: middle;\n",
       "    }\n",
       "\n",
       "    .dataframe tbody tr th {\n",
       "        vertical-align: top;\n",
       "    }\n",
       "\n",
       "    .dataframe thead th {\n",
       "        text-align: right;\n",
       "    }\n",
       "</style>\n",
       "<table border=\"1\" class=\"dataframe\">\n",
       "  <thead>\n",
       "    <tr style=\"text-align: right;\">\n",
       "      <th></th>\n",
       "      <th>AcresBurned</th>\n",
       "      <th>Counties</th>\n",
       "      <th>ArchiveYear</th>\n",
       "      <th>Fatalities</th>\n",
       "      <th>MajorIncident</th>\n",
       "      <th>Started</th>\n",
       "      <th>fire_duration</th>\n",
       "      <th>PersonnelInvolved</th>\n",
       "    </tr>\n",
       "  </thead>\n",
       "  <tbody>\n",
       "    <tr>\n",
       "      <th>466</th>\n",
       "      <td>36807.0</td>\n",
       "      <td>Napa</td>\n",
       "      <td>2017</td>\n",
       "      <td>22.0</td>\n",
       "      <td>True</td>\n",
       "      <td>2017-10-08 21:45:00+00:00</td>\n",
       "      <td>123.487500</td>\n",
       "      <td>NaN</td>\n",
       "    </tr>\n",
       "    <tr>\n",
       "      <th>467</th>\n",
       "      <td>36807.0</td>\n",
       "      <td>Sonoma</td>\n",
       "      <td>2017</td>\n",
       "      <td>22.0</td>\n",
       "      <td>True</td>\n",
       "      <td>2017-10-08 21:45:00+00:00</td>\n",
       "      <td>123.487500</td>\n",
       "      <td>NaN</td>\n",
       "    </tr>\n",
       "    <tr>\n",
       "      <th>891</th>\n",
       "      <td>153336.0</td>\n",
       "      <td>Butte</td>\n",
       "      <td>2018</td>\n",
       "      <td>85.0</td>\n",
       "      <td>True</td>\n",
       "      <td>2018-11-08 06:33:00+00:00</td>\n",
       "      <td>17.060417</td>\n",
       "      <td>1065.0</td>\n",
       "    </tr>\n",
       "  </tbody>\n",
       "</table>\n",
       "</div>"
      ],
      "text/plain": [
       "     AcresBurned Counties  ArchiveYear  Fatalities  MajorIncident  \\\n",
       "466      36807.0     Napa         2017        22.0           True   \n",
       "467      36807.0   Sonoma         2017        22.0           True   \n",
       "891     153336.0    Butte         2018        85.0           True   \n",
       "\n",
       "                       Started  fire_duration  PersonnelInvolved  \n",
       "466  2017-10-08 21:45:00+00:00     123.487500                NaN  \n",
       "467  2017-10-08 21:45:00+00:00     123.487500                NaN  \n",
       "891  2018-11-08 06:33:00+00:00      17.060417             1065.0  "
      ]
     },
     "execution_count": 73,
     "metadata": {},
     "output_type": "execute_result"
    }
   ],
   "source": [
    "worst_wildfires = cleaned_df[(cleaned_df.Fatalities > 20) & (cleaned_df.AcresBurned > 20000)].copy().filter(items=[\"AcresBurned\", \"Counties\", \"ArchiveYear\", \"Fatalities\", \"MajorIncident\", \"Started\", \"fire_duration\", \"PersonnelInvolved\"])\n",
    "worst_wildfires"
   ]
  },
  {
   "cell_type": "markdown",
   "id": "b48e725a",
   "metadata": {},
   "source": [
    "#### Observation 9\n",
    "\n",
    "The Worst wildfire occured in the Butte Counties on November, 2018 with 85 fatalities."
   ]
  },
  {
   "cell_type": "code",
   "execution_count": 74,
   "id": "3f9b5b2b",
   "metadata": {},
   "outputs": [
    {
     "data": {
      "text/html": [
       "<div>\n",
       "<style scoped>\n",
       "    .dataframe tbody tr th:only-of-type {\n",
       "        vertical-align: middle;\n",
       "    }\n",
       "\n",
       "    .dataframe tbody tr th {\n",
       "        vertical-align: top;\n",
       "    }\n",
       "\n",
       "    .dataframe thead th {\n",
       "        text-align: right;\n",
       "    }\n",
       "</style>\n",
       "<table border=\"1\" class=\"dataframe\">\n",
       "  <thead>\n",
       "    <tr style=\"text-align: right;\">\n",
       "      <th></th>\n",
       "      <th>AcresBurned</th>\n",
       "      <th>Counties</th>\n",
       "      <th>ArchiveYear</th>\n",
       "      <th>Fatalities</th>\n",
       "      <th>MajorIncident</th>\n",
       "      <th>Started</th>\n",
       "      <th>fire_duration</th>\n",
       "      <th>PersonnelInvolved</th>\n",
       "    </tr>\n",
       "  </thead>\n",
       "  <tbody>\n",
       "    <tr>\n",
       "      <th>455</th>\n",
       "      <td>281893.0</td>\n",
       "      <td>Santa Barbara</td>\n",
       "      <td>2017</td>\n",
       "      <td>NaN</td>\n",
       "      <td>True</td>\n",
       "      <td>2017-12-04 18:28:00+00:00</td>\n",
       "      <td>464.705556</td>\n",
       "      <td>NaN</td>\n",
       "    </tr>\n",
       "    <tr>\n",
       "      <th>456</th>\n",
       "      <td>281893.0</td>\n",
       "      <td>Ventura</td>\n",
       "      <td>2017</td>\n",
       "      <td>NaN</td>\n",
       "      <td>True</td>\n",
       "      <td>2017-12-04 18:28:00+00:00</td>\n",
       "      <td>464.705556</td>\n",
       "      <td>NaN</td>\n",
       "    </tr>\n",
       "    <tr>\n",
       "      <th>499</th>\n",
       "      <td>4016.0</td>\n",
       "      <td>Butte</td>\n",
       "      <td>2017</td>\n",
       "      <td>NaN</td>\n",
       "      <td>False</td>\n",
       "      <td>2017-08-29 13:16:00+00:00</td>\n",
       "      <td>366.090972</td>\n",
       "      <td>NaN</td>\n",
       "    </tr>\n",
       "  </tbody>\n",
       "</table>\n",
       "</div>"
      ],
      "text/plain": [
       "     AcresBurned       Counties  ArchiveYear  Fatalities  MajorIncident  \\\n",
       "455     281893.0  Santa Barbara         2017         NaN           True   \n",
       "456     281893.0        Ventura         2017         NaN           True   \n",
       "499       4016.0          Butte         2017         NaN          False   \n",
       "\n",
       "                       Started  fire_duration  PersonnelInvolved  \n",
       "455  2017-12-04 18:28:00+00:00     464.705556                NaN  \n",
       "456  2017-12-04 18:28:00+00:00     464.705556                NaN  \n",
       "499  2017-08-29 13:16:00+00:00     366.090972                NaN  "
      ]
     },
     "execution_count": 74,
     "metadata": {},
     "output_type": "execute_result"
    }
   ],
   "source": [
    "longest_wildfires = cleaned_df[(cleaned_df.fire_duration > 365)].copy().filter(items=[\"AcresBurned\", \"Counties\", \"ArchiveYear\", \"Fatalities\", \"MajorIncident\", \"Started\", \"fire_duration\", \"PersonnelInvolved\"])\n",
    "longest_wildfires"
   ]
  },
  {
   "cell_type": "markdown",
   "id": "0f958892",
   "metadata": {},
   "source": [
    "#### Observation 10\n",
    "\n",
    "Fires are either dealt-with relatively fast within 20 days or as large as upto 200 days. The longest being around ~ 450 days (Almost a year and half!!)\n",
    "\n",
    "The longest fire was Thomas Fire in the Los Padres National Forest that started on 2017 Dec and was extinguished in March 2019 with a total duration of 465 days."
   ]
  },
  {
   "cell_type": "markdown",
   "id": "04cb890a",
   "metadata": {},
   "source": [
    "#### Saving Plotly Visualisations in HTML file"
   ]
  },
  {
   "cell_type": "code",
   "execution_count": 75,
   "id": "efa50d22",
   "metadata": {},
   "outputs": [],
   "source": [
    "htmlTemplatePrefix = \"\"\"\n",
    "    <!DOCTYPE html>\n",
    "<html lang=\"en\">\n",
    "   <head>\n",
    "      <title>California Wildfire Analysis</title>\n",
    "      <meta charset=\"UTF-8\" />\n",
    "      <meta name=\"viewport\" content=\"width=device-width, initial-scale=1.0\" />\n",
    "      <link rel=\"stylesheet\" href=\"https://cdnjs.cloudflare.com/ajax/libs/font-awesome/6.5.0/css/all.min.css\">\n",
    "      <style type=\"text/css\">\n",
    "         * {\n",
    "            box-sizing: border-box;\n",
    "            padding: 0;\n",
    "            margin: 0;\n",
    "            border: none;\n",
    "         }\n",
    "\n",
    "         body {\n",
    "            width: 100vw;\n",
    "            height: 100vh;\n",
    "            background-color: #F9FAFB;\n",
    "         }\n",
    "\n",
    "         .heading {\n",
    "            width: 100%;\n",
    "            height: 150px;\n",
    "            background-color: tomato;\n",
    "            color: white;\n",
    "            display: flex;\n",
    "            flex-direction: column;\n",
    "            align-items: center;\n",
    "            justify-content: center;\n",
    "            row-gap: 10px;\n",
    "         }\n",
    "\n",
    "         .heading > h3 {\n",
    "            font-family:'Gill Sans', 'Gill Sans MT', Calibri, 'Trebuchet MS', sans-serif;\n",
    "            font-size: 38px;\n",
    "         }\n",
    "\n",
    "         .heading > p {\n",
    "            font-size: 20px;\n",
    "         }\n",
    "\n",
    "         .heading .icon {\n",
    "            color: white;\n",
    "            margin-right: 3px;\n",
    "         }\n",
    "\n",
    "         .cards-container {\n",
    "            width: 100%;\n",
    "            height: fit-content;\n",
    "            display: flex;\n",
    "            flex-direction: column;\n",
    "            align-items: center;\n",
    "            justify-content: space-evenly;\n",
    "            row-gap: 20px;\n",
    "            margin-top: 15px;\n",
    "         }\n",
    "\n",
    "         .card {\n",
    "            width: fit-content;\n",
    "            max-width: 1300px;\n",
    "            height: fit-content;\n",
    "            max-height: 1100px;\n",
    "            border: 1px solid #F9FAFB;\n",
    "            border-radius: 5px;\n",
    "            background-color: #FFFFFF;\n",
    "            padding: 15px;\n",
    "            box-shadow: -1px -1px 2px rgba(0, 0, 0, 0.2), 1px 1px 2px rgba(0, 0, 0, 0.2);\n",
    "         }\n",
    "\n",
    "        .key-insights {\n",
    "            background-color: #FEFBEB;\n",
    "            border: 1px solid #FCE68A;\n",
    "            color: #923F0F;\n",
    "            border-radius: 5px;\n",
    "            font-size: 16px;\n",
    "            padding: 10px;\n",
    "         }\n",
    "\n",
    "         .key-insights > p{\n",
    "            font-weight: bold;\n",
    "            margin-bottom: 20px;\n",
    "            width: 100%;\n",
    "         }\n",
    "\n",
    "         .key-insights > ul {\n",
    "            list-style-position: inside;\n",
    "            line-height: 20px;\n",
    "            width: 100%;\n",
    "         }\n",
    "\n",
    "         .summary {\n",
    "            background-color: #FAF5FF;\n",
    "            border: 1px solid #E9D5FF;\n",
    "            color: #6B21A8;\n",
    "            border-radius: 5px;\n",
    "            font-size: 16px;\n",
    "            padding: 10px;\n",
    "            width: fit-content;\n",
    "            max-width: 1300px;\n",
    "            height: fit-content;\n",
    "            max-height: 1100px;\n",
    "         }\n",
    "      </style>\n",
    "   </head>\n",
    "   <body>\n",
    "    <div class=\"heading\">\n",
    "        <h3><span class=\"icon\"><i class=\"fa-solid fa-fire\"></i></span> California Wildfire Analysis</h3>\n",
    "        <p>Analyze wildfire data in California from 2013 to 2019, exploring patterns, severity, and impact across different regions.</p>\n",
    "    </div>\n",
    "    <div class=\"cards-container\">\n",
    "\"\"\"\n",
    "\n",
    "htmlTemplateSuffix = \"\"\"\n",
    "        <div class=\"summary\">\n",
    "        <p>\n",
    "            <b>Summary:</b>\n",
    "            <br /><br />\n",
    "            The most significant insight from this analysis is that the years 2017 and 2018 experienced some of the highest numbers, most severe, and longest-lasting wildfires within the 2013–2018 period. However, it is evident that CAL FIRE recognized the shortcomings during these years and implemented corrective measures, which is reflected in the improved wildfire management and reduced incident severity observed in 2019.\n",
    "        </p>\n",
    "    </div>\n",
    "    </div>\n",
    "   </body>\n",
    "</html>\n",
    "\"\"\"\n",
    "\n",
    "htmlTemplate = f\"\"\"\n",
    "    {htmlTemplatePrefix}\n",
    "    <div class=\"card\">\n",
    "        {fig1.to_html(full_html=False, include_plotlyjs='cdn')}\n",
    "        <div class=\"key-insights\">\n",
    "            <p>Key Findings:</p>\n",
    "            <ul>\n",
    "                <li>During years 2017 and 2018, a large amount of land area was burned during the wildfires, compared to any other years.</li>\n",
    "                <li>The total number of incidents in 2018 was 28% less than the number of incidents in 2017.</li>\n",
    "                <li>The total land burned in 2018 was 97% more than the total land burned due to wildfires in 2017.</li>\n",
    "            </ul>\n",
    "         </div>\n",
    "    </div>\n",
    "    <div class=\"card\">\n",
    "        {fig2.to_html(full_html=False, include_plotlyjs='cdn')}\n",
    "        <div class=\"key-insights\">\n",
    "            <p>Key Findings:</p>\n",
    "            <ul>\n",
    "                <li>Nearly 87% of the land burned in California in 2018 was due to major wildfire incidents</li>\n",
    "                <li>Since 2016, major incidents have accounted for over 50% of all wildfire activity each year</li>\n",
    "            </ul>\n",
    "         </div>\n",
    "    </div>\n",
    "    <div class=\"card\">\n",
    "        {fig3.to_html(full_html=False, include_plotlyjs='cdn')}\n",
    "        <div class=\"key-insights\">\n",
    "            <p>Key Findings:</p>\n",
    "            <ul>\n",
    "                <li>The advancements in wildfire handling technology from 2013 to 2018 has led to lower number of personnel being capable of containing larger and expansive wildfires</li>\n",
    "                <li>Twice the number of wildfire incidents were handled by three-fourths of the workforce in 2018 than in 2013</li>\n",
    "            </ul>\n",
    "         </div>\n",
    "    </div>\n",
    "    <div class=\"card\">\n",
    "        {fig4.to_html(full_html=False, include_plotlyjs='cdn')}\n",
    "        <div class=\"key-insights\">\n",
    "            <p>Key Findings:</p>\n",
    "            <ul>\n",
    "                <li>Most administrative units handle approximately 15-20 wildfires over the entire 6 years with the wildfire prone counties handling between 80 and 120 wildfires over 6 years.</li>\n",
    "            </ul>\n",
    "         </div>\n",
    "    </div>\n",
    "    <div class=\"card\">\n",
    "        {fig5.to_html(full_html=False, include_plotlyjs='cdn')}\n",
    "        <div class=\"key-insights\">\n",
    "            <p>Key Findings:</p>\n",
    "            <ul>\n",
    "                <li>Riverside, San Luis Obispo, Butte and San Bernardino are the top four administrative zones dealing with a lot of wildfire incidents</li>\n",
    "            </ul>\n",
    "         </div>\n",
    "    </div>\n",
    "    <div class=\"card\">\n",
    "        {fig6.to_html(full_html=False, include_plotlyjs='cdn')}\n",
    "        <div class=\"key-insights\">\n",
    "            <p>Key Findings:</p>\n",
    "            <ul>\n",
    "                <li>68.3% of all incidents and nearly 95% of the total fatalities have occurred since 2017, with a significant concentration in the southeastern region of California, particularly within the Riverside Unit (RRU)</li>\n",
    "            </ul>\n",
    "         </div>\n",
    "    </div>\n",
    "    <div class=\"card\">\n",
    "        {fig7.to_html(full_html=False, include_plotlyjs='cdn')}\n",
    "        <div class=\"key-insights\">\n",
    "            <p>Key Findings:</p>\n",
    "            <ul>\n",
    "                <li>San Diego administrative unit has been in the top 5 wildfire handling units over all 7 years.</li>\n",
    "                <li>Riverside has handled wildfires only in the years 2013, 2017 and 2018, but the number of wildfires handled were significantly higher.</li>\n",
    "            </ul>\n",
    "         </div>\n",
    "    </div>\n",
    "    {htmlTemplateSuffix}\n",
    "\"\"\""
   ]
  },
  {
   "cell_type": "code",
   "execution_count": 76,
   "id": "289f4d4f",
   "metadata": {},
   "outputs": [],
   "source": [
    "with open(\"index.html\", \"w+\") as f:\n",
    "    f.write(htmlTemplate)"
   ]
  },
  {
   "cell_type": "markdown",
   "id": "34501075",
   "metadata": {},
   "source": [
    "### Summary\n",
    "\n",
    "The most significant insight from this analysis is that the years 2017 and 2018 experienced some of the highest numbers, most severe, and longest-lasting wildfires within the 2013–2018 period. However, it is evident that CAL FIRE recognized the shortcomings during these years and implemented corrective measures, which is reflected in the improved wildfire management and reduced incident severity observed in 2019.\n",
    "\n",
    "In summary,\n",
    "- The total number of incidents in the year 2018 is less than that of 2017 by 28 % where as the land area affected is about 187% more. This means that, in totality, the wildfires in 2018 were severe and larger.\n",
    "- (Severity) The percentage of major fire incident has been more than 50 % since 2016 until 2019.\n",
    "- (Learning from the Past) The number of wildfires in the year 2019 is much lower than that of 2018 because of the serverity of the wildfires in 2018 that resulted in extra funding, equipment and better handling of wildfires in 2019 as mentioned in California State Budget Summary.\n",
    "- (Technological Progress) Due to advancements in wildfire handling technology, lower number of deployed personnel can handle larger and expansive of wildfires as evident from the years 2013 and 2018 where in 2018 the number of wildfires in 200 % whereas the personnel deployed is less than by around 23 %. A similar conclusion can be drawn for the number of water tenders involved.\n",
    "- (Who does how much) A Fire Administrative unit handles around 15-20 fires in the span of 6 years. The most wildfire prone regions handle at a maximum of 80-120 wildfires.\n",
    "- Looking at the administrative zones for the California Fire Dept. (shown below) we observe that the Riverside, San Diego, San Luis Obispo and Shasta-Trinity Unit are the top four administrative zones dealing with fire.\n",
    "- San Diego Fire Unit has been in the top 5 wildires handling unit throughout the years (2013-2019).\n",
    "- Riverside Fire Unit has handled wildfires only in years 2013, 2017 and 2018, yet has still handled the most number of incidents than any other unit (2013-2019).\n",
    "- There has been an increase in severity of wildfires upto 68.3 % of all the wildfires and total fatalities occuring being 95 % of all the fatalities since 2017 which are mostly concentrated towards south-east region of California - Riverside Unit (RRU) and San Diego Fire Unit.\n",
    "- The Worst wildfire occured in the Butte Counties on November, 2018 with 85 fatalities.\n",
    "- Wildfires with long fire durations occured in the years 2017 and 2018. With an average duration of around 190 hours, orders of magnitude larger than in other years.\n",
    "- Fires are either dealt-with relatively fast within 20 days or as large as upto 200 days. The longest being around ~ 450 days.\n",
    "- The longest fire was Thomas Fire in the Los Padres National Forest that started on 2017 Dec and was extinguished in March 2019 with a total duration of 465 days."
   ]
  }
 ],
 "metadata": {
  "kernelspec": {
   "display_name": "wildfire-analysis",
   "language": "python",
   "name": "python3"
  },
  "language_info": {
   "codemirror_mode": {
    "name": "ipython",
    "version": 3
   },
   "file_extension": ".py",
   "mimetype": "text/x-python",
   "name": "python",
   "nbconvert_exporter": "python",
   "pygments_lexer": "ipython3",
   "version": "3.13.1"
  }
 },
 "nbformat": 4,
 "nbformat_minor": 5
}
